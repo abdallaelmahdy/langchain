{
 "cells": [
  {
   "cell_type": "code",
   "execution_count": 1,
   "id": "ab5b550b",
   "metadata": {
    "execution": {
     "iopub.execute_input": "2025-01-24T20:24:06.541188Z",
     "iopub.status.busy": "2025-01-24T20:24:06.540835Z",
     "iopub.status.idle": "2025-01-24T20:27:41.778037Z",
     "shell.execute_reply": "2025-01-24T20:27:41.776773Z"
    },
    "papermill": {
     "duration": 215.248269,
     "end_time": "2025-01-24T20:27:41.780733",
     "exception": false,
     "start_time": "2025-01-24T20:24:06.532464",
     "status": "completed"
    },
    "tags": []
   },
   "outputs": [
    {
     "name": "stdout",
     "output_type": "stream",
     "text": [
      "\u001b[31mERROR: pip's dependency resolver does not currently take into account all the packages that are installed. This behaviour is the source of the following dependency conflicts.\r\n",
      "keras-cv 0.9.0 requires keras-core, which is not installed.\r\n",
      "keras-nlp 0.12.1 requires keras-core, which is not installed.\r\n",
      "tensorflow-decision-forests 1.8.1 requires wurlitzer, which is not installed.\r\n",
      "apache-beam 2.46.0 requires dill<0.3.2,>=0.3.1.1, but you have dill 0.3.8 which is incompatible.\r\n",
      "apache-beam 2.46.0 requires numpy<1.25.0,>=1.14.3, but you have numpy 1.26.4 which is incompatible.\r\n",
      "apache-beam 2.46.0 requires pyarrow<10.0.0,>=3.0.0, but you have pyarrow 16.1.0 which is incompatible.\r\n",
      "google-cloud-bigquery 2.34.4 requires packaging<22.0dev,>=14.3, but you have packaging 24.2 which is incompatible.\r\n",
      "jupyterlab 4.2.1 requires jupyter-lsp>=2.0.0, but you have jupyter-lsp 1.5.1 which is incompatible.\r\n",
      "jupyterlab-lsp 5.1.0 requires jupyter-lsp>=2.0.0, but you have jupyter-lsp 1.5.1 which is incompatible.\r\n",
      "kfp 2.5.0 requires google-cloud-storage<3,>=2.2.1, but you have google-cloud-storage 1.44.0 which is incompatible.\r\n",
      "kfp 2.5.0 requires requests-toolbelt<1,>=0.8.0, but you have requests-toolbelt 1.0.0 which is incompatible.\r\n",
      "libpysal 4.9.2 requires shapely>=2.0.1, but you have shapely 1.8.5.post1 which is incompatible.\r\n",
      "momepy 0.7.0 requires shapely>=2, but you have shapely 1.8.5.post1 which is incompatible.\r\n",
      "osmnx 1.9.3 requires shapely>=2.0, but you have shapely 1.8.5.post1 which is incompatible.\r\n",
      "spopt 0.6.0 requires shapely>=2.0.1, but you have shapely 1.8.5.post1 which is incompatible.\r\n",
      "tensorflow 2.15.0 requires keras<2.16,>=2.15.0, but you have keras 3.3.3 which is incompatible.\r\n",
      "ydata-profiling 4.6.4 requires numpy<1.26,>=1.16.0, but you have numpy 1.26.4 which is incompatible.\u001b[0m\u001b[31m\r\n",
      "\u001b[0m\u001b[31mERROR: pip's dependency resolver does not currently take into account all the packages that are installed. This behaviour is the source of the following dependency conflicts.\r\n",
      "jupyterlab 4.2.1 requires jupyter-lsp>=2.0.0, but you have jupyter-lsp 1.5.1 which is incompatible.\r\n",
      "jupyterlab-lsp 5.1.0 requires jupyter-lsp>=2.0.0, but you have jupyter-lsp 1.5.1 which is incompatible.\r\n",
      "ypy-websocket 0.8.4 requires aiofiles<23,>=22.1.0, but you have aiofiles 24.1.0 which is incompatible.\u001b[0m\u001b[31m\r\n",
      "\u001b[0m\u001b[33mWARNING: Error parsing requirements for nest-asyncio: [Errno 2] No such file or directory: '/opt/conda/lib/python3.10/site-packages/nest_asyncio-1.5.8.dist-info/METADATA'\u001b[0m\u001b[33m\r\n",
      "\u001b[0m\u001b[33mWARNING: Error parsing requirements for nest-asyncio: [Errno 2] No such file or directory: '/opt/conda/lib/python3.10/site-packages/nest_asyncio-1.5.8.dist-info/METADATA'\u001b[0m\u001b[33m\r\n",
      "\u001b[0m\u001b[33mWARNING: Error parsing requirements for nest-asyncio: [Errno 2] No such file or directory: '/opt/conda/lib/python3.10/site-packages/nest_asyncio-1.5.8.dist-info/METADATA'\u001b[0m\u001b[33m\r\n",
      "\u001b[0m\u001b[33mWARNING: Error parsing requirements for nest-asyncio: [Errno 2] No such file or directory: '/opt/conda/lib/python3.10/site-packages/nest_asyncio-1.5.8.dist-info/METADATA'\u001b[0m\u001b[33m\r\n",
      "\u001b[0m\u001b[33mWARNING: Error parsing requirements for nest-asyncio: [Errno 2] No such file or directory: '/opt/conda/lib/python3.10/site-packages/nest_asyncio-1.5.8.dist-info/METADATA'\u001b[0m\u001b[33m\r\n",
      "\u001b[0m\u001b[33mWARNING: Error parsing requirements for nest-asyncio: [Errno 2] No such file or directory: '/opt/conda/lib/python3.10/site-packages/nest_asyncio-1.5.8.dist-info/METADATA'\u001b[0m\u001b[33m\r\n",
      "\u001b[0m\u001b[31mERROR: pip's dependency resolver does not currently take into account all the packages that are installed. This behaviour is the source of the following dependency conflicts.\r\n",
      "kfp 2.5.0 requires google-cloud-storage<3,>=2.2.1, but you have google-cloud-storage 1.44.0 which is incompatible.\r\n",
      "kfp 2.5.0 requires kubernetes<27,>=8.0.0, but you have kubernetes 32.0.0 which is incompatible.\r\n",
      "kfp 2.5.0 requires requests-toolbelt<1,>=0.8.0, but you have requests-toolbelt 1.0.0 which is incompatible.\u001b[0m\u001b[31m\r\n",
      "\u001b[0m\u001b[33mWARNING: Error parsing requirements for nest-asyncio: [Errno 2] No such file or directory: '/opt/conda/lib/python3.10/site-packages/nest_asyncio-1.5.8.dist-info/METADATA'\u001b[0m\u001b[33m\r\n",
      "\u001b[0m"
     ]
    }
   ],
   "source": [
    "!pip install LangChain -q\n",
    "!pip install -U langchain-community -q\n",
    "!pip install pypdf -q\n",
    "!pip install yt_dlp -q\n",
    "!pip install pydub -q\n",
    "!pip install unstructured -q\n",
    "!pip install docx2txt -q\n",
    "!pip install openai -q\n",
    "!pip install python-dotenv -q\n",
    "!pip install xlrd -q\n",
    "!pip install tiktoken -q\n",
    "!pip install chromadb -q\n",
    "!pip install lark -q"
   ]
  },
  {
   "cell_type": "code",
   "execution_count": 2,
   "id": "5fa4c8c0",
   "metadata": {
    "execution": {
     "iopub.execute_input": "2025-01-24T20:27:41.797560Z",
     "iopub.status.busy": "2025-01-24T20:27:41.797206Z",
     "iopub.status.idle": "2025-01-24T20:27:42.827322Z",
     "shell.execute_reply": "2025-01-24T20:27:42.825695Z"
    },
    "papermill": {
     "duration": 1.041744,
     "end_time": "2025-01-24T20:27:42.829971",
     "exception": false,
     "start_time": "2025-01-24T20:27:41.788227",
     "status": "completed"
    },
    "tags": []
   },
   "outputs": [],
   "source": [
    "from openai import OpenAI\n",
    "import openai\n",
    "import os\n",
    "import numpy as np\n",
    "from kaggle_secrets import UserSecretsClient\n",
    "\n",
    "user_secrets = UserSecretsClient()\n",
    "openai.api_key = user_secrets.get_secret(\"openai_api\")\n",
    "client = OpenAI(\n",
    "    # This is the default and can be omitted\n",
    "    api_key=openai.api_key,\n",
    ")\n",
    "\n",
    "llm_model = \"GPT-4o\""
   ]
  },
  {
   "cell_type": "code",
   "execution_count": 3,
   "id": "602e842a",
   "metadata": {
    "execution": {
     "iopub.execute_input": "2025-01-24T20:27:42.864318Z",
     "iopub.status.busy": "2025-01-24T20:27:42.863819Z",
     "iopub.status.idle": "2025-01-24T20:27:50.795330Z",
     "shell.execute_reply": "2025-01-24T20:27:50.794127Z"
    },
    "papermill": {
     "duration": 7.94357,
     "end_time": "2025-01-24T20:27:50.797699",
     "exception": false,
     "start_time": "2025-01-24T20:27:42.854129",
     "status": "completed"
    },
    "tags": []
   },
   "outputs": [
    {
     "name": "stderr",
     "output_type": "stream",
     "text": [
      "/tmp/ipykernel_18/983296141.py:6: LangChainDeprecationWarning: The class `OpenAIEmbeddings` was deprecated in LangChain 0.0.9 and will be removed in 1.0. An updated version of the class exists in the :class:`~langchain-openai package and should be used instead. To use it run `pip install -U :class:`~langchain-openai` and import as `from :class:`~langchain_openai import OpenAIEmbeddings``.\n",
      "  embedding = OpenAIEmbeddings(openai_api_key=openai.api_key)\n"
     ]
    },
    {
     "name": "stdout",
     "output_type": "stream",
     "text": [
      "209\n"
     ]
    }
   ],
   "source": [
    "from langchain.embeddings.openai import OpenAIEmbeddings\n",
    "from langchain.document_loaders import PyPDFLoader\n",
    "from langchain.text_splitter import RecursiveCharacterTextSplitter\n",
    "from langchain.vectorstores import Chroma\n",
    "\n",
    "embedding = OpenAIEmbeddings(openai_api_key=openai.api_key)\n",
    "\n",
    "# Load PDF\n",
    "loaders = [\n",
    "    # Duplicate documents on purpose - messy data\n",
    "    PyPDFLoader(\"/kaggle/input/machine-learning-lectures/MachineLearning-Lecture01.pdf\"),\n",
    "    PyPDFLoader(\"/kaggle/input/machine-learning-lectures/MachineLearning-Lecture01.pdf\"),\n",
    "    PyPDFLoader(\"/kaggle/input/machine-learning-lectures/MachineLearning-Lecture02.pdf\"),\n",
    "    PyPDFLoader(\"/kaggle/input/machine-learning-lectures/MachineLearning-Lecture03.pdf\")\n",
    "]\n",
    "docs = []\n",
    "for loader in loaders:\n",
    "    docs.extend(loader.load())\n",
    "\n",
    "\n",
    "text_splitter = RecursiveCharacterTextSplitter(\n",
    "    chunk_size = 1500,\n",
    "    chunk_overlap = 150\n",
    ")\n",
    "\n",
    "splits = text_splitter.split_documents(docs)\n",
    "len(splits)\n",
    "    \n",
    "persist_directory = 'docs/chroma/'\n",
    "!rm -rf ./docs/chroma  # remove old database files if any\n",
    "\n",
    "vectordb = Chroma.from_documents(\n",
    "    documents=splits,\n",
    "    embedding=embedding,\n",
    "    persist_directory=persist_directory\n",
    ")\n",
    "\n",
    "print(vectordb._collection.count())"
   ]
  },
  {
   "cell_type": "code",
   "execution_count": 4,
   "id": "baf489b4",
   "metadata": {
    "execution": {
     "iopub.execute_input": "2025-01-24T20:27:50.830978Z",
     "iopub.status.busy": "2025-01-24T20:27:50.830587Z",
     "iopub.status.idle": "2025-01-24T20:27:51.355123Z",
     "shell.execute_reply": "2025-01-24T20:27:51.354160Z"
    },
    "papermill": {
     "duration": 0.537197,
     "end_time": "2025-01-24T20:27:51.358485",
     "exception": false,
     "start_time": "2025-01-24T20:27:50.821288",
     "status": "completed"
    },
    "tags": []
   },
   "outputs": [
    {
     "data": {
      "text/plain": [
       "3"
      ]
     },
     "execution_count": 4,
     "metadata": {},
     "output_type": "execute_result"
    }
   ],
   "source": [
    "question = \"What are major topics for this class?\"\n",
    "docs = vectordb.similarity_search(question,k=3)\n",
    "len(docs)"
   ]
  },
  {
   "cell_type": "code",
   "execution_count": 5,
   "id": "fa7f410c",
   "metadata": {
    "execution": {
     "iopub.execute_input": "2025-01-24T20:27:51.398747Z",
     "iopub.status.busy": "2025-01-24T20:27:51.397567Z",
     "iopub.status.idle": "2025-01-24T20:27:51.786785Z",
     "shell.execute_reply": "2025-01-24T20:27:51.785323Z"
    },
    "papermill": {
     "duration": 0.402057,
     "end_time": "2025-01-24T20:27:51.789663",
     "exception": false,
     "start_time": "2025-01-24T20:27:51.387606",
     "status": "completed"
    },
    "tags": []
   },
   "outputs": [
    {
     "name": "stderr",
     "output_type": "stream",
     "text": [
      "/tmp/ipykernel_18/12768340.py:10: LangChainDeprecationWarning: The class `ChatOpenAI` was deprecated in LangChain 0.0.10 and will be removed in 1.0. An updated version of the class exists in the :class:`~langchain-openai package and should be used instead. To use it run `pip install -U :class:`~langchain-openai` and import as `from :class:`~langchain_openai import ChatOpenAI``.\n",
      "  llm = ChatOpenAI(model_name=llm_model, temperature=0, openai_api_key=OPENAI_API_KEY)\n"
     ]
    }
   ],
   "source": [
    "from langchain.chat_models import ChatOpenAI\n",
    "\n",
    "# Fetch OpenAI API key securely\n",
    "user_secrets = UserSecretsClient()\n",
    "OPENAI_API_KEY = user_secrets.get_secret(\"openai_api\")\n",
    "\n",
    "llm_model = \"gpt-4\" \n",
    "\n",
    "# Initialize the LLM\n",
    "llm = ChatOpenAI(model_name=llm_model, temperature=0, openai_api_key=OPENAI_API_KEY)"
   ]
  },
  {
   "cell_type": "code",
   "execution_count": 6,
   "id": "0f79a754",
   "metadata": {
    "execution": {
     "iopub.execute_input": "2025-01-24T20:27:51.828219Z",
     "iopub.status.busy": "2025-01-24T20:27:51.827541Z",
     "iopub.status.idle": "2025-01-24T20:27:54.090377Z",
     "shell.execute_reply": "2025-01-24T20:27:54.089388Z"
    },
    "papermill": {
     "duration": 2.276154,
     "end_time": "2025-01-24T20:27:54.092730",
     "exception": false,
     "start_time": "2025-01-24T20:27:51.816576",
     "status": "completed"
    },
    "tags": []
   },
   "outputs": [
    {
     "name": "stderr",
     "output_type": "stream",
     "text": [
      "/tmp/ipykernel_18/3777959211.py:10: LangChainDeprecationWarning: The method `Chain.__call__` was deprecated in langchain 0.1.0 and will be removed in 1.0. Use :meth:`~invoke` instead.\n",
      "  result = qa_chain({\"query\": question})\n"
     ]
    },
    {
     "name": "stdout",
     "output_type": "stream",
     "text": [
      "The major topics for this class include statistics, algebra, and machine learning.\n"
     ]
    }
   ],
   "source": [
    "from langchain.chains import RetrievalQA\n",
    "\n",
    "# Create the QA chain with the retriever\n",
    "qa_chain = RetrievalQA.from_chain_type(\n",
    "    llm=llm,\n",
    "    retriever=vectordb.as_retriever()  # Ensure vectordb is properly set up\n",
    ")\n",
    "\n",
    "# Query the chain\n",
    "result = qa_chain({\"query\": question})\n",
    "print(result[\"result\"])\n"
   ]
  },
  {
   "cell_type": "code",
   "execution_count": 7,
   "id": "9d824e67",
   "metadata": {
    "execution": {
     "iopub.execute_input": "2025-01-24T20:27:54.127423Z",
     "iopub.status.busy": "2025-01-24T20:27:54.127074Z",
     "iopub.status.idle": "2025-01-24T20:27:54.134692Z",
     "shell.execute_reply": "2025-01-24T20:27:54.133726Z"
    },
    "papermill": {
     "duration": 0.019116,
     "end_time": "2025-01-24T20:27:54.136901",
     "exception": false,
     "start_time": "2025-01-24T20:27:54.117785",
     "status": "completed"
    },
    "tags": []
   },
   "outputs": [],
   "source": [
    "from langchain.prompts import PromptTemplate\n",
    "\n",
    "# Build prompt\n",
    "template = \"\"\"Use the following pieces of context to answer the question at the end. If you don't know the answer, just say that you don't know, don't try to make up an answer. Use three sentences maximum. Keep the answer as concise as possible. Always say \"thanks for asking!\" at the end of the answer. \n",
    "{context}\n",
    "Question: {question}\n",
    "Helpful Answer:\"\"\"\n",
    "QA_CHAIN_PROMPT = PromptTemplate.from_template(template)"
   ]
  },
  {
   "cell_type": "code",
   "execution_count": 8,
   "id": "4e259f63",
   "metadata": {
    "execution": {
     "iopub.execute_input": "2025-01-24T20:27:54.170971Z",
     "iopub.status.busy": "2025-01-24T20:27:54.170544Z",
     "iopub.status.idle": "2025-01-24T20:27:54.175797Z",
     "shell.execute_reply": "2025-01-24T20:27:54.174719Z"
    },
    "papermill": {
     "duration": 0.016578,
     "end_time": "2025-01-24T20:27:54.177973",
     "exception": false,
     "start_time": "2025-01-24T20:27:54.161395",
     "status": "completed"
    },
    "tags": []
   },
   "outputs": [],
   "source": [
    "# Run chain\n",
    "qa_chain = RetrievalQA.from_chain_type(\n",
    "    llm,\n",
    "    retriever=vectordb.as_retriever(),\n",
    "    return_source_documents=True,\n",
    "    chain_type_kwargs={\"prompt\": QA_CHAIN_PROMPT}\n",
    ")\n"
   ]
  },
  {
   "cell_type": "code",
   "execution_count": 9,
   "id": "00f5fc46",
   "metadata": {
    "execution": {
     "iopub.execute_input": "2025-01-24T20:27:54.212853Z",
     "iopub.status.busy": "2025-01-24T20:27:54.212415Z",
     "iopub.status.idle": "2025-01-24T20:27:56.665104Z",
     "shell.execute_reply": "2025-01-24T20:27:56.663820Z"
    },
    "papermill": {
     "duration": 2.46469,
     "end_time": "2025-01-24T20:27:56.667611",
     "exception": false,
     "start_time": "2025-01-24T20:27:54.202921",
     "status": "completed"
    },
    "tags": []
   },
   "outputs": [
    {
     "data": {
      "text/plain": [
       "\"Yes, basic probability and statistics are assumed knowledge for this class. However, if it's been a while since you've studied these topics, they will be reviewed in the discussion sections. Thanks for asking!\""
      ]
     },
     "execution_count": 9,
     "metadata": {},
     "output_type": "execute_result"
    }
   ],
   "source": [
    "question = \"Is probability a class topic?\"\n",
    "result = qa_chain({\"query\": question})\n",
    "result[\"result\"]\n"
   ]
  },
  {
   "cell_type": "code",
   "execution_count": 10,
   "id": "d0a46405",
   "metadata": {
    "execution": {
     "iopub.execute_input": "2025-01-24T20:27:56.712864Z",
     "iopub.status.busy": "2025-01-24T20:27:56.712388Z",
     "iopub.status.idle": "2025-01-24T20:27:56.720852Z",
     "shell.execute_reply": "2025-01-24T20:27:56.719659Z"
    },
    "papermill": {
     "duration": 0.022665,
     "end_time": "2025-01-24T20:27:56.724071",
     "exception": false,
     "start_time": "2025-01-24T20:27:56.701406",
     "status": "completed"
    },
    "tags": []
   },
   "outputs": [
    {
     "data": {
      "text/plain": [
       "Document(metadata={'page': 4, 'page_label': '5', 'source': '/kaggle/input/machine-learning-lectures/MachineLearning-Lecture01.pdf'}, page_content=\"of this class will not be very program ming intensive, although we will do some \\nprogramming, mostly in either MATLAB or Octa ve. I'll say a bit more about that later.  \\nI also assume familiarity with basic proba bility and statistics. So most undergraduate \\nstatistics class, like Stat 116 taught here at Stanford, will be more than enough. I'm gonna \\nassume all of you know what ra ndom variables are, that all of you know what expectation \\nis, what a variance or a random variable is. And in case of some of you, it's been a while \\nsince you've seen some of this material. At some of the discussion sections, we'll actually \\ngo over some of the prerequisites, sort of as  a refresher course under prerequisite class. \\nI'll say a bit more about that later as well.  \\nLastly, I also assume familiarity with basi c linear algebra. And again, most undergraduate \\nlinear algebra courses are more than enough. So if you've taken courses like Math 51, \\n103, Math 113 or CS205 at Stanford, that would be more than enough. Basically, I'm \\ngonna assume that all of you know what matrix es and vectors are, that you know how to \\nmultiply matrices and vectors and multiply matrix and matrices, that you know what a matrix inverse is. If you know what an eigenvect or of a matrix is, that'd be even better. \\nBut if you don't quite know or if you're not qu ite sure, that's fine, too. We'll go over it in \\nthe review sections.\")"
      ]
     },
     "execution_count": 10,
     "metadata": {},
     "output_type": "execute_result"
    }
   ],
   "source": [
    "result[\"source_documents\"][0]"
   ]
  },
  {
   "cell_type": "code",
   "execution_count": 11,
   "id": "0077f366",
   "metadata": {
    "execution": {
     "iopub.execute_input": "2025-01-24T20:27:56.764177Z",
     "iopub.status.busy": "2025-01-24T20:27:56.763607Z",
     "iopub.status.idle": "2025-01-24T20:27:56.770503Z",
     "shell.execute_reply": "2025-01-24T20:27:56.769155Z"
    },
    "papermill": {
     "duration": 0.022512,
     "end_time": "2025-01-24T20:27:56.773069",
     "exception": false,
     "start_time": "2025-01-24T20:27:56.750557",
     "status": "completed"
    },
    "tags": []
   },
   "outputs": [],
   "source": [
    "question = \"Is probability a class topic?\"\n",
    "\n",
    "qa_chain_mr = RetrievalQA.from_chain_type(\n",
    "    llm,\n",
    "    retriever=vectordb.as_retriever(),\n",
    "    chain_type=\"map_reduce\",\n",
    ")\n"
   ]
  },
  {
   "cell_type": "code",
   "execution_count": 12,
   "id": "7daee4ce",
   "metadata": {
    "execution": {
     "iopub.execute_input": "2025-01-24T20:27:56.813407Z",
     "iopub.status.busy": "2025-01-24T20:27:56.812923Z",
     "iopub.status.idle": "2025-01-24T20:28:07.209848Z",
     "shell.execute_reply": "2025-01-24T20:28:07.208381Z"
    },
    "papermill": {
     "duration": 10.411054,
     "end_time": "2025-01-24T20:28:07.212669",
     "exception": false,
     "start_time": "2025-01-24T20:27:56.801615",
     "status": "completed"
    },
    "tags": []
   },
   "outputs": [
    {
     "data": {
      "text/plain": [
       "'The text does not provide information on probability being a class topic.'"
      ]
     },
     "execution_count": 12,
     "metadata": {},
     "output_type": "execute_result"
    }
   ],
   "source": [
    "result = qa_chain_mr({\"query\": question})\n",
    "result[\"result\"]\n"
   ]
  },
  {
   "cell_type": "code",
   "execution_count": 13,
   "id": "93f1b1fe",
   "metadata": {
    "execution": {
     "iopub.execute_input": "2025-01-24T20:28:07.253132Z",
     "iopub.status.busy": "2025-01-24T20:28:07.252618Z",
     "iopub.status.idle": "2025-01-24T20:28:19.365043Z",
     "shell.execute_reply": "2025-01-24T20:28:19.363604Z"
    },
    "papermill": {
     "duration": 12.126003,
     "end_time": "2025-01-24T20:28:19.367892",
     "exception": false,
     "start_time": "2025-01-24T20:28:07.241889",
     "status": "completed"
    },
    "tags": []
   },
   "outputs": [
    {
     "data": {
      "text/plain": [
       "'Yes, probability is indeed a topic covered in this class. It is fundamental to understanding and interpreting linear regression and deriving learning algorithms. We will also be introducing a classification algorithm, which is particularly useful in scenarios with binary outcomes, such as medical diagnoses or predicting housing sales. For those who may need a refresher on related topics like statistics or algebra, we will cover these in the discussion sections. As the quarter progresses, we will also use these discussion sections to delve into extensions of the main lecture material, given the vastness of the field of machine learning.'"
      ]
     },
     "execution_count": 13,
     "metadata": {},
     "output_type": "execute_result"
    }
   ],
   "source": [
    "qa_chain_mr = RetrievalQA.from_chain_type(\n",
    "    llm,\n",
    "    retriever=vectordb.as_retriever(),\n",
    "    chain_type=\"refine\"\n",
    ")\n",
    "result = qa_chain_mr({\"query\": question})\n",
    "result[\"result\"]\n"
   ]
  },
  {
   "cell_type": "code",
   "execution_count": 14,
   "id": "e728d64c",
   "metadata": {
    "execution": {
     "iopub.execute_input": "2025-01-24T20:28:19.406800Z",
     "iopub.status.busy": "2025-01-24T20:28:19.406301Z",
     "iopub.status.idle": "2025-01-24T20:28:19.412476Z",
     "shell.execute_reply": "2025-01-24T20:28:19.411430Z"
    },
    "papermill": {
     "duration": 0.020161,
     "end_time": "2025-01-24T20:28:19.414993",
     "exception": false,
     "start_time": "2025-01-24T20:28:19.394832",
     "status": "completed"
    },
    "tags": []
   },
   "outputs": [],
   "source": [
    "qa_chain = RetrievalQA.from_chain_type(\n",
    "    llm,\n",
    "    retriever=vectordb.as_retriever()\n",
    ")\n"
   ]
  },
  {
   "cell_type": "code",
   "execution_count": 15,
   "id": "0d05bd17",
   "metadata": {
    "execution": {
     "iopub.execute_input": "2025-01-24T20:28:19.453560Z",
     "iopub.status.busy": "2025-01-24T20:28:19.453100Z",
     "iopub.status.idle": "2025-01-24T20:28:21.645950Z",
     "shell.execute_reply": "2025-01-24T20:28:21.644705Z"
    },
    "papermill": {
     "duration": 2.20591,
     "end_time": "2025-01-24T20:28:21.648364",
     "exception": false,
     "start_time": "2025-01-24T20:28:19.442454",
     "status": "completed"
    },
    "tags": []
   },
   "outputs": [
    {
     "data": {
      "text/plain": [
       "'Yes, basic probability and statistics are assumed knowledge for this class. The instructor assumes that all students know what random variables are, what expectation is, and what the variance of a random variable is. If some students need a refresher on these topics, they will be covered in the discussion sections.'"
      ]
     },
     "execution_count": 15,
     "metadata": {},
     "output_type": "execute_result"
    }
   ],
   "source": [
    "question = \"Is probability a class topic?\"\n",
    "result = qa_chain({\"query\": question})\n",
    "result[\"result\"]"
   ]
  },
  {
   "cell_type": "code",
   "execution_count": 16,
   "id": "382bad8a",
   "metadata": {
    "execution": {
     "iopub.execute_input": "2025-01-24T20:28:21.687398Z",
     "iopub.status.busy": "2025-01-24T20:28:21.686956Z",
     "iopub.status.idle": "2025-01-24T20:28:28.757727Z",
     "shell.execute_reply": "2025-01-24T20:28:28.756383Z"
    },
    "papermill": {
     "duration": 7.084471,
     "end_time": "2025-01-24T20:28:28.760584",
     "exception": false,
     "start_time": "2025-01-24T20:28:21.676113",
     "status": "completed"
    },
    "tags": []
   },
   "outputs": [
    {
     "data": {
      "text/plain": [
       "'The prerequisites are needed because the class involves understanding and applying complex machine learning algorithms. Basic knowledge of computer science is required to understand the programming and algorithmic aspects of the course. Familiarity with big O notation is important for understanding the time and space complexity of these algorithms. \\n\\nThe course also involves some programming, mostly in MATLAB or Octave, hence the need for basic computer skills. \\n\\nUnderstanding of basic probability and statistics is crucial because many machine learning algorithms are based on statistical concepts such as random variables, expectation, and variance. \\n\\nLastly, familiarity with basic linear algebra is needed because operations on matrices and vectors are fundamental in many machine learning algorithms. Knowing how to multiply matrices and vectors, understanding matrix inverses, and knowing what an eigenvector of a matrix is, are all important for understanding and implementing these algorithms.'"
      ]
     },
     "execution_count": 16,
     "metadata": {},
     "output_type": "execute_result"
    }
   ],
   "source": [
    "question = \"why are those prerequesites needed?\"\n",
    "result = qa_chain({\"query\": question})\n",
    "result[\"result\"]\n"
   ]
  }
 ],
 "metadata": {
  "kaggle": {
   "accelerator": "none",
   "dataSources": [
    {
     "datasetId": 5344260,
     "sourceId": 8879570,
     "sourceType": "datasetVersion"
    }
   ],
   "dockerImageVersionId": 30732,
   "isGpuEnabled": false,
   "isInternetEnabled": true,
   "language": "python",
   "sourceType": "notebook"
  },
  "kernelspec": {
   "display_name": "Python 3",
   "language": "python",
   "name": "python3"
  },
  "language_info": {
   "codemirror_mode": {
    "name": "ipython",
    "version": 3
   },
   "file_extension": ".py",
   "mimetype": "text/x-python",
   "name": "python",
   "nbconvert_exporter": "python",
   "pygments_lexer": "ipython3",
   "version": "3.10.13"
  },
  "papermill": {
   "default_parameters": {},
   "duration": 267.177309,
   "end_time": "2025-01-24T20:28:30.037371",
   "environment_variables": {},
   "exception": null,
   "input_path": "__notebook__.ipynb",
   "output_path": "__notebook__.ipynb",
   "parameters": {},
   "start_time": "2025-01-24T20:24:02.860062",
   "version": "2.5.0"
  }
 },
 "nbformat": 4,
 "nbformat_minor": 5
}
