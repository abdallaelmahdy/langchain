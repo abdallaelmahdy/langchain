{
 "cells": [
  {
   "cell_type": "code",
   "execution_count": 1,
   "id": "b5b0b18b",
   "metadata": {
    "execution": {
     "iopub.execute_input": "2024-06-16T15:34:52.441794Z",
     "iopub.status.busy": "2024-06-16T15:34:52.441311Z",
     "iopub.status.idle": "2024-06-16T15:36:56.137238Z",
     "shell.execute_reply": "2024-06-16T15:36:56.135725Z"
    },
    "papermill": {
     "duration": 123.710301,
     "end_time": "2024-06-16T15:36:56.140341",
     "exception": false,
     "start_time": "2024-06-16T15:34:52.430040",
     "status": "completed"
    },
    "tags": []
   },
   "outputs": [
    {
     "name": "stdout",
     "output_type": "stream",
     "text": [
      "Collecting langchain\r\n",
      "  Downloading langchain-0.2.5-py3-none-any.whl.metadata (7.0 kB)\r\n",
      "Requirement already satisfied: PyYAML>=5.3 in /opt/conda/lib/python3.10/site-packages (from langchain) (6.0.1)\r\n",
      "Requirement already satisfied: SQLAlchemy<3,>=1.4 in /opt/conda/lib/python3.10/site-packages (from langchain) (2.0.25)\r\n",
      "Requirement already satisfied: aiohttp<4.0.0,>=3.8.3 in /opt/conda/lib/python3.10/site-packages (from langchain) (3.9.1)\r\n",
      "Requirement already satisfied: async-timeout<5.0.0,>=4.0.0 in /opt/conda/lib/python3.10/site-packages (from langchain) (4.0.3)\r\n",
      "Collecting langchain-core<0.3.0,>=0.2.7 (from langchain)\r\n",
      "  Downloading langchain_core-0.2.7-py3-none-any.whl.metadata (5.8 kB)\r\n",
      "Collecting langchain-text-splitters<0.3.0,>=0.2.0 (from langchain)\r\n",
      "  Downloading langchain_text_splitters-0.2.1-py3-none-any.whl.metadata (2.2 kB)\r\n",
      "Collecting langsmith<0.2.0,>=0.1.17 (from langchain)\r\n",
      "  Downloading langsmith-0.1.77-py3-none-any.whl.metadata (13 kB)\r\n",
      "Requirement already satisfied: numpy<2,>=1 in /opt/conda/lib/python3.10/site-packages (from langchain) (1.26.4)\r\n",
      "Requirement already satisfied: pydantic<3,>=1 in /opt/conda/lib/python3.10/site-packages (from langchain) (2.5.3)\r\n",
      "Requirement already satisfied: requests<3,>=2 in /opt/conda/lib/python3.10/site-packages (from langchain) (2.32.3)\r\n",
      "Requirement already satisfied: tenacity<9.0.0,>=8.1.0 in /opt/conda/lib/python3.10/site-packages (from langchain) (8.2.3)\r\n",
      "Requirement already satisfied: attrs>=17.3.0 in /opt/conda/lib/python3.10/site-packages (from aiohttp<4.0.0,>=3.8.3->langchain) (23.2.0)\r\n",
      "Requirement already satisfied: multidict<7.0,>=4.5 in /opt/conda/lib/python3.10/site-packages (from aiohttp<4.0.0,>=3.8.3->langchain) (6.0.4)\r\n",
      "Requirement already satisfied: yarl<2.0,>=1.0 in /opt/conda/lib/python3.10/site-packages (from aiohttp<4.0.0,>=3.8.3->langchain) (1.9.3)\r\n",
      "Requirement already satisfied: frozenlist>=1.1.1 in /opt/conda/lib/python3.10/site-packages (from aiohttp<4.0.0,>=3.8.3->langchain) (1.4.1)\r\n",
      "Requirement already satisfied: aiosignal>=1.1.2 in /opt/conda/lib/python3.10/site-packages (from aiohttp<4.0.0,>=3.8.3->langchain) (1.3.1)\r\n",
      "Requirement already satisfied: jsonpatch<2.0,>=1.33 in /opt/conda/lib/python3.10/site-packages (from langchain-core<0.3.0,>=0.2.7->langchain) (1.33)\r\n",
      "Collecting packaging<25,>=23.2 (from langchain-core<0.3.0,>=0.2.7->langchain)\r\n",
      "  Downloading packaging-24.1-py3-none-any.whl.metadata (3.2 kB)\r\n",
      "Collecting orjson<4.0.0,>=3.9.14 (from langsmith<0.2.0,>=0.1.17->langchain)\r\n",
      "  Downloading orjson-3.10.5-cp310-cp310-manylinux_2_17_x86_64.manylinux2014_x86_64.whl.metadata (49 kB)\r\n",
      "\u001b[2K     \u001b[90m━━━━━━━━━━━━━━━━━━━━━━━━━━━━━━━━━━━━━━━━\u001b[0m \u001b[32m49.7/49.7 kB\u001b[0m \u001b[31m2.1 MB/s\u001b[0m eta \u001b[36m0:00:00\u001b[0m\r\n",
      "\u001b[?25hRequirement already satisfied: annotated-types>=0.4.0 in /opt/conda/lib/python3.10/site-packages (from pydantic<3,>=1->langchain) (0.6.0)\r\n",
      "Requirement already satisfied: pydantic-core==2.14.6 in /opt/conda/lib/python3.10/site-packages (from pydantic<3,>=1->langchain) (2.14.6)\r\n",
      "Requirement already satisfied: typing-extensions>=4.6.1 in /opt/conda/lib/python3.10/site-packages (from pydantic<3,>=1->langchain) (4.9.0)\r\n",
      "Requirement already satisfied: charset-normalizer<4,>=2 in /opt/conda/lib/python3.10/site-packages (from requests<3,>=2->langchain) (3.3.2)\r\n",
      "Requirement already satisfied: idna<4,>=2.5 in /opt/conda/lib/python3.10/site-packages (from requests<3,>=2->langchain) (3.6)\r\n",
      "Requirement already satisfied: urllib3<3,>=1.21.1 in /opt/conda/lib/python3.10/site-packages (from requests<3,>=2->langchain) (1.26.18)\r\n",
      "Requirement already satisfied: certifi>=2017.4.17 in /opt/conda/lib/python3.10/site-packages (from requests<3,>=2->langchain) (2024.2.2)\r\n",
      "Requirement already satisfied: greenlet!=0.4.17 in /opt/conda/lib/python3.10/site-packages (from SQLAlchemy<3,>=1.4->langchain) (3.0.3)\r\n",
      "Requirement already satisfied: jsonpointer>=1.9 in /opt/conda/lib/python3.10/site-packages (from jsonpatch<2.0,>=1.33->langchain-core<0.3.0,>=0.2.7->langchain) (2.4)\r\n",
      "Downloading langchain-0.2.5-py3-none-any.whl (974 kB)\r\n",
      "\u001b[2K   \u001b[90m━━━━━━━━━━━━━━━━━━━━━━━━━━━━━━━━━━━━━━━━\u001b[0m \u001b[32m974.6/974.6 kB\u001b[0m \u001b[31m23.4 MB/s\u001b[0m eta \u001b[36m0:00:00\u001b[0m\r\n",
      "\u001b[?25hDownloading langchain_core-0.2.7-py3-none-any.whl (315 kB)\r\n",
      "\u001b[2K   \u001b[90m━━━━━━━━━━━━━━━━━━━━━━━━━━━━━━━━━━━━━━━━\u001b[0m \u001b[32m315.6/315.6 kB\u001b[0m \u001b[31m13.8 MB/s\u001b[0m eta \u001b[36m0:00:00\u001b[0m\r\n",
      "\u001b[?25hDownloading langchain_text_splitters-0.2.1-py3-none-any.whl (23 kB)\r\n",
      "Downloading langsmith-0.1.77-py3-none-any.whl (125 kB)\r\n",
      "\u001b[2K   \u001b[90m━━━━━━━━━━━━━━━━━━━━━━━━━━━━━━━━━━━━━━━━\u001b[0m \u001b[32m125.2/125.2 kB\u001b[0m \u001b[31m5.6 MB/s\u001b[0m eta \u001b[36m0:00:00\u001b[0m\r\n",
      "\u001b[?25hDownloading orjson-3.10.5-cp310-cp310-manylinux_2_17_x86_64.manylinux2014_x86_64.whl (144 kB)\r\n",
      "\u001b[2K   \u001b[90m━━━━━━━━━━━━━━━━━━━━━━━━━━━━━━━━━━━━━━━━\u001b[0m \u001b[32m145.0/145.0 kB\u001b[0m \u001b[31m6.4 MB/s\u001b[0m eta \u001b[36m0:00:00\u001b[0m\r\n",
      "\u001b[?25hDownloading packaging-24.1-py3-none-any.whl (53 kB)\r\n",
      "\u001b[2K   \u001b[90m━━━━━━━━━━━━━━━━━━━━━━━━━━━━━━━━━━━━━━━━\u001b[0m \u001b[32m54.0/54.0 kB\u001b[0m \u001b[31m2.5 MB/s\u001b[0m eta \u001b[36m0:00:00\u001b[0m\r\n",
      "\u001b[?25hInstalling collected packages: packaging, orjson, langsmith, langchain-core, langchain-text-splitters, langchain\r\n",
      "  Attempting uninstall: packaging\r\n",
      "    Found existing installation: packaging 21.3\r\n",
      "    Uninstalling packaging-21.3:\r\n",
      "      Successfully uninstalled packaging-21.3\r\n",
      "  Attempting uninstall: orjson\r\n",
      "    Found existing installation: orjson 3.9.10\r\n",
      "    Uninstalling orjson-3.9.10:\r\n",
      "      Successfully uninstalled orjson-3.9.10\r\n",
      "\u001b[31mERROR: pip's dependency resolver does not currently take into account all the packages that are installed. This behaviour is the source of the following dependency conflicts.\r\n",
      "keras-cv 0.9.0 requires keras-core, which is not installed.\r\n",
      "keras-nlp 0.12.1 requires keras-core, which is not installed.\r\n",
      "tensorflow-decision-forests 1.8.1 requires wurlitzer, which is not installed.\r\n",
      "apache-beam 2.46.0 requires dill<0.3.2,>=0.3.1.1, but you have dill 0.3.8 which is incompatible.\r\n",
      "apache-beam 2.46.0 requires numpy<1.25.0,>=1.14.3, but you have numpy 1.26.4 which is incompatible.\r\n",
      "apache-beam 2.46.0 requires pyarrow<10.0.0,>=3.0.0, but you have pyarrow 16.1.0 which is incompatible.\r\n",
      "google-cloud-bigquery 2.34.4 requires packaging<22.0dev,>=14.3, but you have packaging 24.1 which is incompatible.\r\n",
      "jupyterlab 4.2.1 requires jupyter-lsp>=2.0.0, but you have jupyter-lsp 1.5.1 which is incompatible.\r\n",
      "jupyterlab-lsp 5.1.0 requires jupyter-lsp>=2.0.0, but you have jupyter-lsp 1.5.1 which is incompatible.\r\n",
      "libpysal 4.9.2 requires shapely>=2.0.1, but you have shapely 1.8.5.post1 which is incompatible.\r\n",
      "momepy 0.7.0 requires shapely>=2, but you have shapely 1.8.5.post1 which is incompatible.\r\n",
      "osmnx 1.9.3 requires shapely>=2.0, but you have shapely 1.8.5.post1 which is incompatible.\r\n",
      "spopt 0.6.0 requires shapely>=2.0.1, but you have shapely 1.8.5.post1 which is incompatible.\r\n",
      "tensorflow 2.15.0 requires keras<2.16,>=2.15.0, but you have keras 3.3.3 which is incompatible.\r\n",
      "ydata-profiling 4.6.4 requires numpy<1.26,>=1.16.0, but you have numpy 1.26.4 which is incompatible.\u001b[0m\u001b[31m\r\n",
      "\u001b[0mSuccessfully installed langchain-0.2.5 langchain-core-0.2.7 langchain-text-splitters-0.2.1 langsmith-0.1.77 orjson-3.10.5 packaging-24.1\r\n",
      "Collecting langchain_community\r\n",
      "  Downloading langchain_community-0.2.5-py3-none-any.whl.metadata (2.5 kB)\r\n",
      "Requirement already satisfied: PyYAML>=5.3 in /opt/conda/lib/python3.10/site-packages (from langchain_community) (6.0.1)\r\n",
      "Requirement already satisfied: SQLAlchemy<3,>=1.4 in /opt/conda/lib/python3.10/site-packages (from langchain_community) (2.0.25)\r\n",
      "Requirement already satisfied: aiohttp<4.0.0,>=3.8.3 in /opt/conda/lib/python3.10/site-packages (from langchain_community) (3.9.1)\r\n",
      "Requirement already satisfied: dataclasses-json<0.7,>=0.5.7 in /opt/conda/lib/python3.10/site-packages (from langchain_community) (0.6.6)\r\n",
      "Requirement already satisfied: langchain<0.3.0,>=0.2.5 in /opt/conda/lib/python3.10/site-packages (from langchain_community) (0.2.5)\r\n",
      "Requirement already satisfied: langchain-core<0.3.0,>=0.2.7 in /opt/conda/lib/python3.10/site-packages (from langchain_community) (0.2.7)\r\n",
      "Requirement already satisfied: langsmith<0.2.0,>=0.1.0 in /opt/conda/lib/python3.10/site-packages (from langchain_community) (0.1.77)\r\n",
      "Requirement already satisfied: numpy<2,>=1 in /opt/conda/lib/python3.10/site-packages (from langchain_community) (1.26.4)\r\n",
      "Requirement already satisfied: requests<3,>=2 in /opt/conda/lib/python3.10/site-packages (from langchain_community) (2.32.3)\r\n",
      "Requirement already satisfied: tenacity<9.0.0,>=8.1.0 in /opt/conda/lib/python3.10/site-packages (from langchain_community) (8.2.3)\r\n",
      "Requirement already satisfied: attrs>=17.3.0 in /opt/conda/lib/python3.10/site-packages (from aiohttp<4.0.0,>=3.8.3->langchain_community) (23.2.0)\r\n",
      "Requirement already satisfied: multidict<7.0,>=4.5 in /opt/conda/lib/python3.10/site-packages (from aiohttp<4.0.0,>=3.8.3->langchain_community) (6.0.4)\r\n",
      "Requirement already satisfied: yarl<2.0,>=1.0 in /opt/conda/lib/python3.10/site-packages (from aiohttp<4.0.0,>=3.8.3->langchain_community) (1.9.3)\r\n",
      "Requirement already satisfied: frozenlist>=1.1.1 in /opt/conda/lib/python3.10/site-packages (from aiohttp<4.0.0,>=3.8.3->langchain_community) (1.4.1)\r\n",
      "Requirement already satisfied: aiosignal>=1.1.2 in /opt/conda/lib/python3.10/site-packages (from aiohttp<4.0.0,>=3.8.3->langchain_community) (1.3.1)\r\n",
      "Requirement already satisfied: async-timeout<5.0,>=4.0 in /opt/conda/lib/python3.10/site-packages (from aiohttp<4.0.0,>=3.8.3->langchain_community) (4.0.3)\r\n",
      "Requirement already satisfied: marshmallow<4.0.0,>=3.18.0 in /opt/conda/lib/python3.10/site-packages (from dataclasses-json<0.7,>=0.5.7->langchain_community) (3.21.2)\r\n",
      "Requirement already satisfied: typing-inspect<1,>=0.4.0 in /opt/conda/lib/python3.10/site-packages (from dataclasses-json<0.7,>=0.5.7->langchain_community) (0.9.0)\r\n",
      "Requirement already satisfied: langchain-text-splitters<0.3.0,>=0.2.0 in /opt/conda/lib/python3.10/site-packages (from langchain<0.3.0,>=0.2.5->langchain_community) (0.2.1)\r\n",
      "Requirement already satisfied: pydantic<3,>=1 in /opt/conda/lib/python3.10/site-packages (from langchain<0.3.0,>=0.2.5->langchain_community) (2.5.3)\r\n",
      "Requirement already satisfied: jsonpatch<2.0,>=1.33 in /opt/conda/lib/python3.10/site-packages (from langchain-core<0.3.0,>=0.2.7->langchain_community) (1.33)\r\n",
      "Requirement already satisfied: packaging<25,>=23.2 in /opt/conda/lib/python3.10/site-packages (from langchain-core<0.3.0,>=0.2.7->langchain_community) (24.1)\r\n",
      "Requirement already satisfied: orjson<4.0.0,>=3.9.14 in /opt/conda/lib/python3.10/site-packages (from langsmith<0.2.0,>=0.1.0->langchain_community) (3.10.5)\r\n",
      "Requirement already satisfied: charset-normalizer<4,>=2 in /opt/conda/lib/python3.10/site-packages (from requests<3,>=2->langchain_community) (3.3.2)\r\n",
      "Requirement already satisfied: idna<4,>=2.5 in /opt/conda/lib/python3.10/site-packages (from requests<3,>=2->langchain_community) (3.6)\r\n",
      "Requirement already satisfied: urllib3<3,>=1.21.1 in /opt/conda/lib/python3.10/site-packages (from requests<3,>=2->langchain_community) (1.26.18)\r\n",
      "Requirement already satisfied: certifi>=2017.4.17 in /opt/conda/lib/python3.10/site-packages (from requests<3,>=2->langchain_community) (2024.2.2)\r\n",
      "Requirement already satisfied: typing-extensions>=4.6.0 in /opt/conda/lib/python3.10/site-packages (from SQLAlchemy<3,>=1.4->langchain_community) (4.9.0)\r\n",
      "Requirement already satisfied: greenlet!=0.4.17 in /opt/conda/lib/python3.10/site-packages (from SQLAlchemy<3,>=1.4->langchain_community) (3.0.3)\r\n",
      "Requirement already satisfied: jsonpointer>=1.9 in /opt/conda/lib/python3.10/site-packages (from jsonpatch<2.0,>=1.33->langchain-core<0.3.0,>=0.2.7->langchain_community) (2.4)\r\n",
      "Requirement already satisfied: annotated-types>=0.4.0 in /opt/conda/lib/python3.10/site-packages (from pydantic<3,>=1->langchain<0.3.0,>=0.2.5->langchain_community) (0.6.0)\r\n",
      "Requirement already satisfied: pydantic-core==2.14.6 in /opt/conda/lib/python3.10/site-packages (from pydantic<3,>=1->langchain<0.3.0,>=0.2.5->langchain_community) (2.14.6)\r\n",
      "Requirement already satisfied: mypy-extensions>=0.3.0 in /opt/conda/lib/python3.10/site-packages (from typing-inspect<1,>=0.4.0->dataclasses-json<0.7,>=0.5.7->langchain_community) (1.0.0)\r\n",
      "Downloading langchain_community-0.2.5-py3-none-any.whl (2.2 MB)\r\n",
      "\u001b[2K   \u001b[90m━━━━━━━━━━━━━━━━━━━━━━━━━━━━━━━━━━━━━━━━\u001b[0m \u001b[32m2.2/2.2 MB\u001b[0m \u001b[31m27.9 MB/s\u001b[0m eta \u001b[36m0:00:00\u001b[0m\r\n",
      "\u001b[?25hInstalling collected packages: langchain_community\r\n",
      "Successfully installed langchain_community-0.2.5\r\n",
      "Collecting langchain_experimental\r\n",
      "  Downloading langchain_experimental-0.0.61-py3-none-any.whl.metadata (1.5 kB)\r\n",
      "Requirement already satisfied: langchain-community<0.3.0,>=0.2.5 in /opt/conda/lib/python3.10/site-packages (from langchain_experimental) (0.2.5)\r\n",
      "Requirement already satisfied: langchain-core<0.3.0,>=0.2.7 in /opt/conda/lib/python3.10/site-packages (from langchain_experimental) (0.2.7)\r\n",
      "Requirement already satisfied: PyYAML>=5.3 in /opt/conda/lib/python3.10/site-packages (from langchain-community<0.3.0,>=0.2.5->langchain_experimental) (6.0.1)\r\n",
      "Requirement already satisfied: SQLAlchemy<3,>=1.4 in /opt/conda/lib/python3.10/site-packages (from langchain-community<0.3.0,>=0.2.5->langchain_experimental) (2.0.25)\r\n",
      "Requirement already satisfied: aiohttp<4.0.0,>=3.8.3 in /opt/conda/lib/python3.10/site-packages (from langchain-community<0.3.0,>=0.2.5->langchain_experimental) (3.9.1)\r\n",
      "Requirement already satisfied: dataclasses-json<0.7,>=0.5.7 in /opt/conda/lib/python3.10/site-packages (from langchain-community<0.3.0,>=0.2.5->langchain_experimental) (0.6.6)\r\n",
      "Requirement already satisfied: langchain<0.3.0,>=0.2.5 in /opt/conda/lib/python3.10/site-packages (from langchain-community<0.3.0,>=0.2.5->langchain_experimental) (0.2.5)\r\n",
      "Requirement already satisfied: langsmith<0.2.0,>=0.1.0 in /opt/conda/lib/python3.10/site-packages (from langchain-community<0.3.0,>=0.2.5->langchain_experimental) (0.1.77)\r\n",
      "Requirement already satisfied: numpy<2,>=1 in /opt/conda/lib/python3.10/site-packages (from langchain-community<0.3.0,>=0.2.5->langchain_experimental) (1.26.4)\r\n",
      "Requirement already satisfied: requests<3,>=2 in /opt/conda/lib/python3.10/site-packages (from langchain-community<0.3.0,>=0.2.5->langchain_experimental) (2.32.3)\r\n",
      "Requirement already satisfied: tenacity<9.0.0,>=8.1.0 in /opt/conda/lib/python3.10/site-packages (from langchain-community<0.3.0,>=0.2.5->langchain_experimental) (8.2.3)\r\n",
      "Requirement already satisfied: jsonpatch<2.0,>=1.33 in /opt/conda/lib/python3.10/site-packages (from langchain-core<0.3.0,>=0.2.7->langchain_experimental) (1.33)\r\n",
      "Requirement already satisfied: packaging<25,>=23.2 in /opt/conda/lib/python3.10/site-packages (from langchain-core<0.3.0,>=0.2.7->langchain_experimental) (24.1)\r\n",
      "Requirement already satisfied: pydantic<3,>=1 in /opt/conda/lib/python3.10/site-packages (from langchain-core<0.3.0,>=0.2.7->langchain_experimental) (2.5.3)\r\n",
      "Requirement already satisfied: attrs>=17.3.0 in /opt/conda/lib/python3.10/site-packages (from aiohttp<4.0.0,>=3.8.3->langchain-community<0.3.0,>=0.2.5->langchain_experimental) (23.2.0)\r\n",
      "Requirement already satisfied: multidict<7.0,>=4.5 in /opt/conda/lib/python3.10/site-packages (from aiohttp<4.0.0,>=3.8.3->langchain-community<0.3.0,>=0.2.5->langchain_experimental) (6.0.4)\r\n",
      "Requirement already satisfied: yarl<2.0,>=1.0 in /opt/conda/lib/python3.10/site-packages (from aiohttp<4.0.0,>=3.8.3->langchain-community<0.3.0,>=0.2.5->langchain_experimental) (1.9.3)\r\n",
      "Requirement already satisfied: frozenlist>=1.1.1 in /opt/conda/lib/python3.10/site-packages (from aiohttp<4.0.0,>=3.8.3->langchain-community<0.3.0,>=0.2.5->langchain_experimental) (1.4.1)\r\n",
      "Requirement already satisfied: aiosignal>=1.1.2 in /opt/conda/lib/python3.10/site-packages (from aiohttp<4.0.0,>=3.8.3->langchain-community<0.3.0,>=0.2.5->langchain_experimental) (1.3.1)\r\n",
      "Requirement already satisfied: async-timeout<5.0,>=4.0 in /opt/conda/lib/python3.10/site-packages (from aiohttp<4.0.0,>=3.8.3->langchain-community<0.3.0,>=0.2.5->langchain_experimental) (4.0.3)\r\n",
      "Requirement already satisfied: marshmallow<4.0.0,>=3.18.0 in /opt/conda/lib/python3.10/site-packages (from dataclasses-json<0.7,>=0.5.7->langchain-community<0.3.0,>=0.2.5->langchain_experimental) (3.21.2)\r\n",
      "Requirement already satisfied: typing-inspect<1,>=0.4.0 in /opt/conda/lib/python3.10/site-packages (from dataclasses-json<0.7,>=0.5.7->langchain-community<0.3.0,>=0.2.5->langchain_experimental) (0.9.0)\r\n",
      "Requirement already satisfied: jsonpointer>=1.9 in /opt/conda/lib/python3.10/site-packages (from jsonpatch<2.0,>=1.33->langchain-core<0.3.0,>=0.2.7->langchain_experimental) (2.4)\r\n",
      "Requirement already satisfied: langchain-text-splitters<0.3.0,>=0.2.0 in /opt/conda/lib/python3.10/site-packages (from langchain<0.3.0,>=0.2.5->langchain-community<0.3.0,>=0.2.5->langchain_experimental) (0.2.1)\r\n",
      "Requirement already satisfied: orjson<4.0.0,>=3.9.14 in /opt/conda/lib/python3.10/site-packages (from langsmith<0.2.0,>=0.1.0->langchain-community<0.3.0,>=0.2.5->langchain_experimental) (3.10.5)\r\n",
      "Requirement already satisfied: annotated-types>=0.4.0 in /opt/conda/lib/python3.10/site-packages (from pydantic<3,>=1->langchain-core<0.3.0,>=0.2.7->langchain_experimental) (0.6.0)\r\n",
      "Requirement already satisfied: pydantic-core==2.14.6 in /opt/conda/lib/python3.10/site-packages (from pydantic<3,>=1->langchain-core<0.3.0,>=0.2.7->langchain_experimental) (2.14.6)\r\n",
      "Requirement already satisfied: typing-extensions>=4.6.1 in /opt/conda/lib/python3.10/site-packages (from pydantic<3,>=1->langchain-core<0.3.0,>=0.2.7->langchain_experimental) (4.9.0)\r\n",
      "Requirement already satisfied: charset-normalizer<4,>=2 in /opt/conda/lib/python3.10/site-packages (from requests<3,>=2->langchain-community<0.3.0,>=0.2.5->langchain_experimental) (3.3.2)\r\n",
      "Requirement already satisfied: idna<4,>=2.5 in /opt/conda/lib/python3.10/site-packages (from requests<3,>=2->langchain-community<0.3.0,>=0.2.5->langchain_experimental) (3.6)\r\n",
      "Requirement already satisfied: urllib3<3,>=1.21.1 in /opt/conda/lib/python3.10/site-packages (from requests<3,>=2->langchain-community<0.3.0,>=0.2.5->langchain_experimental) (1.26.18)\r\n",
      "Requirement already satisfied: certifi>=2017.4.17 in /opt/conda/lib/python3.10/site-packages (from requests<3,>=2->langchain-community<0.3.0,>=0.2.5->langchain_experimental) (2024.2.2)\r\n",
      "Requirement already satisfied: greenlet!=0.4.17 in /opt/conda/lib/python3.10/site-packages (from SQLAlchemy<3,>=1.4->langchain-community<0.3.0,>=0.2.5->langchain_experimental) (3.0.3)\r\n",
      "Requirement already satisfied: mypy-extensions>=0.3.0 in /opt/conda/lib/python3.10/site-packages (from typing-inspect<1,>=0.4.0->dataclasses-json<0.7,>=0.5.7->langchain-community<0.3.0,>=0.2.5->langchain_experimental) (1.0.0)\r\n",
      "Downloading langchain_experimental-0.0.61-py3-none-any.whl (202 kB)\r\n",
      "\u001b[2K   \u001b[90m━━━━━━━━━━━━━━━━━━━━━━━━━━━━━━━━━━━━━━━━\u001b[0m \u001b[32m202.5/202.5 kB\u001b[0m \u001b[31m4.6 MB/s\u001b[0m eta \u001b[36m0:00:00\u001b[0m\r\n",
      "\u001b[?25hInstalling collected packages: langchain_experimental\r\n",
      "Successfully installed langchain_experimental-0.0.61\r\n",
      "Collecting openai\r\n",
      "  Downloading openai-1.34.0-py3-none-any.whl.metadata (21 kB)\r\n",
      "Requirement already satisfied: anyio<5,>=3.5.0 in /opt/conda/lib/python3.10/site-packages (from openai) (4.2.0)\r\n",
      "Requirement already satisfied: distro<2,>=1.7.0 in /opt/conda/lib/python3.10/site-packages (from openai) (1.9.0)\r\n",
      "Requirement already satisfied: httpx<1,>=0.23.0 in /opt/conda/lib/python3.10/site-packages (from openai) (0.27.0)\r\n",
      "Requirement already satisfied: pydantic<3,>=1.9.0 in /opt/conda/lib/python3.10/site-packages (from openai) (2.5.3)\r\n",
      "Requirement already satisfied: sniffio in /opt/conda/lib/python3.10/site-packages (from openai) (1.3.0)\r\n",
      "Requirement already satisfied: tqdm>4 in /opt/conda/lib/python3.10/site-packages (from openai) (4.66.4)\r\n",
      "Requirement already satisfied: typing-extensions<5,>=4.7 in /opt/conda/lib/python3.10/site-packages (from openai) (4.9.0)\r\n",
      "Requirement already satisfied: idna>=2.8 in /opt/conda/lib/python3.10/site-packages (from anyio<5,>=3.5.0->openai) (3.6)\r\n",
      "Requirement already satisfied: exceptiongroup>=1.0.2 in /opt/conda/lib/python3.10/site-packages (from anyio<5,>=3.5.0->openai) (1.2.0)\r\n",
      "Requirement already satisfied: certifi in /opt/conda/lib/python3.10/site-packages (from httpx<1,>=0.23.0->openai) (2024.2.2)\r\n",
      "Requirement already satisfied: httpcore==1.* in /opt/conda/lib/python3.10/site-packages (from httpx<1,>=0.23.0->openai) (1.0.5)\r\n",
      "Requirement already satisfied: h11<0.15,>=0.13 in /opt/conda/lib/python3.10/site-packages (from httpcore==1.*->httpx<1,>=0.23.0->openai) (0.14.0)\r\n",
      "Requirement already satisfied: annotated-types>=0.4.0 in /opt/conda/lib/python3.10/site-packages (from pydantic<3,>=1.9.0->openai) (0.6.0)\r\n",
      "Requirement already satisfied: pydantic-core==2.14.6 in /opt/conda/lib/python3.10/site-packages (from pydantic<3,>=1.9.0->openai) (2.14.6)\r\n",
      "Downloading openai-1.34.0-py3-none-any.whl (325 kB)\r\n",
      "\u001b[2K   \u001b[90m━━━━━━━━━━━━━━━━━━━━━━━━━━━━━━━━━━━━━━━━\u001b[0m \u001b[32m325.5/325.5 kB\u001b[0m \u001b[31m8.4 MB/s\u001b[0m eta \u001b[36m0:00:00\u001b[0m\r\n",
      "\u001b[?25hInstalling collected packages: openai\r\n",
      "Successfully installed openai-1.34.0\r\n",
      "Collecting docarray\r\n",
      "  Downloading docarray-0.40.0-py3-none-any.whl.metadata (36 kB)\r\n",
      "Requirement already satisfied: numpy>=1.17.3 in /opt/conda/lib/python3.10/site-packages (from docarray) (1.26.4)\r\n",
      "Requirement already satisfied: orjson>=3.8.2 in /opt/conda/lib/python3.10/site-packages (from docarray) (3.10.5)\r\n",
      "Requirement already satisfied: pydantic>=1.10.8 in /opt/conda/lib/python3.10/site-packages (from docarray) (2.5.3)\r\n",
      "Requirement already satisfied: rich>=13.1.0 in /opt/conda/lib/python3.10/site-packages (from docarray) (13.7.0)\r\n",
      "Collecting types-requests>=2.28.11.6 (from docarray)\r\n",
      "  Downloading types_requests-2.32.0.20240602-py3-none-any.whl.metadata (1.8 kB)\r\n",
      "Requirement already satisfied: typing-inspect>=0.8.0 in /opt/conda/lib/python3.10/site-packages (from docarray) (0.9.0)\r\n",
      "Requirement already satisfied: annotated-types>=0.4.0 in /opt/conda/lib/python3.10/site-packages (from pydantic>=1.10.8->docarray) (0.6.0)\r\n",
      "Requirement already satisfied: pydantic-core==2.14.6 in /opt/conda/lib/python3.10/site-packages (from pydantic>=1.10.8->docarray) (2.14.6)\r\n",
      "Requirement already satisfied: typing-extensions>=4.6.1 in /opt/conda/lib/python3.10/site-packages (from pydantic>=1.10.8->docarray) (4.9.0)\r\n",
      "Requirement already satisfied: markdown-it-py>=2.2.0 in /opt/conda/lib/python3.10/site-packages (from rich>=13.1.0->docarray) (3.0.0)\r\n",
      "Requirement already satisfied: pygments<3.0.0,>=2.13.0 in /opt/conda/lib/python3.10/site-packages (from rich>=13.1.0->docarray) (2.17.2)\r\n",
      "Collecting urllib3>=2 (from types-requests>=2.28.11.6->docarray)\r\n",
      "  Downloading urllib3-2.2.1-py3-none-any.whl.metadata (6.4 kB)\r\n",
      "Requirement already satisfied: mypy-extensions>=0.3.0 in /opt/conda/lib/python3.10/site-packages (from typing-inspect>=0.8.0->docarray) (1.0.0)\r\n",
      "Requirement already satisfied: mdurl~=0.1 in /opt/conda/lib/python3.10/site-packages (from markdown-it-py>=2.2.0->rich>=13.1.0->docarray) (0.1.2)\r\n",
      "Downloading docarray-0.40.0-py3-none-any.whl (270 kB)\r\n",
      "\u001b[2K   \u001b[90m━━━━━━━━━━━━━━━━━━━━━━━━━━━━━━━━━━━━━━━━\u001b[0m \u001b[32m270.2/270.2 kB\u001b[0m \u001b[31m8.3 MB/s\u001b[0m eta \u001b[36m0:00:00\u001b[0m\r\n",
      "\u001b[?25hDownloading types_requests-2.32.0.20240602-py3-none-any.whl (15 kB)\r\n",
      "Downloading urllib3-2.2.1-py3-none-any.whl (121 kB)\r\n",
      "\u001b[2K   \u001b[90m━━━━━━━━━━━━━━━━━━━━━━━━━━━━━━━━━━━━━━━━\u001b[0m \u001b[32m121.1/121.1 kB\u001b[0m \u001b[31m5.7 MB/s\u001b[0m eta \u001b[36m0:00:00\u001b[0m\r\n",
      "\u001b[?25hInstalling collected packages: urllib3, types-requests, docarray\r\n",
      "  Attempting uninstall: urllib3\r\n",
      "    Found existing installation: urllib3 1.26.18\r\n",
      "    Uninstalling urllib3-1.26.18:\r\n",
      "      Successfully uninstalled urllib3-1.26.18\r\n",
      "\u001b[31mERROR: pip's dependency resolver does not currently take into account all the packages that are installed. This behaviour is the source of the following dependency conflicts.\r\n",
      "tensorflow-decision-forests 1.8.1 requires wurlitzer, which is not installed.\r\n",
      "kfp 2.5.0 requires google-cloud-storage<3,>=2.2.1, but you have google-cloud-storage 1.44.0 which is incompatible.\r\n",
      "kfp 2.5.0 requires urllib3<2.0.0, but you have urllib3 2.2.1 which is incompatible.\r\n",
      "tensorflow 2.15.0 requires keras<2.16,>=2.15.0, but you have keras 3.3.3 which is incompatible.\r\n",
      "ydata-profiling 4.6.4 requires numpy<1.26,>=1.16.0, but you have numpy 1.26.4 which is incompatible.\u001b[0m\u001b[31m\r\n",
      "\u001b[0mSuccessfully installed docarray-0.40.0 types-requests-2.32.0.20240602 urllib3-2.1.0\r\n",
      "Collecting tiktoken\r\n",
      "  Downloading tiktoken-0.7.0-cp310-cp310-manylinux_2_17_x86_64.manylinux2014_x86_64.whl.metadata (6.6 kB)\r\n",
      "Requirement already satisfied: regex>=2022.1.18 in /opt/conda/lib/python3.10/site-packages (from tiktoken) (2023.12.25)\r\n",
      "Requirement already satisfied: requests>=2.26.0 in /opt/conda/lib/python3.10/site-packages (from tiktoken) (2.32.3)\r\n",
      "Requirement already satisfied: charset-normalizer<4,>=2 in /opt/conda/lib/python3.10/site-packages (from requests>=2.26.0->tiktoken) (3.3.2)\r\n",
      "Requirement already satisfied: idna<4,>=2.5 in /opt/conda/lib/python3.10/site-packages (from requests>=2.26.0->tiktoken) (3.6)\r\n",
      "Requirement already satisfied: urllib3<3,>=1.21.1 in /opt/conda/lib/python3.10/site-packages (from requests>=2.26.0->tiktoken) (2.1.0)\r\n",
      "Requirement already satisfied: certifi>=2017.4.17 in /opt/conda/lib/python3.10/site-packages (from requests>=2.26.0->tiktoken) (2024.2.2)\r\n",
      "Downloading tiktoken-0.7.0-cp310-cp310-manylinux_2_17_x86_64.manylinux2014_x86_64.whl (1.1 MB)\r\n",
      "\u001b[2K   \u001b[90m━━━━━━━━━━━━━━━━━━━━━━━━━━━━━━━━━━━━━━━━\u001b[0m \u001b[32m1.1/1.1 MB\u001b[0m \u001b[31m17.3 MB/s\u001b[0m eta \u001b[36m0:00:00\u001b[0m\r\n",
      "\u001b[?25hInstalling collected packages: tiktoken\r\n",
      "Successfully installed tiktoken-0.7.0\r\n",
      "Collecting wikipedia\r\n",
      "  Downloading wikipedia-1.4.0.tar.gz (27 kB)\r\n",
      "  Preparing metadata (setup.py) ... \u001b[?25l-\b \bdone\r\n",
      "\u001b[?25hRequirement already satisfied: beautifulsoup4 in /opt/conda/lib/python3.10/site-packages (from wikipedia) (4.12.2)\r\n",
      "Requirement already satisfied: requests<3.0.0,>=2.0.0 in /opt/conda/lib/python3.10/site-packages (from wikipedia) (2.32.3)\r\n",
      "Requirement already satisfied: charset-normalizer<4,>=2 in /opt/conda/lib/python3.10/site-packages (from requests<3.0.0,>=2.0.0->wikipedia) (3.3.2)\r\n",
      "Requirement already satisfied: idna<4,>=2.5 in /opt/conda/lib/python3.10/site-packages (from requests<3.0.0,>=2.0.0->wikipedia) (3.6)\r\n",
      "Requirement already satisfied: urllib3<3,>=1.21.1 in /opt/conda/lib/python3.10/site-packages (from requests<3.0.0,>=2.0.0->wikipedia) (2.1.0)\r\n",
      "Requirement already satisfied: certifi>=2017.4.17 in /opt/conda/lib/python3.10/site-packages (from requests<3.0.0,>=2.0.0->wikipedia) (2024.2.2)\r\n",
      "Requirement already satisfied: soupsieve>1.2 in /opt/conda/lib/python3.10/site-packages (from beautifulsoup4->wikipedia) (2.5)\r\n",
      "Building wheels for collected packages: wikipedia\r\n",
      "  Building wheel for wikipedia (setup.py) ... \u001b[?25l-\b \b\\\b \bdone\r\n",
      "\u001b[?25h  Created wheel for wikipedia: filename=wikipedia-1.4.0-py3-none-any.whl size=11678 sha256=84d8c18b1bde9b30e436ca77c570e9ed362ed0afb0c15ce14eccdaa0c2f33f92\r\n",
      "  Stored in directory: /root/.cache/pip/wheels/5e/b6/c5/93f3dec388ae76edc830cb42901bb0232504dfc0df02fc50de\r\n",
      "Successfully built wikipedia\r\n",
      "Installing collected packages: wikipedia\r\n",
      "Successfully installed wikipedia-1.4.0\r\n"
     ]
    }
   ],
   "source": [
    "!pip install langchain\n",
    "!pip install langchain_community\n",
    "!pip install langchain_experimental\n",
    "!pip install openai\n",
    "!pip install docarray\n",
    "!pip install tiktoken\n",
    "!pip install wikipedia"
   ]
  },
  {
   "cell_type": "code",
   "execution_count": 2,
   "id": "40dac724",
   "metadata": {
    "execution": {
     "iopub.execute_input": "2024-06-16T15:36:56.180856Z",
     "iopub.status.busy": "2024-06-16T15:36:56.180379Z",
     "iopub.status.idle": "2024-06-16T15:36:58.967869Z",
     "shell.execute_reply": "2024-06-16T15:36:58.966759Z"
    },
    "papermill": {
     "duration": 2.811154,
     "end_time": "2024-06-16T15:36:58.970659",
     "exception": false,
     "start_time": "2024-06-16T15:36:56.159505",
     "status": "completed"
    },
    "tags": []
   },
   "outputs": [],
   "source": [
    "import os\n",
    "from langchain.chat_models import ChatOpenAI\n",
    "from langchain.agents import load_tools, initialize_agent\n",
    "from langchain.agents import AgentType\n",
    "from langchain_experimental.agents.agent_toolkits import create_python_agent\n",
    "from langchain_experimental.tools.python.tool import PythonREPLTool, PythonREPL\n",
    "\n",
    "from openai import OpenAI\n",
    "import openai\n",
    "import os\n",
    "from kaggle_secrets import UserSecretsClient\n",
    "\n",
    "user_secrets = UserSecretsClient()\n",
    "openai.api_key = user_secrets.get_secret(\"openai_api\")\n",
    "client = OpenAI(\n",
    "    # This is the default and can be omitted\n",
    "    api_key=openai.api_key,\n",
    ")\n",
    "\n",
    "llm_model = \"gpt-3.5-turbo\""
   ]
  },
  {
   "cell_type": "code",
   "execution_count": 3,
   "id": "459f2d81",
   "metadata": {
    "execution": {
     "iopub.execute_input": "2024-06-16T15:36:59.047930Z",
     "iopub.status.busy": "2024-06-16T15:36:59.047312Z",
     "iopub.status.idle": "2024-06-16T15:36:59.316918Z",
     "shell.execute_reply": "2024-06-16T15:36:59.315780Z"
    },
    "papermill": {
     "duration": 0.293043,
     "end_time": "2024-06-16T15:36:59.320523",
     "exception": false,
     "start_time": "2024-06-16T15:36:59.027480",
     "status": "completed"
    },
    "tags": []
   },
   "outputs": [
    {
     "name": "stderr",
     "output_type": "stream",
     "text": [
      "/opt/conda/lib/python3.10/site-packages/langchain_core/_api/deprecation.py:139: LangChainDeprecationWarning: The class `ChatOpenAI` was deprecated in LangChain 0.0.10 and will be removed in 0.3.0. An updated version of the class exists in the langchain-openai package and should be used instead. To use it run `pip install -U langchain-openai` and import as `from langchain_openai import ChatOpenAI`.\n",
      "  warn_deprecated(\n"
     ]
    }
   ],
   "source": [
    "llm_model = \"gpt-3.5-turbo\"\n",
    "llm = ChatOpenAI(temperature=0.9, model=llm_model, openai_api_key=openai.api_key)\n"
   ]
  },
  {
   "cell_type": "code",
   "execution_count": 4,
   "id": "429b9004",
   "metadata": {
    "execution": {
     "iopub.execute_input": "2024-06-16T15:36:59.411300Z",
     "iopub.status.busy": "2024-06-16T15:36:59.410868Z",
     "iopub.status.idle": "2024-06-16T15:36:59.686552Z",
     "shell.execute_reply": "2024-06-16T15:36:59.685427Z"
    },
    "papermill": {
     "duration": 0.300467,
     "end_time": "2024-06-16T15:36:59.689545",
     "exception": false,
     "start_time": "2024-06-16T15:36:59.389078",
     "status": "completed"
    },
    "tags": []
   },
   "outputs": [],
   "source": [
    "tools = load_tools([\"llm-math\",\"wikipedia\"], llm=llm)"
   ]
  },
  {
   "cell_type": "markdown",
   "id": "7daa59f9",
   "metadata": {},
   "source": [
    "math agent"
   ]
  },
  {
   "cell_type": "code",
   "execution_count": 5,
   "id": "6d6ec2dc",
   "metadata": {
    "execution": {
     "iopub.execute_input": "2024-06-16T15:36:59.774063Z",
     "iopub.status.busy": "2024-06-16T15:36:59.773410Z",
     "iopub.status.idle": "2024-06-16T15:36:59.799557Z",
     "shell.execute_reply": "2024-06-16T15:36:59.798294Z"
    },
    "papermill": {
     "duration": 0.049956,
     "end_time": "2024-06-16T15:36:59.802415",
     "exception": false,
     "start_time": "2024-06-16T15:36:59.752459",
     "status": "completed"
    },
    "tags": []
   },
   "outputs": [
    {
     "name": "stderr",
     "output_type": "stream",
     "text": [
      "/opt/conda/lib/python3.10/site-packages/langchain_core/_api/deprecation.py:139: LangChainDeprecationWarning: The function `initialize_agent` was deprecated in LangChain 0.1.0 and will be removed in 0.3.0. Use Use new agent constructor methods like create_react_agent, create_json_agent, create_structured_chat_agent, etc. instead.\n",
      "  warn_deprecated(\n"
     ]
    }
   ],
   "source": [
    "agent= initialize_agent(\n",
    "    tools, \n",
    "    llm, \n",
    "    agent=AgentType.CHAT_ZERO_SHOT_REACT_DESCRIPTION,\n",
    "    handle_parsing_errors=True,\n",
    "    verbose = True)"
   ]
  },
  {
   "cell_type": "code",
   "execution_count": 6,
   "id": "aef86168",
   "metadata": {
    "execution": {
     "iopub.execute_input": "2024-06-16T15:36:59.884705Z",
     "iopub.status.busy": "2024-06-16T15:36:59.884237Z",
     "iopub.status.idle": "2024-06-16T15:37:02.768079Z",
     "shell.execute_reply": "2024-06-16T15:37:02.766189Z"
    },
    "papermill": {
     "duration": 2.908513,
     "end_time": "2024-06-16T15:37:02.772433",
     "exception": false,
     "start_time": "2024-06-16T15:36:59.863920",
     "status": "completed"
    },
    "tags": []
   },
   "outputs": [
    {
     "name": "stderr",
     "output_type": "stream",
     "text": [
      "/opt/conda/lib/python3.10/site-packages/langchain_core/_api/deprecation.py:139: LangChainDeprecationWarning: The method `Chain.__call__` was deprecated in langchain 0.1.0 and will be removed in 0.3.0. Use invoke instead.\n",
      "  warn_deprecated(\n"
     ]
    },
    {
     "name": "stdout",
     "output_type": "stream",
     "text": [
      "\n",
      "\n",
      "\u001b[1m> Entering new AgentExecutor chain...\u001b[0m\n",
      "\u001b[32;1m\u001b[1;3mThought: We can calculate the total area of the garden by multiplying the length and width of the rectangle.\n",
      "Action:\n",
      "```\n",
      "{\n",
      "  \"action\": \"Calculator\",\n",
      "  \"action_input\": \"12 * 8\"\n",
      "}\n",
      "```\u001b[0m\n",
      "Observation: \u001b[36;1m\u001b[1;3mAnswer: 96\u001b[0m\n",
      "Thought:\u001b[32;1m\u001b[1;3mI now know the final answer\n",
      "Final Answer: The total area of the garden is 96 square meters.\u001b[0m\n",
      "\n",
      "\u001b[1m> Finished chain.\u001b[0m\n"
     ]
    },
    {
     "data": {
      "text/plain": [
       "{'input': 'If you have a rectangular garden with dimensions 12 meters by 8 meters, what is the total area of the garden in square meters?',\n",
       " 'output': 'The total area of the garden is 96 square meters.'}"
      ]
     },
     "execution_count": 6,
     "metadata": {},
     "output_type": "execute_result"
    }
   ],
   "source": [
    "agent(\"If you have a rectangular garden with dimensions 12 meters by 8 meters, what is the total area of the garden in square meters?\")\n"
   ]
  },
  {
   "cell_type": "markdown",
   "id": "71f31bd9",
   "metadata": {},
   "source": [
    "wikipedia agent"
   ]
  },
  {
   "cell_type": "code",
   "execution_count": 7,
   "id": "4cfdd4e0",
   "metadata": {
    "execution": {
     "iopub.execute_input": "2024-06-16T15:37:02.894900Z",
     "iopub.status.busy": "2024-06-16T15:37:02.894413Z",
     "iopub.status.idle": "2024-06-16T15:37:22.685580Z",
     "shell.execute_reply": "2024-06-16T15:37:22.684099Z"
    },
    "papermill": {
     "duration": 19.816097,
     "end_time": "2024-06-16T15:37:22.688819",
     "exception": false,
     "start_time": "2024-06-16T15:37:02.872722",
     "status": "completed"
    },
    "tags": []
   },
   "outputs": [
    {
     "name": "stdout",
     "output_type": "stream",
     "text": [
      "\n",
      "\n",
      "\u001b[1m> Entering new AgentExecutor chain...\u001b[0m\n",
      "\u001b[32;1m\u001b[1;3mThought: We can use Wikipedia to find out which books Andrew Ng has written.\n",
      "\n",
      "Action:\n",
      "```\n",
      "{\n",
      "  \"action\": \"wikipedia\",\n",
      "  \"action_input\": \"Andrew Ng\"\n",
      "}\n",
      "```\u001b[0m\n",
      "Observation: \u001b[33;1m\u001b[1;3mPage: Andrew Ng\n",
      "Summary: Andrew Yan-Tak Ng (Chinese: 吳恩達; born 1976) is a British-American computer scientist and technology entrepreneur focusing on machine learning and artificial intelligence (AI). Ng was a cofounder and head of Google Brain and was the former Chief Scientist at Baidu, building the company's Artificial Intelligence Group into a team of several thousand people.\n",
      "Ng is an adjunct professor at Stanford University (formerly associate professor and Director of its Stanford AI Lab or SAIL). Ng has also worked in the field of online education, cofounding Coursera and DeepLearning.AI. He has spearheaded many efforts to \"democratize deep learning\" teaching over 8 million students through his online courses. Ng is renowned globally in computer science, recognized in Time magazine's 100 Most Influential People in 2012 and Fast Company's Most Creative People in 2014. His influence extends to being named in the Time100 AI Most Influential People in 2023.\n",
      "In 2018, he launched and currently heads the AI Fund, initially a $175-million investment fund for backing artificial intelligence startups. He has founded Landing AI, which provides AI-powered SaaS products.\n",
      "On April 11, 2024, Amazon announced the appointment of Ng to its board of directors.\n",
      "\n",
      "\n",
      "\n",
      "Page: Andrew Ng (physicist)\n",
      "Summary: Andrew Kam-hung Ng is a Canadian physicist who is a professor emeritus in the Department of Physics and Astronomy at the Peter Wall Institute for Advanced Studies.\n",
      "\n",
      "\n",
      "\n",
      "Page: Ng (name)\n",
      "Summary: Ng (pronounced [ŋ̍]; English approximation often  ing or  eng) is a Cantonese transliteration of the Chinese surnames 吳/吴 (Mandarin Wú) and 伍 (Mandarin Wǔ). Alternately, it is a common Hokkien transcription of the name 黃/黄 (Pe̍h-ōe-jī: N̂ɡ, Mandarin Huáng).\n",
      "The surname is sometimes romanized as Ang, Eng, Ing and Ong in the United States and Ung in Australia. The Mandarin version of Ng is sometimes romanized as Woo or Wu. In Vietnam, the corresponding surname is Ngô. In Cambodia, the corresponding surname is Oeng. \n",
      "A variant pronunciation for 黃/黄 in the Zhangzhou dialect of Hokkien is [ũĩ˨˧] (Pe̍h-ōe-jī: Ûiⁿ) and has various transliterations, such as Oei, Oey, and Uy.\u001b[0m\n",
      "Thought:\u001b[32;1m\u001b[1;3mI need to find the list of books written by Andrew Ng.\n",
      "Action:\n",
      "```\n",
      "{\n",
      "  \"action\": \"wikipedia\",\n",
      "  \"action_input\": \"Andrew Ng bibliography\"\n",
      "}\n",
      "```\u001b[0m\n",
      "Observation: \u001b[33;1m\u001b[1;3mPage: Prince Andrew, Duke of York\n",
      "Summary: Prince Andrew, Duke of York (Andrew Albert Christian Edward; born 19 February 1960) is a member of the British royal family. He is the third child and second son of Queen Elizabeth II and Prince Philip, Duke of Edinburgh, and a younger brother of King Charles III. Andrew was born second in the line of succession to the British throne and is now eighth, and the first person in the line who is not a descendant of the reigning monarch.\n",
      "Andrew served in the Royal Navy as a helicopter pilot and instructor and as the captain of a warship. During the Falklands War, he flew on multiple missions including anti-surface warfare, casualty evacuation, and Exocet missile decoy. In 1986, he married Sarah Ferguson and was made Duke of York. They have two daughters: Princess Beatrice and Princess Eugenie. Their marriage, separation in 1992, and divorce in 1996 attracted extensive media coverage. As Duke of York, Andrew undertook official duties and engagements on behalf of his mother. He served as the UK's Special Representative for International Trade and Investment for 10 years until July 2011.\n",
      "In 2014, Virginia Giuffre alleged that, as a 17-year-old, she was sex trafficked to Andrew by convicted sex offender Jeffrey Epstein. Andrew denied any wrongdoing. Following criticism for his association with Epstein and Ghislaine Maxwell, Andrew resigned from public roles in May 2020, and his honorary military affiliations and royal charitable patronages were removed by the Queen in January 2022. He was the defendant in a civil lawsuit over sexual assault filed by Giuffre in New York State. The lawsuit was settled out of court in February 2022; in the settlement, Andrew paid an undisclosed sum to Giuffre.\n",
      "\n",
      "Page: Maya Soetoro-Ng\n",
      "Summary: Maya Kasandra Soetoro-Ng (née Soetoro; ; born August 15, 1970) is an Indonesian-born American academic, who is a faculty specialist at the Spark M. Matsunaga Institute for Peace and Conflict Resolution, based in the College of Social Sciences at the University of Hawaiʻi at Mānoa. She is also a consultant for the Obama Foundation, working to develop the Asia-Pacific Leaders Program. Formerly a high school history teacher, Soetoro-Ng is the maternal half-sister of  Barack Obama, the 44th president of the United States.\n",
      "\n",
      "Page: Dragon Boat Festival\n",
      "Summary: The Dragon Boat Festival (traditional Chinese: 端午節; simplified Chinese: 端午节; pinyin: Duānwǔ jié) is a traditional Chinese holiday that occurs on the fifth day of the fifth month of the Chinese calendar, which corresponds to late May or early June in the Gregorian calendar. The holiday commemorates Qu Yuan who was the beloved prime minister of the southern Chinese state of Chu during the Warring States Period, about 600 B.C. to 200 B.C., and is celebrated by holding dragon boat races and eating sticky rice dumplings called zongzi, which were southern Chinese traditions. Dragon Boat Festival integrates praying for good luck and taking respite from the summer heat.\n",
      "In September 2009, UNESCO officially approved the holiday's inclusion in the Representative List of the Intangible Cultural Heritage of Humanity, becoming the first Chinese holiday to be selected.\n",
      "\n",
      "\u001b[0m\n",
      "Thought:\u001b[32;1m\u001b[1;3mI need to refine my search to find the list of books written by Andrew Ng.\n",
      "Action:\n",
      "```\n",
      "{\n",
      "  \"action\": \"wikipedia\",\n",
      "  \"action_input\": \"List of books by Andrew Ng\"\n",
      "}\n",
      "```\u001b[0m\n",
      "Observation: \u001b[33;1m\u001b[1;3mPage: Andrew Ng\n",
      "Summary: Andrew Yan-Tak Ng (Chinese: 吳恩達; born 1976) is a British-American computer scientist and technology entrepreneur focusing on machine learning and artificial intelligence (AI). Ng was a cofounder and head of Google Brain and was the former Chief Scientist at Baidu, building the company's Artificial Intelligence Group into a team of several thousand people.\n",
      "Ng is an adjunct professor at Stanford University (formerly associate professor and Director of its Stanford AI Lab or SAIL). Ng has also worked in the field of online education, cofounding Coursera and DeepLearning.AI. He has spearheaded many efforts to \"democratize deep learning\" teaching over 8 million students through his online courses. Ng is renowned globally in computer science, recognized in Time magazine's 100 Most Influential People in 2012 and Fast Company's Most Creative People in 2014. His influence extends to being named in the Time100 AI Most Influential People in 2023.\n",
      "In 2018, he launched and currently heads the AI Fund, initially a $175-million investment fund for backing artificial intelligence startups. He has founded Landing AI, which provides AI-powered SaaS products.\n",
      "On April 11, 2024, Amazon announced the appointment of Ng to its board of directors.\n",
      "\n",
      "\n",
      "\n",
      "Page: List of Pathfinder books\n",
      "Summary: This is a list of Pathfinder books for the Pathfinder Roleplaying Game fantasy role-playing game.\n",
      "\n",
      "Page: List of books banned by governments\n",
      "Summary: Banned books are books or other printed works such as essays or plays which have been prohibited by law, or to which free access has been restricted by other means. The practice of banning books is a form of censorship, from political, legal, religious, moral, or (less often) commercial motives. This article lists notable banned books and works, giving a brief context for the reason that each book was prohibited. Banned books include fictional works such as novels, poems and plays and non-fiction works such as biographies and dictionaries.\n",
      "Since there have been a large number of banned books, some publishers have sought out to publish these books. The best-known examples are the Parisian Obelisk Press, which published Henry Miller's sexually frank novel Tropic of Cancer, and Olympia Press, which published William Burroughs's Naked Lunch.  Both of these, the work of father Jack Kahane and son Maurice Girodias, specialized in English-language books which were prohibited, at the time, in Great Britain and the United States. Ruedo ibérico, also located in Paris, specialized in books prohibited in Spain during the dictatorship of Francisco Franco. Russian literature prohibited during the Soviet period was published outside of Russia.\n",
      "Many countries throughout the world have their own methods of restricting access to books, although the prohibitions vary strikingly from one country to another.\n",
      "Despite the opposition from the American Library Association (ALA), books continue to be banned by school and public libraries across the United States. This is usually the result of complaints from parents, who find particular books not appropriate for their children (e.g., books with graphical depictions of child sex, like Gender Queer: A Memoir). In many libraries, including the British Library and the Library of Congress, erotic books are housed in separate collections in restricted access reading rooms. In some libraries, a special application may be needed to read certain books. Libraries sometimes avoid purchasing controversial books, and the personal opinions of librarians have at times affected book selection.\u001b[0m\n",
      "Thought:\u001b[32;1m\u001b[1;3mI need to be more specific in my search to find the list of books written by Andrew Ng.\n",
      "Action:\n",
      "```\n",
      "{\n",
      "  \"action\": \"wikipedia\",\n",
      "  \"action_input\": \"Works by Andrew Ng\"\n",
      "}\n",
      "```\u001b[0m\n",
      "Observation: \u001b[33;1m\u001b[1;3mPage: Maya Soetoro-Ng\n",
      "Summary: Maya Kasandra Soetoro-Ng (née Soetoro; ; born August 15, 1970) is an Indonesian-born American academic, who is a faculty specialist at the Spark M. Matsunaga Institute for Peace and Conflict Resolution, based in the College of Social Sciences at the University of Hawaiʻi at Mānoa. She is also a consultant for the Obama Foundation, working to develop the Asia-Pacific Leaders Program. Formerly a high school history teacher, Soetoro-Ng is the maternal half-sister of  Barack Obama, the 44th president of the United States.\n",
      "\n",
      "Page: Coursera\n",
      "Summary: Coursera Inc. () is an American global massive open online course provider. It was founded in 2012 by Stanford University computer science professors Andrew Ng and Daphne Koller. Coursera works with universities and other organizations to offer online courses, certifications, and degrees in a variety of subjects. \n",
      "On February 2, 2021, Coursera announced its B Corporation certification from B Lab and its transformation into a Public Benefit Corporation. \n",
      "As of 2023, more than 300 universities and companies were offering courses through Coursera, and by 2024, the number of courses available had risen to approximately 7,000.\n",
      "\n",
      "Page: Come Home Love: Lo and Behold\n",
      "Summary: Come Home Love: Lo and Behold (Chinese: 愛·回家之開心速遞; literally \"Love Returning Home, Happy Delivery\"), alternately known as Come Home Love: Happy Courrier, is a 2017 daily half-hour Hong Kong sitcom created by TVB, starring Lau Dan, Angela Tong, Koni Lui, Stanley Cheung, Pal Sinn, Mandy Lam, Andrea So, Joyce Tang and Kalok Chow. It is produced by Law Chun-ngok who also produced the three previous Come Home Love.\n",
      "Filming began in January 2017 and is filmed as it airs. The series premiered on February 20, 2017, airing every Monday through Friday on Hong Kong's TVB Jade, Malaysia's Astro Wah Lai Toi and Australia's TVB channels during its 8:00-8:30 pm timeslot, with an expected 180 episodes. Due to the show's popularity and high ratings, it has since been extended to 900 episodes and now airs seven days a week. In September 2020 the show aired its one-thousandth episode, exceeding the episode count of the first series. Additionally, it exceeded A Kindred Spirit's episode count (when aired as a sitcom) when its 1128th episode aired, making it one of the longest running drama shows in Hong Kong television history.\u001b[0m\n",
      "Thought:\u001b[32;1m\u001b[1;3mI need to find the list of books written by Andrew Ng.\n",
      "Action:\n",
      "```\n",
      "{\n",
      "  \"action\": \"wikipedia\",\n",
      "  \"action_input\": \"Andrew Ng bibliography\"\n",
      "}\n",
      "```\u001b[0m\n",
      "Observation: \u001b[33;1m\u001b[1;3mPage: Prince Andrew, Duke of York\n",
      "Summary: Prince Andrew, Duke of York (Andrew Albert Christian Edward; born 19 February 1960) is a member of the British royal family. He is the third child and second son of Queen Elizabeth II and Prince Philip, Duke of Edinburgh, and a younger brother of King Charles III. Andrew was born second in the line of succession to the British throne and is now eighth, and the first person in the line who is not a descendant of the reigning monarch.\n",
      "Andrew served in the Royal Navy as a helicopter pilot and instructor and as the captain of a warship. During the Falklands War, he flew on multiple missions including anti-surface warfare, casualty evacuation, and Exocet missile decoy. In 1986, he married Sarah Ferguson and was made Duke of York. They have two daughters: Princess Beatrice and Princess Eugenie. Their marriage, separation in 1992, and divorce in 1996 attracted extensive media coverage. As Duke of York, Andrew undertook official duties and engagements on behalf of his mother. He served as the UK's Special Representative for International Trade and Investment for 10 years until July 2011.\n",
      "In 2014, Virginia Giuffre alleged that, as a 17-year-old, she was sex trafficked to Andrew by convicted sex offender Jeffrey Epstein. Andrew denied any wrongdoing. Following criticism for his association with Epstein and Ghislaine Maxwell, Andrew resigned from public roles in May 2020, and his honorary military affiliations and royal charitable patronages were removed by the Queen in January 2022. He was the defendant in a civil lawsuit over sexual assault filed by Giuffre in New York State. The lawsuit was settled out of court in February 2022; in the settlement, Andrew paid an undisclosed sum to Giuffre.\n",
      "\n",
      "Page: Maya Soetoro-Ng\n",
      "Summary: Maya Kasandra Soetoro-Ng (née Soetoro; ; born August 15, 1970) is an Indonesian-born American academic, who is a faculty specialist at the Spark M. Matsunaga Institute for Peace and Conflict Resolution, based in the College of Social Sciences at the University of Hawaiʻi at Mānoa. She is also a consultant for the Obama Foundation, working to develop the Asia-Pacific Leaders Program. Formerly a high school history teacher, Soetoro-Ng is the maternal half-sister of  Barack Obama, the 44th president of the United States.\n",
      "\n",
      "Page: Dragon Boat Festival\n",
      "Summary: The Dragon Boat Festival (traditional Chinese: 端午節; simplified Chinese: 端午节; pinyin: Duānwǔ jié) is a traditional Chinese holiday that occurs on the fifth day of the fifth month of the Chinese calendar, which corresponds to late May or early June in the Gregorian calendar. The holiday commemorates Qu Yuan who was the beloved prime minister of the southern Chinese state of Chu during the Warring States Period, about 600 B.C. to 200 B.C., and is celebrated by holding dragon boat races and eating sticky rice dumplings called zongzi, which were southern Chinese traditions. Dragon Boat Festival integrates praying for good luck and taking respite from the summer heat.\n",
      "In September 2009, UNESCO officially approved the holiday's inclusion in the Representative List of the Intangible Cultural Heritage of Humanity, becoming the first Chinese holiday to be selected.\n",
      "\n",
      "\u001b[0m\n",
      "Thought:\u001b[32;1m\u001b[1;3mI need to try searching for \"Books written by Andrew Ng\" directly.\n",
      "Action:\n",
      "```\n",
      "{\n",
      "  \"action\": \"wikipedia\",\n",
      "  \"action_input\": \"Books written by Andrew Ng\"\n",
      "}\n",
      "```\u001b[0m\n",
      "Observation: \u001b[33;1m\u001b[1;3mPage: Andrew Ng\n",
      "Summary: Andrew Yan-Tak Ng (Chinese: 吳恩達; born 1976) is a British-American computer scientist and technology entrepreneur focusing on machine learning and artificial intelligence (AI). Ng was a cofounder and head of Google Brain and was the former Chief Scientist at Baidu, building the company's Artificial Intelligence Group into a team of several thousand people.\n",
      "Ng is an adjunct professor at Stanford University (formerly associate professor and Director of its Stanford AI Lab or SAIL). Ng has also worked in the field of online education, cofounding Coursera and DeepLearning.AI. He has spearheaded many efforts to \"democratize deep learning\" teaching over 8 million students through his online courses. Ng is renowned globally in computer science, recognized in Time magazine's 100 Most Influential People in 2012 and Fast Company's Most Creative People in 2014. His influence extends to being named in the Time100 AI Most Influential People in 2023.\n",
      "In 2018, he launched and currently heads the AI Fund, initially a $175-million investment fund for backing artificial intelligence startups. He has founded Landing AI, which provides AI-powered SaaS products.\n",
      "On April 11, 2024, Amazon announced the appointment of Ng to its board of directors.\n",
      "\n",
      "\n",
      "\n",
      "Page: Andrew E.\n",
      "Summary: Andrew Ford Valentino Espiritu (born July 30, 1967) is a Filipino rapper, record producer, actor, toy collector and comedian. He is considered as the Hari ng Parody. He is best known in the Philippines for his 1990 debut hit single \"Humanap Ka ng Panget\" (Look For Someone Ugly). Andrew E. won a 'Rap Album of the Year' award for his latest album Clubzilla at the 2010 PMPC Star Awards for Music. His latest single is \"Shoot Shoot Part 2\" which later used as instrumental for campaign jingle \"Heto Na Inday Sara.\"\n",
      "\n",
      "\n",
      "\n",
      "Page: Prince Andrew, Duke of York\n",
      "Summary: Prince Andrew, Duke of York (Andrew Albert Christian Edward; born 19 February 1960) is a member of the British royal family. He is the third child and second son of Queen Elizabeth II and Prince Philip, Duke of Edinburgh, and a younger brother of King Charles III. Andrew was born second in the line of succession to the British throne and is now eighth, and the first person in the line who is not a descendant of the reigning monarch.\n",
      "Andrew served in the Royal Navy as a helicopter pilot and instructor and as the captain of a warship. During the Falklands War, he flew on multiple missions including anti-surface warfare, casualty evacuation, and Exocet missile decoy. In 1986, he married Sarah Ferguson and was made Duke of York. They have two daughters: Princess Beatrice and Princess Eugenie. Their marriage, separation in 1992, and divorce in 1996 attracted extensive media coverage. As Duke of York, Andrew undertook official duties and engagements on behalf of his mother. He served as the UK's Special Representative for International Trade and Investment for 10 years until July 2011.\n",
      "In 2014, Virginia Giuffre alleged that, as a 17-year-old, she was sex trafficked to Andrew by convicted sex offender Jeffrey Epstein. Andrew denied any wrongdoing. Following criticism for his association with Epstein and Ghislaine Maxwell, Andrew resigned from public roles in May 2020, and his honorary military affiliations and royal charitable patronages were removed by the Queen in January 2022. He was the defendant in a civil lawsuit over sexual assault filed by Giuffre in New York State. The lawsuit was settled out of court in February 2022; in the settlement, Andrew paid an undisclosed sum to Giuffre.\u001b[0m\n",
      "Thought:\u001b[32;1m\u001b[1;3mI need to try a more direct search to find out the books written by Andrew Ng.\n",
      "Action:\n",
      "```\n",
      "{\n",
      "  \"action\": \"wikipedia\",\n",
      "  \"action_input\": \"Andrew Ng books\"\n",
      "}\n",
      "```\n",
      "\u001b[0m\n",
      "Observation: \u001b[33;1m\u001b[1;3mPage: Andrew Ng\n",
      "Summary: Andrew Yan-Tak Ng (Chinese: 吳恩達; born 1976) is a British-American computer scientist and technology entrepreneur focusing on machine learning and artificial intelligence (AI). Ng was a cofounder and head of Google Brain and was the former Chief Scientist at Baidu, building the company's Artificial Intelligence Group into a team of several thousand people.\n",
      "Ng is an adjunct professor at Stanford University (formerly associate professor and Director of its Stanford AI Lab or SAIL). Ng has also worked in the field of online education, cofounding Coursera and DeepLearning.AI. He has spearheaded many efforts to \"democratize deep learning\" teaching over 8 million students through his online courses. Ng is renowned globally in computer science, recognized in Time magazine's 100 Most Influential People in 2012 and Fast Company's Most Creative People in 2014. His influence extends to being named in the Time100 AI Most Influential People in 2023.\n",
      "In 2018, he launched and currently heads the AI Fund, initially a $175-million investment fund for backing artificial intelligence startups. He has founded Landing AI, which provides AI-powered SaaS products.\n",
      "On April 11, 2024, Amazon announced the appointment of Ng to its board of directors.\n",
      "\n",
      "\n",
      "\n",
      "Page: Andrew E.\n",
      "Summary: Andrew Ford Valentino Espiritu (born July 30, 1967) is a Filipino rapper, record producer, actor, toy collector and comedian. He is considered as the Hari ng Parody. He is best known in the Philippines for his 1990 debut hit single \"Humanap Ka ng Panget\" (Look For Someone Ugly). Andrew E. won a 'Rap Album of the Year' award for his latest album Clubzilla at the 2010 PMPC Star Awards for Music. His latest single is \"Shoot Shoot Part 2\" which later used as instrumental for campaign jingle \"Heto Na Inday Sara.\"\n",
      "\n",
      "\n",
      "\n",
      "Page: Prince Andrew, Duke of York\n",
      "Summary: Prince Andrew, Duke of York (Andrew Albert Christian Edward; born 19 February 1960) is a member of the British royal family. He is the third child and second son of Queen Elizabeth II and Prince Philip, Duke of Edinburgh, and a younger brother of King Charles III. Andrew was born second in the line of succession to the British throne and is now eighth, and the first person in the line who is not a descendant of the reigning monarch.\n",
      "Andrew served in the Royal Navy as a helicopter pilot and instructor and as the captain of a warship. During the Falklands War, he flew on multiple missions including anti-surface warfare, casualty evacuation, and Exocet missile decoy. In 1986, he married Sarah Ferguson and was made Duke of York. They have two daughters: Princess Beatrice and Princess Eugenie. Their marriage, separation in 1992, and divorce in 1996 attracted extensive media coverage. As Duke of York, Andrew undertook official duties and engagements on behalf of his mother. He served as the UK's Special Representative for International Trade and Investment for 10 years until July 2011.\n",
      "In 2014, Virginia Giuffre alleged that, as a 17-year-old, she was sex trafficked to Andrew by convicted sex offender Jeffrey Epstein. Andrew denied any wrongdoing. Following criticism for his association with Epstein and Ghislaine Maxwell, Andrew resigned from public roles in May 2020, and his honorary military affiliations and royal charitable patronages were removed by the Queen in January 2022. He was the defendant in a civil lawsuit over sexual assault filed by Giuffre in New York State. The lawsuit was settled out of court in February 2022; in the settlement, Andrew paid an undisclosed sum to Giuffre.\u001b[0m\n",
      "Thought:\u001b[32;1m\u001b[1;3mI have exhausted my search attempts but have not been able to find the list of books written by Andrew Ng. It seems the information may not be available on Wikipedia. If you have access to other resources or sources specific to Andrew Ng's work, you may find the information there.\n",
      "\n",
      "Final Answer: The list of books written by Andrew Ng is not available in the Wikipedia search results.\u001b[0m\n",
      "\n",
      "\u001b[1m> Finished chain.\u001b[0m\n"
     ]
    }
   ],
   "source": [
    "question = \"Andrew Ng is a British-American computer scientist \\\n",
    "and the Founder of Coursera and Deep Learning.ai and a Professor at Stanford University\\\n",
    "what books did he write?\"\n",
    "result = agent(question) "
   ]
  },
  {
   "cell_type": "code",
   "execution_count": 8,
   "id": "4688d677",
   "metadata": {
    "execution": {
     "iopub.execute_input": "2024-06-16T15:37:22.828932Z",
     "iopub.status.busy": "2024-06-16T15:37:22.828395Z",
     "iopub.status.idle": "2024-06-16T15:37:22.836868Z",
     "shell.execute_reply": "2024-06-16T15:37:22.835727Z"
    },
    "papermill": {
     "duration": 0.035817,
     "end_time": "2024-06-16T15:37:22.839808",
     "exception": false,
     "start_time": "2024-06-16T15:37:22.803991",
     "status": "completed"
    },
    "tags": []
   },
   "outputs": [],
   "source": [
    "agent = create_python_agent(\n",
    "    llm,\n",
    "    tool=PythonREPLTool(),\n",
    "    verbose=True\n",
    ")"
   ]
  },
  {
   "cell_type": "code",
   "execution_count": 9,
   "id": "e12616b5",
   "metadata": {
    "execution": {
     "iopub.execute_input": "2024-06-16T15:37:22.933158Z",
     "iopub.status.busy": "2024-06-16T15:37:22.932610Z",
     "iopub.status.idle": "2024-06-16T15:37:22.940503Z",
     "shell.execute_reply": "2024-06-16T15:37:22.939200Z"
    },
    "papermill": {
     "duration": 0.035994,
     "end_time": "2024-06-16T15:37:22.943247",
     "exception": false,
     "start_time": "2024-06-16T15:37:22.907253",
     "status": "completed"
    },
    "tags": []
   },
   "outputs": [],
   "source": [
    "employee_list = [[\"Smith\", \"John\", 35], \n",
    "                 [\"Doe\", \"Jane\", 28],\n",
    "                 [\"Black\", \"Michael\", 42],\n",
    "                 [\"Brown\", \"Emily\", 31], \n",
    "                 [\"White\", \"David\", 39], \n",
    "                 [\"Green\", \"Sarah\", 45],\n",
    "                 [\"Jones\", \"Christopher\", 37]\n",
    "                ]"
   ]
  },
  {
   "cell_type": "code",
   "execution_count": 10,
   "id": "89413cff",
   "metadata": {
    "execution": {
     "iopub.execute_input": "2024-06-16T15:37:23.034267Z",
     "iopub.status.busy": "2024-06-16T15:37:23.033851Z",
     "iopub.status.idle": "2024-06-16T15:37:27.329441Z",
     "shell.execute_reply": "2024-06-16T15:37:27.327783Z"
    },
    "papermill": {
     "duration": 4.321848,
     "end_time": "2024-06-16T15:37:27.332726",
     "exception": false,
     "start_time": "2024-06-16T15:37:23.010878",
     "status": "completed"
    },
    "tags": []
   },
   "outputs": [
    {
     "name": "stderr",
     "output_type": "stream",
     "text": [
      "/opt/conda/lib/python3.10/site-packages/langchain_core/_api/deprecation.py:139: LangChainDeprecationWarning: The method `Chain.run` was deprecated in langchain 0.1.0 and will be removed in 0.3.0. Use invoke instead.\n",
      "  warn_deprecated(\n"
     ]
    },
    {
     "name": "stdout",
     "output_type": "stream",
     "text": [
      "\n",
      "\n",
      "\u001b[1m> Entering new AgentExecutor chain...\u001b[0m\n",
      "\u001b[32;1m\u001b[1;3mWe need to sort the list of employees by age in ascending order first, then by last name in descending order.\n",
      "Action: Python_REPL\n",
      "Action Input: employees = [['Smith', 'John', 35], ['Doe', 'Jane', 28], ['Black', 'Michael', 42], ['Brown', 'Emily', 31], ['White', 'David', 39], ['Green', 'Sarah', 45], ['Jones', 'Christopher', 37]]\n",
      "employees.sort(key=lambda x: (x[2], x[0]), reverse=False)\n",
      "print(employees)\u001b[0m\n",
      "Observation: \u001b[36;1m\u001b[1;3m[['Doe', 'Jane', 28], ['Brown', 'Emily', 31], ['Smith', 'John', 35], ['Jones', 'Christopher', 37], ['White', 'David', 39], ['Black', 'Michael', 42], ['Green', 'Sarah', 45]]\n",
      "\u001b[0m\n",
      "Thought:\u001b[32;1m\u001b[1;3mNow we need to sort the list by last name in descending order.\n",
      "Action: Python_REPL\n",
      "Action Input: employees.sort(key=lambda x: x[0], reverse=True)\n",
      "print(employees)\u001b[0m\n",
      "Observation: \u001b[36;1m\u001b[1;3m[['White', 'David', 39], ['Smith', 'John', 35], ['Jones', 'Christopher', 37], ['Green', 'Sarah', 45], ['Doe', 'Jane', 28], ['Brown', 'Emily', 31], ['Black', 'Michael', 42]]\n",
      "\u001b[0m\n",
      "Thought:\u001b[32;1m\u001b[1;3mI now know the final answer\n",
      "Final Answer: [['White', 'David', 39], ['Smith', 'John', 35], ['Jones', 'Christopher', 37], ['Green', 'Sarah', 45], ['Doe', 'Jane', 28], ['Brown', 'Emily', 31], ['Black', 'Michael', 42]]\u001b[0m\n",
      "\n",
      "\u001b[1m> Finished chain.\u001b[0m\n"
     ]
    },
    {
     "data": {
      "text/plain": [
       "\"[['White', 'David', 39], ['Smith', 'John', 35], ['Jones', 'Christopher', 37], ['Green', 'Sarah', 45], ['Doe', 'Jane', 28], ['Brown', 'Emily', 31], ['Black', 'Michael', 42]]\""
      ]
     },
     "execution_count": 10,
     "metadata": {},
     "output_type": "execute_result"
    }
   ],
   "source": [
    "agent.run(f\"\"\" Sort these employees by their age in ascending order and \\\n",
    "then by last name in descending order, and print the output: {employee_list}\"\"\")"
   ]
  },
  {
   "cell_type": "code",
   "execution_count": 11,
   "id": "c43fd730",
   "metadata": {
    "execution": {
     "iopub.execute_input": "2024-06-16T15:37:27.512344Z",
     "iopub.status.busy": "2024-06-16T15:37:27.511137Z",
     "iopub.status.idle": "2024-06-16T15:37:30.970606Z",
     "shell.execute_reply": "2024-06-16T15:37:30.969385Z"
    },
    "papermill": {
     "duration": 3.49426,
     "end_time": "2024-06-16T15:37:30.973614",
     "exception": false,
     "start_time": "2024-06-16T15:37:27.479354",
     "status": "completed"
    },
    "tags": []
   },
   "outputs": [
    {
     "name": "stdout",
     "output_type": "stream",
     "text": [
      "\u001b[32;1m\u001b[1;3m[chain/start]\u001b[0m \u001b[1m[chain:AgentExecutor] Entering Chain run with input:\n",
      "\u001b[0m{\n",
      "  \"input\": \"Sort these customers by last name and then first name and print the output: [['Smith', 'John', 35], ['Doe', 'Jane', 28], ['Black', 'Michael', 42], ['Brown', 'Emily', 31], ['White', 'David', 39], ['Green', 'Sarah', 45], ['Jones', 'Christopher', 37]]\"\n",
      "}\n",
      "\u001b[32;1m\u001b[1;3m[chain/start]\u001b[0m \u001b[1m[chain:AgentExecutor > chain:LLMChain] Entering Chain run with input:\n",
      "\u001b[0m{\n",
      "  \"input\": \"Sort these customers by last name and then first name and print the output: [['Smith', 'John', 35], ['Doe', 'Jane', 28], ['Black', 'Michael', 42], ['Brown', 'Emily', 31], ['White', 'David', 39], ['Green', 'Sarah', 45], ['Jones', 'Christopher', 37]]\",\n",
      "  \"agent_scratchpad\": \"\",\n",
      "  \"stop\": [\n",
      "    \"\\nObservation:\",\n",
      "    \"\\n\\tObservation:\"\n",
      "  ]\n",
      "}\n",
      "\u001b[32;1m\u001b[1;3m[llm/start]\u001b[0m \u001b[1m[chain:AgentExecutor > chain:LLMChain > llm:ChatOpenAI] Entering LLM run with input:\n",
      "\u001b[0m{\n",
      "  \"prompts\": [\n",
      "    \"Human: You are an agent designed to write and execute python code to answer questions.\\nYou have access to a python REPL, which you can use to execute python code.\\nIf you get an error, debug your code and try again.\\nOnly use the output of your code to answer the question. \\nYou might know the answer without running any code, but you should still run the code to get the answer.\\nIf it does not seem like you can write code to answer the question, just return \\\"I don't know\\\" as the answer.\\n\\n\\nPython_REPL - A Python shell. Use this to execute python commands. Input should be a valid python command. If you want to see the output of a value, you should print it out with `print(...)`.\\n\\nUse the following format:\\n\\nQuestion: the input question you must answer\\nThought: you should always think about what to do\\nAction: the action to take, should be one of [Python_REPL]\\nAction Input: the input to the action\\nObservation: the result of the action\\n... (this Thought/Action/Action Input/Observation can repeat N times)\\nThought: I now know the final answer\\nFinal Answer: the final answer to the original input question\\n\\nBegin!\\n\\nQuestion: Sort these customers by last name and then first name and print the output: [['Smith', 'John', 35], ['Doe', 'Jane', 28], ['Black', 'Michael', 42], ['Brown', 'Emily', 31], ['White', 'David', 39], ['Green', 'Sarah', 45], ['Jones', 'Christopher', 37]]\\nThought:\"\n",
      "  ]\n",
      "}\n",
      "\u001b[36;1m\u001b[1;3m[llm/end]\u001b[0m \u001b[1m[chain:AgentExecutor > chain:LLMChain > llm:ChatOpenAI] [2.11s] Exiting LLM run with output:\n",
      "\u001b[0m{\n",
      "  \"generations\": [\n",
      "    [\n",
      "      {\n",
      "        \"text\": \"We need to sort the list of customers based on their last name and then first name.\\nAction: Python_REPL\\nAction Input: customers = [['Smith', 'John', 35], ['Doe', 'Jane', 28], ['Black', 'Michael', 42], ['Brown', 'Emily', 31], ['White', 'David', 39], ['Green', 'Sarah', 45], ['Jones', 'Christopher', 37]]\\ncustomers.sort(key=lambda x: (x[0], x[1]))\\nprint(customers)\",\n",
      "        \"generation_info\": {\n",
      "          \"finish_reason\": \"stop\",\n",
      "          \"logprobs\": null\n",
      "        },\n",
      "        \"type\": \"ChatGeneration\",\n",
      "        \"message\": {\n",
      "          \"lc\": 1,\n",
      "          \"type\": \"constructor\",\n",
      "          \"id\": [\n",
      "            \"langchain\",\n",
      "            \"schema\",\n",
      "            \"messages\",\n",
      "            \"AIMessage\"\n",
      "          ],\n",
      "          \"kwargs\": {\n",
      "            \"content\": \"We need to sort the list of customers based on their last name and then first name.\\nAction: Python_REPL\\nAction Input: customers = [['Smith', 'John', 35], ['Doe', 'Jane', 28], ['Black', 'Michael', 42], ['Brown', 'Emily', 31], ['White', 'David', 39], ['Green', 'Sarah', 45], ['Jones', 'Christopher', 37]]\\ncustomers.sort(key=lambda x: (x[0], x[1]))\\nprint(customers)\",\n",
      "            \"response_metadata\": {\n",
      "              \"token_usage\": {\n",
      "                \"completion_tokens\": 112,\n",
      "                \"prompt_tokens\": 341,\n",
      "                \"total_tokens\": 453\n",
      "              },\n",
      "              \"model_name\": \"gpt-3.5-turbo\",\n",
      "              \"system_fingerprint\": null,\n",
      "              \"finish_reason\": \"stop\",\n",
      "              \"logprobs\": null\n",
      "            },\n",
      "            \"type\": \"ai\",\n",
      "            \"id\": \"run-55c71fac-0f8f-459e-99e5-430529354382-0\",\n",
      "            \"tool_calls\": [],\n",
      "            \"invalid_tool_calls\": []\n",
      "          }\n",
      "        }\n",
      "      }\n",
      "    ]\n",
      "  ],\n",
      "  \"llm_output\": {\n",
      "    \"token_usage\": {\n",
      "      \"completion_tokens\": 112,\n",
      "      \"prompt_tokens\": 341,\n",
      "      \"total_tokens\": 453\n",
      "    },\n",
      "    \"model_name\": \"gpt-3.5-turbo\",\n",
      "    \"system_fingerprint\": null\n",
      "  },\n",
      "  \"run\": null\n",
      "}\n",
      "\u001b[36;1m\u001b[1;3m[chain/end]\u001b[0m \u001b[1m[chain:AgentExecutor > chain:LLMChain] [2.11s] Exiting Chain run with output:\n",
      "\u001b[0m{\n",
      "  \"text\": \"We need to sort the list of customers based on their last name and then first name.\\nAction: Python_REPL\\nAction Input: customers = [['Smith', 'John', 35], ['Doe', 'Jane', 28], ['Black', 'Michael', 42], ['Brown', 'Emily', 31], ['White', 'David', 39], ['Green', 'Sarah', 45], ['Jones', 'Christopher', 37]]\\ncustomers.sort(key=lambda x: (x[0], x[1]))\\nprint(customers)\"\n",
      "}\n",
      "\u001b[32;1m\u001b[1;3m[tool/start]\u001b[0m \u001b[1m[chain:AgentExecutor > tool:Python_REPL] Entering Tool run with input:\n",
      "\u001b[0m\"customers = [['Smith', 'John', 35], ['Doe', 'Jane', 28], ['Black', 'Michael', 42], ['Brown', 'Emily', 31], ['White', 'David', 39], ['Green', 'Sarah', 45], ['Jones', 'Christopher', 37]]\n",
      "customers.sort(key=lambda x: (x[0], x[1]))\n",
      "print(customers)\"\n",
      "\u001b[36;1m\u001b[1;3m[tool/end]\u001b[0m \u001b[1m[chain:AgentExecutor > tool:Python_REPL] [3ms] Exiting Tool run with output:\n",
      "\u001b[0m\"[['Black', 'Michael', 42], ['Brown', 'Emily', 31], ['Doe', 'Jane', 28], ['Green', 'Sarah', 45], ['Jones', 'Christopher', 37], ['Smith', 'John', 35], ['White', 'David', 39]]\"\n",
      "\u001b[32;1m\u001b[1;3m[chain/start]\u001b[0m \u001b[1m[chain:AgentExecutor > chain:LLMChain] Entering Chain run with input:\n",
      "\u001b[0m{\n",
      "  \"input\": \"Sort these customers by last name and then first name and print the output: [['Smith', 'John', 35], ['Doe', 'Jane', 28], ['Black', 'Michael', 42], ['Brown', 'Emily', 31], ['White', 'David', 39], ['Green', 'Sarah', 45], ['Jones', 'Christopher', 37]]\",\n",
      "  \"agent_scratchpad\": \"We need to sort the list of customers based on their last name and then first name.\\nAction: Python_REPL\\nAction Input: customers = [['Smith', 'John', 35], ['Doe', 'Jane', 28], ['Black', 'Michael', 42], ['Brown', 'Emily', 31], ['White', 'David', 39], ['Green', 'Sarah', 45], ['Jones', 'Christopher', 37]]\\ncustomers.sort(key=lambda x: (x[0], x[1]))\\nprint(customers)\\nObservation: [['Black', 'Michael', 42], ['Brown', 'Emily', 31], ['Doe', 'Jane', 28], ['Green', 'Sarah', 45], ['Jones', 'Christopher', 37], ['Smith', 'John', 35], ['White', 'David', 39]]\\n\\nThought:\",\n",
      "  \"stop\": [\n",
      "    \"\\nObservation:\",\n",
      "    \"\\n\\tObservation:\"\n",
      "  ]\n",
      "}\n",
      "\u001b[32;1m\u001b[1;3m[llm/start]\u001b[0m \u001b[1m[chain:AgentExecutor > chain:LLMChain > llm:ChatOpenAI] Entering LLM run with input:\n",
      "\u001b[0m{\n",
      "  \"prompts\": [\n",
      "    \"Human: You are an agent designed to write and execute python code to answer questions.\\nYou have access to a python REPL, which you can use to execute python code.\\nIf you get an error, debug your code and try again.\\nOnly use the output of your code to answer the question. \\nYou might know the answer without running any code, but you should still run the code to get the answer.\\nIf it does not seem like you can write code to answer the question, just return \\\"I don't know\\\" as the answer.\\n\\n\\nPython_REPL - A Python shell. Use this to execute python commands. Input should be a valid python command. If you want to see the output of a value, you should print it out with `print(...)`.\\n\\nUse the following format:\\n\\nQuestion: the input question you must answer\\nThought: you should always think about what to do\\nAction: the action to take, should be one of [Python_REPL]\\nAction Input: the input to the action\\nObservation: the result of the action\\n... (this Thought/Action/Action Input/Observation can repeat N times)\\nThought: I now know the final answer\\nFinal Answer: the final answer to the original input question\\n\\nBegin!\\n\\nQuestion: Sort these customers by last name and then first name and print the output: [['Smith', 'John', 35], ['Doe', 'Jane', 28], ['Black', 'Michael', 42], ['Brown', 'Emily', 31], ['White', 'David', 39], ['Green', 'Sarah', 45], ['Jones', 'Christopher', 37]]\\nThought:We need to sort the list of customers based on their last name and then first name.\\nAction: Python_REPL\\nAction Input: customers = [['Smith', 'John', 35], ['Doe', 'Jane', 28], ['Black', 'Michael', 42], ['Brown', 'Emily', 31], ['White', 'David', 39], ['Green', 'Sarah', 45], ['Jones', 'Christopher', 37]]\\ncustomers.sort(key=lambda x: (x[0], x[1]))\\nprint(customers)\\nObservation: [['Black', 'Michael', 42], ['Brown', 'Emily', 31], ['Doe', 'Jane', 28], ['Green', 'Sarah', 45], ['Jones', 'Christopher', 37], ['Smith', 'John', 35], ['White', 'David', 39]]\\n\\nThought:\"\n",
      "  ]\n",
      "}\n",
      "\u001b[36;1m\u001b[1;3m[llm/end]\u001b[0m \u001b[1m[chain:AgentExecutor > chain:LLMChain > llm:ChatOpenAI] [1.32s] Exiting LLM run with output:\n",
      "\u001b[0m{\n",
      "  \"generations\": [\n",
      "    [\n",
      "      {\n",
      "        \"text\": \"The customers are sorted by last name and then first name.\\nFinal Answer: [['Black', 'Michael', 42], ['Brown', 'Emily', 31], ['Doe', 'Jane', 28], ['Green', 'Sarah', 45], ['Jones', 'Christopher', 37], ['Smith', 'John', 35], ['White', 'David', 39]]\",\n",
      "        \"generation_info\": {\n",
      "          \"finish_reason\": \"stop\",\n",
      "          \"logprobs\": null\n",
      "        },\n",
      "        \"type\": \"ChatGeneration\",\n",
      "        \"message\": {\n",
      "          \"lc\": 1,\n",
      "          \"type\": \"constructor\",\n",
      "          \"id\": [\n",
      "            \"langchain\",\n",
      "            \"schema\",\n",
      "            \"messages\",\n",
      "            \"AIMessage\"\n",
      "          ],\n",
      "          \"kwargs\": {\n",
      "            \"content\": \"The customers are sorted by last name and then first name.\\nFinal Answer: [['Black', 'Michael', 42], ['Brown', 'Emily', 31], ['Doe', 'Jane', 28], ['Green', 'Sarah', 45], ['Jones', 'Christopher', 37], ['Smith', 'John', 35], ['White', 'David', 39]]\",\n",
      "            \"response_metadata\": {\n",
      "              \"token_usage\": {\n",
      "                \"completion_tokens\": 79,\n",
      "                \"prompt_tokens\": 522,\n",
      "                \"total_tokens\": 601\n",
      "              },\n",
      "              \"model_name\": \"gpt-3.5-turbo\",\n",
      "              \"system_fingerprint\": null,\n",
      "              \"finish_reason\": \"stop\",\n",
      "              \"logprobs\": null\n",
      "            },\n",
      "            \"type\": \"ai\",\n",
      "            \"id\": \"run-fd299c6e-1361-4266-8758-1ff2a1640a4b-0\",\n",
      "            \"tool_calls\": [],\n",
      "            \"invalid_tool_calls\": []\n",
      "          }\n",
      "        }\n",
      "      }\n",
      "    ]\n",
      "  ],\n",
      "  \"llm_output\": {\n",
      "    \"token_usage\": {\n",
      "      \"completion_tokens\": 79,\n",
      "      \"prompt_tokens\": 522,\n",
      "      \"total_tokens\": 601\n",
      "    },\n",
      "    \"model_name\": \"gpt-3.5-turbo\",\n",
      "    \"system_fingerprint\": null\n",
      "  },\n",
      "  \"run\": null\n",
      "}\n",
      "\u001b[36;1m\u001b[1;3m[chain/end]\u001b[0m \u001b[1m[chain:AgentExecutor > chain:LLMChain] [1.32s] Exiting Chain run with output:\n",
      "\u001b[0m{\n",
      "  \"text\": \"The customers are sorted by last name and then first name.\\nFinal Answer: [['Black', 'Michael', 42], ['Brown', 'Emily', 31], ['Doe', 'Jane', 28], ['Green', 'Sarah', 45], ['Jones', 'Christopher', 37], ['Smith', 'John', 35], ['White', 'David', 39]]\"\n",
      "}\n",
      "\u001b[36;1m\u001b[1;3m[chain/end]\u001b[0m \u001b[1m[chain:AgentExecutor] [3.44s] Exiting Chain run with output:\n",
      "\u001b[0m{\n",
      "  \"output\": \"[['Black', 'Michael', 42], ['Brown', 'Emily', 31], ['Doe', 'Jane', 28], ['Green', 'Sarah', 45], ['Jones', 'Christopher', 37], ['Smith', 'John', 35], ['White', 'David', 39]]\"\n",
      "}\n"
     ]
    }
   ],
   "source": [
    "import langchain\n",
    "langchain.debug=True\n",
    "agent.run(f\"\"\"Sort these customers by \\\n",
    "last name and then first name \\\n",
    "and print the output: {employee_list}\"\"\") \n",
    "langchain.debug=False"
   ]
  },
  {
   "cell_type": "markdown",
   "id": "9db4429d",
   "metadata": {},
   "source": [
    "customized agent"
   ]
  },
  {
   "cell_type": "code",
   "execution_count": 12,
   "id": "aceafb33",
   "metadata": {
    "execution": {
     "iopub.execute_input": "2024-06-16T15:37:31.075064Z",
     "iopub.status.busy": "2024-06-16T15:37:31.073479Z",
     "iopub.status.idle": "2024-06-16T15:37:31.080390Z",
     "shell.execute_reply": "2024-06-16T15:37:31.078896Z"
    },
    "papermill": {
     "duration": 0.037744,
     "end_time": "2024-06-16T15:37:31.083255",
     "exception": false,
     "start_time": "2024-06-16T15:37:31.045511",
     "status": "completed"
    },
    "tags": []
   },
   "outputs": [],
   "source": [
    "from langchain.agents import tool\n",
    "from datetime import date"
   ]
  },
  {
   "cell_type": "code",
   "execution_count": 13,
   "id": "a19fbf8c",
   "metadata": {
    "execution": {
     "iopub.execute_input": "2024-06-16T15:37:31.187241Z",
     "iopub.status.busy": "2024-06-16T15:37:31.186803Z",
     "iopub.status.idle": "2024-06-16T15:37:31.198034Z",
     "shell.execute_reply": "2024-06-16T15:37:31.196680Z"
    },
    "papermill": {
     "duration": 0.041914,
     "end_time": "2024-06-16T15:37:31.201012",
     "exception": false,
     "start_time": "2024-06-16T15:37:31.159098",
     "status": "completed"
    },
    "tags": []
   },
   "outputs": [],
   "source": [
    "@tool\n",
    "def time(text: str) -> str:\n",
    "    \"\"\"Returns todays date, use this for any \\\n",
    "    questions related to knowing todays date. \\\n",
    "    The input should always be an empty string, \\\n",
    "    and this function will always return todays \\\n",
    "    date - any date mathmatics should occur \\\n",
    "    outside this function.\"\"\"\n",
    "    return str(date.today())"
   ]
  },
  {
   "cell_type": "code",
   "execution_count": 14,
   "id": "9be4f8a0",
   "metadata": {
    "execution": {
     "iopub.execute_input": "2024-06-16T15:37:31.307073Z",
     "iopub.status.busy": "2024-06-16T15:37:31.306608Z",
     "iopub.status.idle": "2024-06-16T15:37:31.314534Z",
     "shell.execute_reply": "2024-06-16T15:37:31.313089Z"
    },
    "papermill": {
     "duration": 0.039097,
     "end_time": "2024-06-16T15:37:31.317813",
     "exception": false,
     "start_time": "2024-06-16T15:37:31.278716",
     "status": "completed"
    },
    "tags": []
   },
   "outputs": [],
   "source": [
    "agent = initialize_agent(\n",
    "    tools + [time], \n",
    "    llm, \n",
    "    agent=AgentType.CHAT_ZERO_SHOT_REACT_DESCRIPTION, \n",
    "    handle_parsing_errors=True, \n",
    "    verbose=True\n",
    ")\n"
   ]
  },
  {
   "cell_type": "code",
   "execution_count": 15,
   "id": "93b095c6",
   "metadata": {
    "execution": {
     "iopub.execute_input": "2024-06-16T15:37:31.419093Z",
     "iopub.status.busy": "2024-06-16T15:37:31.418514Z",
     "iopub.status.idle": "2024-06-16T15:37:32.927420Z",
     "shell.execute_reply": "2024-06-16T15:37:32.926186Z"
    },
    "papermill": {
     "duration": 1.537348,
     "end_time": "2024-06-16T15:37:32.930207",
     "exception": false,
     "start_time": "2024-06-16T15:37:31.392859",
     "status": "completed"
    },
    "tags": []
   },
   "outputs": [
    {
     "name": "stdout",
     "output_type": "stream",
     "text": [
      "\n",
      "\n",
      "\u001b[1m> Entering new AgentExecutor chain...\u001b[0m\n",
      "\u001b[32;1m\u001b[1;3mThought: I should use the `time` tool to get today's date.\n",
      "Action:\n",
      "```\n",
      "{\n",
      "  \"action\": \"time\",\n",
      "  \"action_input\": \"\"\n",
      "}\n",
      "``` \n",
      "\u001b[0m\n",
      "Observation: \u001b[38;5;200m\u001b[1;3m2024-06-16\u001b[0m\n",
      "Thought:\u001b[32;1m\u001b[1;3mFinal Answer: 2024-06-16\u001b[0m\n",
      "\n",
      "\u001b[1m> Finished chain.\u001b[0m\n"
     ]
    }
   ],
   "source": [
    "try:\n",
    "    result = agent(\"whats the date today?\") \n",
    "except: \n",
    "    print(\"exception on external access\")"
   ]
  }
 ],
 "metadata": {
  "kaggle": {
   "accelerator": "none",
   "dataSources": [],
   "dockerImageVersionId": 30732,
   "isGpuEnabled": false,
   "isInternetEnabled": true,
   "language": "python",
   "sourceType": "notebook"
  },
  "kernelspec": {
   "display_name": "Python 3",
   "language": "python",
   "name": "python3"
  },
  "language_info": {
   "codemirror_mode": {
    "name": "ipython",
    "version": 3
   },
   "file_extension": ".py",
   "mimetype": "text/x-python",
   "name": "python",
   "nbconvert_exporter": "python",
   "pygments_lexer": "ipython3",
   "version": "3.10.13"
  },
  "papermill": {
   "default_parameters": {},
   "duration": 164.916822,
   "end_time": "2024-06-16T15:37:33.979749",
   "environment_variables": {},
   "exception": null,
   "input_path": "__notebook__.ipynb",
   "output_path": "__notebook__.ipynb",
   "parameters": {},
   "start_time": "2024-06-16T15:34:49.062927",
   "version": "2.5.0"
  }
 },
 "nbformat": 4,
 "nbformat_minor": 5
}
