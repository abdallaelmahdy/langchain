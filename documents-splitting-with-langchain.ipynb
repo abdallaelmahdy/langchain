{
 "cells": [
  {
   "cell_type": "code",
   "execution_count": 1,
   "id": "028fd31a",
   "metadata": {
    "execution": {
     "iopub.execute_input": "2024-06-29T12:23:29.030794Z",
     "iopub.status.busy": "2024-06-29T12:23:29.030379Z",
     "iopub.status.idle": "2024-06-29T12:24:08.031727Z",
     "shell.execute_reply": "2024-06-29T12:24:08.030146Z"
    },
    "papermill": {
     "duration": 39.028412,
     "end_time": "2024-06-29T12:24:08.035000",
     "exception": false,
     "start_time": "2024-06-29T12:23:29.006588",
     "status": "completed"
    },
    "tags": []
   },
   "outputs": [
    {
     "name": "stdout",
     "output_type": "stream",
     "text": [
      "\u001b[31mERROR: pip's dependency resolver does not currently take into account all the packages that are installed. This behaviour is the source of the following dependency conflicts.\r\n",
      "keras-cv 0.9.0 requires keras-core, which is not installed.\r\n",
      "keras-nlp 0.12.1 requires keras-core, which is not installed.\r\n",
      "tensorflow-decision-forests 1.8.1 requires wurlitzer, which is not installed.\r\n",
      "apache-beam 2.46.0 requires dill<0.3.2,>=0.3.1.1, but you have dill 0.3.8 which is incompatible.\r\n",
      "apache-beam 2.46.0 requires numpy<1.25.0,>=1.14.3, but you have numpy 1.26.4 which is incompatible.\r\n",
      "apache-beam 2.46.0 requires pyarrow<10.0.0,>=3.0.0, but you have pyarrow 16.1.0 which is incompatible.\r\n",
      "google-cloud-bigquery 2.34.4 requires packaging<22.0dev,>=14.3, but you have packaging 24.1 which is incompatible.\r\n",
      "jupyterlab 4.2.1 requires jupyter-lsp>=2.0.0, but you have jupyter-lsp 1.5.1 which is incompatible.\r\n",
      "jupyterlab-lsp 5.1.0 requires jupyter-lsp>=2.0.0, but you have jupyter-lsp 1.5.1 which is incompatible.\r\n",
      "libpysal 4.9.2 requires shapely>=2.0.1, but you have shapely 1.8.5.post1 which is incompatible.\r\n",
      "momepy 0.7.0 requires shapely>=2, but you have shapely 1.8.5.post1 which is incompatible.\r\n",
      "osmnx 1.9.3 requires shapely>=2.0, but you have shapely 1.8.5.post1 which is incompatible.\r\n",
      "spopt 0.6.0 requires shapely>=2.0.1, but you have shapely 1.8.5.post1 which is incompatible.\r\n",
      "tensorflow 2.15.0 requires keras<2.16,>=2.15.0, but you have keras 3.3.3 which is incompatible.\r\n",
      "ydata-profiling 4.6.4 requires numpy<1.26,>=1.16.0, but you have numpy 1.26.4 which is incompatible.\u001b[0m\u001b[31m\r\n",
      "\u001b[0m"
     ]
    }
   ],
   "source": [
    "!pip install LangChain -q\n",
    "!pip install -U langchain-community -q\n",
    "\n",
    "from langchain.text_splitter import RecursiveCharacterTextSplitter, CharacterTextSplitter\n",
    "\n",
    "chunk_size =26\n",
    "chunk_overlap = 4\n",
    "\n",
    "r_splitter = RecursiveCharacterTextSplitter(\n",
    "    chunk_size=chunk_size,\n",
    "    chunk_overlap=chunk_overlap\n",
    ")\n",
    "c_splitter = CharacterTextSplitter(\n",
    "    chunk_size=chunk_size,\n",
    "    chunk_overlap=chunk_overlap\n",
    ")"
   ]
  },
  {
   "cell_type": "code",
   "execution_count": 2,
   "id": "9fe084a5",
   "metadata": {
    "execution": {
     "iopub.execute_input": "2024-06-29T12:24:08.117747Z",
     "iopub.status.busy": "2024-06-29T12:24:08.117249Z",
     "iopub.status.idle": "2024-06-29T12:24:08.122638Z",
     "shell.execute_reply": "2024-06-29T12:24:08.121471Z"
    },
    "papermill": {
     "duration": 0.029475,
     "end_time": "2024-06-29T12:24:08.125151",
     "exception": false,
     "start_time": "2024-06-29T12:24:08.095676",
     "status": "completed"
    },
    "tags": []
   },
   "outputs": [],
   "source": [
    "text1 = 'abcdefghijklmnopqrstuvwxyz'"
   ]
  },
  {
   "cell_type": "code",
   "execution_count": 3,
   "id": "f0997ba8",
   "metadata": {
    "execution": {
     "iopub.execute_input": "2024-06-29T12:24:08.208543Z",
     "iopub.status.busy": "2024-06-29T12:24:08.208147Z",
     "iopub.status.idle": "2024-06-29T12:24:08.217124Z",
     "shell.execute_reply": "2024-06-29T12:24:08.215977Z"
    },
    "papermill": {
     "duration": 0.032769,
     "end_time": "2024-06-29T12:24:08.219601",
     "exception": false,
     "start_time": "2024-06-29T12:24:08.186832",
     "status": "completed"
    },
    "tags": []
   },
   "outputs": [
    {
     "data": {
      "text/plain": [
       "['abcdefghijklmnopqrstuvwxyz']"
      ]
     },
     "execution_count": 3,
     "metadata": {},
     "output_type": "execute_result"
    }
   ],
   "source": [
    "r_splitter.split_text(text1)"
   ]
  },
  {
   "cell_type": "code",
   "execution_count": 4,
   "id": "00472e79",
   "metadata": {
    "execution": {
     "iopub.execute_input": "2024-06-29T12:24:08.302023Z",
     "iopub.status.busy": "2024-06-29T12:24:08.301240Z",
     "iopub.status.idle": "2024-06-29T12:24:08.308525Z",
     "shell.execute_reply": "2024-06-29T12:24:08.307441Z"
    },
    "papermill": {
     "duration": 0.030891,
     "end_time": "2024-06-29T12:24:08.310878",
     "exception": false,
     "start_time": "2024-06-29T12:24:08.279987",
     "status": "completed"
    },
    "tags": []
   },
   "outputs": [
    {
     "data": {
      "text/plain": [
       "['abcdefghijklmnopqrstuvwxyz', 'wxyzabcdefg']"
      ]
     },
     "execution_count": 4,
     "metadata": {},
     "output_type": "execute_result"
    }
   ],
   "source": [
    "text2 = 'abcdefghijklmnopqrstuvwxyzabcdefg'\n",
    "r_splitter.split_text(text2)"
   ]
  },
  {
   "cell_type": "code",
   "execution_count": 5,
   "id": "246e106d",
   "metadata": {
    "execution": {
     "iopub.execute_input": "2024-06-29T12:24:08.393491Z",
     "iopub.status.busy": "2024-06-29T12:24:08.392442Z",
     "iopub.status.idle": "2024-06-29T12:24:08.399797Z",
     "shell.execute_reply": "2024-06-29T12:24:08.398609Z"
    },
    "papermill": {
     "duration": 0.031359,
     "end_time": "2024-06-29T12:24:08.402441",
     "exception": false,
     "start_time": "2024-06-29T12:24:08.371082",
     "status": "completed"
    },
    "tags": []
   },
   "outputs": [
    {
     "data": {
      "text/plain": [
       "['a b c d e f g h i j k l m', 'l m n o p q r s t u v w x', 'w x y z']"
      ]
     },
     "execution_count": 5,
     "metadata": {},
     "output_type": "execute_result"
    }
   ],
   "source": [
    "text3 = \"a b c d e f g h i j k l m n o p q r s t u v w x y z\"\n",
    "r_splitter.split_text(text3)"
   ]
  },
  {
   "cell_type": "code",
   "execution_count": 6,
   "id": "6c979896",
   "metadata": {
    "execution": {
     "iopub.execute_input": "2024-06-29T12:24:08.526315Z",
     "iopub.status.busy": "2024-06-29T12:24:08.525880Z",
     "iopub.status.idle": "2024-06-29T12:24:08.533841Z",
     "shell.execute_reply": "2024-06-29T12:24:08.532781Z"
    },
    "papermill": {
     "duration": 0.032308,
     "end_time": "2024-06-29T12:24:08.536314",
     "exception": false,
     "start_time": "2024-06-29T12:24:08.504006",
     "status": "completed"
    },
    "tags": []
   },
   "outputs": [
    {
     "data": {
      "text/plain": [
       "['a b c d e f g h i j k l m', 'l m n o p q r s t u v w x', 'w x y z']"
      ]
     },
     "execution_count": 6,
     "metadata": {},
     "output_type": "execute_result"
    }
   ],
   "source": [
    "c_splitter = CharacterTextSplitter(\n",
    "    chunk_size=chunk_size,\n",
    "    chunk_overlap=chunk_overlap,\n",
    "    separator = ' '\n",
    ")\n",
    "c_splitter.split_text(text3)"
   ]
  },
  {
   "cell_type": "code",
   "execution_count": 7,
   "id": "fef58128",
   "metadata": {
    "execution": {
     "iopub.execute_input": "2024-06-29T12:24:08.660970Z",
     "iopub.status.busy": "2024-06-29T12:24:08.659974Z",
     "iopub.status.idle": "2024-06-29T12:24:08.666404Z",
     "shell.execute_reply": "2024-06-29T12:24:08.665118Z"
    },
    "papermill": {
     "duration": 0.03074,
     "end_time": "2024-06-29T12:24:08.668969",
     "exception": false,
     "start_time": "2024-06-29T12:24:08.638229",
     "status": "completed"
    },
    "tags": []
   },
   "outputs": [],
   "source": [
    "text = \"\"\"As the world grapples with the challenges of climate change, \\\n",
    "renewable energy emerges as a beacon of hope. Solar and wind power, \\\n",
    "in particular, are transforming the energy landscape, offering sustainable \\\n",
    "alternatives to traditional fossil fuels. \\n\\n  \\\n",
    "Governments and businesses globally are investing in clean energy \\\n",
    "initiatives to reduce carbon footprints and mitigate environmental impact. \\\n",
    "The shift towards renewables not only addresses environmental concerns \\\n",
    "but also fosters innovation, creating a brighter and more sustainable \\\n",
    "future for generations to come.\"\"\"\n"
   ]
  },
  {
   "cell_type": "code",
   "execution_count": 8,
   "id": "33374a9d",
   "metadata": {
    "execution": {
     "iopub.execute_input": "2024-06-29T12:24:08.754296Z",
     "iopub.status.busy": "2024-06-29T12:24:08.753846Z",
     "iopub.status.idle": "2024-06-29T12:24:08.760662Z",
     "shell.execute_reply": "2024-06-29T12:24:08.759551Z"
    },
    "papermill": {
     "duration": 0.031556,
     "end_time": "2024-06-29T12:24:08.763390",
     "exception": false,
     "start_time": "2024-06-29T12:24:08.731834",
     "status": "completed"
    },
    "tags": []
   },
   "outputs": [
    {
     "data": {
      "text/plain": [
       "563"
      ]
     },
     "execution_count": 8,
     "metadata": {},
     "output_type": "execute_result"
    }
   ],
   "source": [
    "len(text)"
   ]
  },
  {
   "cell_type": "code",
   "execution_count": 9,
   "id": "3de79405",
   "metadata": {
    "execution": {
     "iopub.execute_input": "2024-06-29T12:24:08.917045Z",
     "iopub.status.busy": "2024-06-29T12:24:08.916627Z",
     "iopub.status.idle": "2024-06-29T12:24:08.922656Z",
     "shell.execute_reply": "2024-06-29T12:24:08.921589Z"
    },
    "papermill": {
     "duration": 0.030924,
     "end_time": "2024-06-29T12:24:08.925242",
     "exception": false,
     "start_time": "2024-06-29T12:24:08.894318",
     "status": "completed"
    },
    "tags": []
   },
   "outputs": [],
   "source": [
    "# Character Text Splitter\n",
    "c_splitter = CharacterTextSplitter(\n",
    "    chunk_size=450,\n",
    "    chunk_overlap=0,\n",
    "    separator = ' '\n",
    ")\n",
    "\n",
    "# Recursive Character Text Splitter\n",
    "\n",
    "r_splitter = RecursiveCharacterTextSplitter(\n",
    "    chunk_size=450,\n",
    "    chunk_overlap=0, \n",
    "    separators=[\"\\n\\n\", \"\\n\", \" \", \"\"]\n",
    ")"
   ]
  },
  {
   "cell_type": "code",
   "execution_count": 10,
   "id": "f3ddf60f",
   "metadata": {
    "execution": {
     "iopub.execute_input": "2024-06-29T12:24:08.968238Z",
     "iopub.status.busy": "2024-06-29T12:24:08.967838Z",
     "iopub.status.idle": "2024-06-29T12:24:08.973873Z",
     "shell.execute_reply": "2024-06-29T12:24:08.972753Z"
    },
    "papermill": {
     "duration": 0.030505,
     "end_time": "2024-06-29T12:24:08.976332",
     "exception": false,
     "start_time": "2024-06-29T12:24:08.945827",
     "status": "completed"
    },
    "tags": []
   },
   "outputs": [],
   "source": [
    "# Character Text Splitter\n",
    "c_splitter = CharacterTextSplitter(\n",
    "    chunk_size=450,\n",
    "    chunk_overlap=0,\n",
    "    separator = ' '\n",
    ")\n",
    "\n",
    "# Recursive Character Text Splitter\n",
    "\n",
    "r_splitter = RecursiveCharacterTextSplitter(\n",
    "    chunk_size=450,\n",
    "    chunk_overlap=0, \n",
    "    separators=[\"\\n\\n\", \"\\n\", \" \", \"\"]\n",
    ")"
   ]
  },
  {
   "cell_type": "code",
   "execution_count": 11,
   "id": "d8f8e515",
   "metadata": {
    "execution": {
     "iopub.execute_input": "2024-06-29T12:24:09.062405Z",
     "iopub.status.busy": "2024-06-29T12:24:09.061973Z",
     "iopub.status.idle": "2024-06-29T12:24:09.069381Z",
     "shell.execute_reply": "2024-06-29T12:24:09.068318Z"
    },
    "papermill": {
     "duration": 0.033189,
     "end_time": "2024-06-29T12:24:09.071914",
     "exception": false,
     "start_time": "2024-06-29T12:24:09.038725",
     "status": "completed"
    },
    "tags": []
   },
   "outputs": [
    {
     "data": {
      "text/plain": [
       "['As the world grapples with the challenges of climate change, renewable energy emerges as a beacon of hope. Solar and wind power, in particular, are transforming the energy landscape, offering sustainable alternatives to traditional fossil fuels. \\n\\n Governments and businesses globally are investing in clean energy initiatives to reduce carbon footprints and mitigate environmental impact. The shift towards renewables not only addresses',\n",
       " 'environmental concerns but also fosters innovation, creating a brighter and more sustainable future for generations to come.']"
      ]
     },
     "execution_count": 11,
     "metadata": {},
     "output_type": "execute_result"
    }
   ],
   "source": [
    "c_splitter.split_text(text)"
   ]
  },
  {
   "cell_type": "code",
   "execution_count": 12,
   "id": "4264e6f4",
   "metadata": {
    "execution": {
     "iopub.execute_input": "2024-06-29T12:24:09.157511Z",
     "iopub.status.busy": "2024-06-29T12:24:09.157129Z",
     "iopub.status.idle": "2024-06-29T12:24:09.164359Z",
     "shell.execute_reply": "2024-06-29T12:24:09.163260Z"
    },
    "papermill": {
     "duration": 0.032244,
     "end_time": "2024-06-29T12:24:09.166939",
     "exception": false,
     "start_time": "2024-06-29T12:24:09.134695",
     "status": "completed"
    },
    "tags": []
   },
   "outputs": [
    {
     "data": {
      "text/plain": [
       "['As the world grapples with the challenges of climate change, renewable energy emerges as a beacon of hope. Solar and wind power, in particular, are transforming the energy landscape, offering sustainable alternatives to traditional fossil fuels.',\n",
       " 'Governments and businesses globally are investing in clean energy initiatives to reduce carbon footprints and mitigate environmental impact. The shift towards renewables not only addresses environmental concerns but also fosters innovation, creating a brighter and more sustainable future for generations to come.']"
      ]
     },
     "execution_count": 12,
     "metadata": {},
     "output_type": "execute_result"
    }
   ],
   "source": [
    "r_splitter.split_text(text)"
   ]
  },
  {
   "cell_type": "code",
   "execution_count": 13,
   "id": "004fc9cc",
   "metadata": {
    "execution": {
     "iopub.execute_input": "2024-06-29T12:24:09.254168Z",
     "iopub.status.busy": "2024-06-29T12:24:09.253710Z",
     "iopub.status.idle": "2024-06-29T12:24:09.262488Z",
     "shell.execute_reply": "2024-06-29T12:24:09.261311Z"
    },
    "papermill": {
     "duration": 0.033817,
     "end_time": "2024-06-29T12:24:09.265014",
     "exception": false,
     "start_time": "2024-06-29T12:24:09.231197",
     "status": "completed"
    },
    "tags": []
   },
   "outputs": [
    {
     "data": {
      "text/plain": [
       "['As the world grapples with the challenges of climate change, renewable energy emerges as a beacon of hope. Solar and wind power, in particular, are',\n",
       " 'transforming the energy landscape, offering sustainable alternatives to traditional fossil fuels.',\n",
       " 'Governments and businesses globally are investing in clean energy initiatives to reduce carbon footprints and mitigate environmental impact. The',\n",
       " 'shift towards renewables not only addresses environmental concerns but also fosters innovation, creating a brighter and more sustainable future for',\n",
       " 'generations to come.']"
      ]
     },
     "execution_count": 13,
     "metadata": {},
     "output_type": "execute_result"
    }
   ],
   "source": [
    "r_splitter = RecursiveCharacterTextSplitter(\n",
    "    chunk_size=150,\n",
    "    chunk_overlap=0,\n",
    "    separators=[\"\\n\\n\", \"\\n\", \"\\. \", \" \", \"\"]\n",
    ")\n",
    "r_splitter.split_text(text)"
   ]
  },
  {
   "cell_type": "code",
   "execution_count": 14,
   "id": "a9a94315",
   "metadata": {
    "execution": {
     "iopub.execute_input": "2024-06-29T12:24:09.352536Z",
     "iopub.status.busy": "2024-06-29T12:24:09.352151Z",
     "iopub.status.idle": "2024-06-29T12:24:09.360870Z",
     "shell.execute_reply": "2024-06-29T12:24:09.359702Z"
    },
    "papermill": {
     "duration": 0.034005,
     "end_time": "2024-06-29T12:24:09.363438",
     "exception": false,
     "start_time": "2024-06-29T12:24:09.329433",
     "status": "completed"
    },
    "tags": []
   },
   "outputs": [
    {
     "data": {
      "text/plain": [
       "['As the world grapples with the challenges of climate change, renewable energy emerges as a beacon of hope. Solar and wind power, in particular, are',\n",
       " 'transforming the energy landscape, offering sustainable alternatives to traditional fossil fuels.',\n",
       " 'Governments and businesses globally are investing in clean energy initiatives to reduce carbon footprints and mitigate environmental impact. The',\n",
       " 'shift towards renewables not only addresses environmental concerns but also fosters innovation, creating a brighter and more sustainable future for',\n",
       " 'generations to come.']"
      ]
     },
     "execution_count": 14,
     "metadata": {},
     "output_type": "execute_result"
    }
   ],
   "source": [
    "r_splitter = RecursiveCharacterTextSplitter(\n",
    "    chunk_size=150,\n",
    "    chunk_overlap=0,\n",
    "    separators=[\"\\n\\n\", \"\\n\", \"(?<=\\. )\", \" \", \"\"]\n",
    ")\n",
    "r_splitter.split_text(text)"
   ]
  },
  {
   "cell_type": "code",
   "execution_count": 15,
   "id": "941b5096",
   "metadata": {
    "execution": {
     "iopub.execute_input": "2024-06-29T12:24:09.451338Z",
     "iopub.status.busy": "2024-06-29T12:24:09.450534Z",
     "iopub.status.idle": "2024-06-29T12:24:11.391736Z",
     "shell.execute_reply": "2024-06-29T12:24:11.390612Z"
    },
    "papermill": {
     "duration": 1.966701,
     "end_time": "2024-06-29T12:24:11.394414",
     "exception": false,
     "start_time": "2024-06-29T12:24:09.427713",
     "status": "completed"
    },
    "tags": []
   },
   "outputs": [],
   "source": [
    "from langchain.document_loaders import PyPDFLoader\n",
    "\n",
    "pdf_file = '/kaggle/input/how-to-build-a-career-in-ai-pdf/eBook-How-to-Build-a-Career-in-AI.pdf'\n",
    "loader = PyPDFLoader(pdf_file)\n",
    "pages = loader.load()"
   ]
  },
  {
   "cell_type": "code",
   "execution_count": 16,
   "id": "5ae95dd0",
   "metadata": {
    "execution": {
     "iopub.execute_input": "2024-06-29T12:24:11.481533Z",
     "iopub.status.busy": "2024-06-29T12:24:11.481074Z",
     "iopub.status.idle": "2024-06-29T12:24:11.486698Z",
     "shell.execute_reply": "2024-06-29T12:24:11.485575Z"
    },
    "papermill": {
     "duration": 0.030615,
     "end_time": "2024-06-29T12:24:11.489069",
     "exception": false,
     "start_time": "2024-06-29T12:24:11.458454",
     "status": "completed"
    },
    "tags": []
   },
   "outputs": [],
   "source": [
    "from langchain.text_splitter import CharacterTextSplitter\n",
    "text_splitter = CharacterTextSplitter(\n",
    "    separator=\"\\n\",\n",
    "    chunk_size=1000,\n",
    "    chunk_overlap=150,\n",
    "    length_function=len\n",
    ")\n"
   ]
  },
  {
   "cell_type": "code",
   "execution_count": 17,
   "id": "167d06e6",
   "metadata": {
    "execution": {
     "iopub.execute_input": "2024-06-29T12:24:11.576171Z",
     "iopub.status.busy": "2024-06-29T12:24:11.575423Z",
     "iopub.status.idle": "2024-06-29T12:24:11.584583Z",
     "shell.execute_reply": "2024-06-29T12:24:11.583439Z"
    },
    "papermill": {
     "duration": 0.034308,
     "end_time": "2024-06-29T12:24:11.587047",
     "exception": false,
     "start_time": "2024-06-29T12:24:11.552739",
     "status": "completed"
    },
    "tags": []
   },
   "outputs": [],
   "source": [
    "docs = text_splitter.split_documents(pages)"
   ]
  },
  {
   "cell_type": "code",
   "execution_count": 18,
   "id": "c33d1451",
   "metadata": {
    "execution": {
     "iopub.execute_input": "2024-06-29T12:24:11.674907Z",
     "iopub.status.busy": "2024-06-29T12:24:11.673815Z",
     "iopub.status.idle": "2024-06-29T12:24:11.681199Z",
     "shell.execute_reply": "2024-06-29T12:24:11.680014Z"
    },
    "papermill": {
     "duration": 0.032612,
     "end_time": "2024-06-29T12:24:11.683743",
     "exception": false,
     "start_time": "2024-06-29T12:24:11.651131",
     "status": "completed"
    },
    "tags": []
   },
   "outputs": [
    {
     "data": {
      "text/plain": [
       "80"
      ]
     },
     "execution_count": 18,
     "metadata": {},
     "output_type": "execute_result"
    }
   ],
   "source": [
    "len(docs)"
   ]
  },
  {
   "cell_type": "code",
   "execution_count": 19,
   "id": "8460c3bd",
   "metadata": {
    "execution": {
     "iopub.execute_input": "2024-06-29T12:24:11.729256Z",
     "iopub.status.busy": "2024-06-29T12:24:11.728360Z",
     "iopub.status.idle": "2024-06-29T12:24:11.735347Z",
     "shell.execute_reply": "2024-06-29T12:24:11.734250Z"
    },
    "papermill": {
     "duration": 0.032771,
     "end_time": "2024-06-29T12:24:11.738061",
     "exception": false,
     "start_time": "2024-06-29T12:24:11.705290",
     "status": "completed"
    },
    "tags": []
   },
   "outputs": [
    {
     "data": {
      "text/plain": [
       "41"
      ]
     },
     "execution_count": 19,
     "metadata": {},
     "output_type": "execute_result"
    }
   ],
   "source": [
    "len(pages)"
   ]
  },
  {
   "cell_type": "code",
   "execution_count": 20,
   "id": "102568b1",
   "metadata": {
    "execution": {
     "iopub.execute_input": "2024-06-29T12:24:11.828305Z",
     "iopub.status.busy": "2024-06-29T12:24:11.827840Z",
     "iopub.status.idle": "2024-06-29T12:24:11.835304Z",
     "shell.execute_reply": "2024-06-29T12:24:11.834160Z"
    },
    "papermill": {
     "duration": 0.032928,
     "end_time": "2024-06-29T12:24:11.837804",
     "exception": false,
     "start_time": "2024-06-29T12:24:11.804876",
     "status": "completed"
    },
    "tags": []
   },
   "outputs": [
    {
     "data": {
      "text/plain": [
       "'PAGE 3Table of \\nContentsIntroduction: Coding AI is the New Literacy.\\nChapter 1: Three Steps to Career Growth.\\nChapter 2: Learning Technical Skills for a \\nPromising AI Career.\\nChapter 3: Should You Learn Math to Get a Job \\nin AI?\\nChapter 4: Scoping Successful AI Projects.\\nChapter 5: Finding Projects that Complement \\nYour Career Goals.\\nChapter 6: Building a Portfolio of Projects that \\nShows Skill Progression.\\nChapter 7: A Simple Framework for Starting Your AI \\nJob Search.\\nChapter 8: Using Informational Interviews to Find \\nthe Right Job.\\nChapter 9: Finding the Right AI Job for You.\\nChapter 10: Keys to Building a Career in AI.\\nChapter 11: Overcoming Imposter Syndrome.\\nFinal Thoughts: Make Every Day Count.LEARNING\\nPROJECTS\\nJOB'"
      ]
     },
     "execution_count": 20,
     "metadata": {},
     "output_type": "execute_result"
    }
   ],
   "source": [
    "docs[2].page_content"
   ]
  },
  {
   "cell_type": "code",
   "execution_count": 21,
   "id": "a1009b26",
   "metadata": {
    "execution": {
     "iopub.execute_input": "2024-06-29T12:24:11.929299Z",
     "iopub.status.busy": "2024-06-29T12:24:11.927921Z",
     "iopub.status.idle": "2024-06-29T12:24:29.657984Z",
     "shell.execute_reply": "2024-06-29T12:24:29.656904Z"
    },
    "papermill": {
     "duration": 17.756228,
     "end_time": "2024-06-29T12:24:29.660858",
     "exception": false,
     "start_time": "2024-06-29T12:24:11.904630",
     "status": "completed"
    },
    "tags": []
   },
   "outputs": [
    {
     "name": "stdout",
     "output_type": "stream",
     "text": [
      "Collecting tiktoken\r\n",
      "  Downloading tiktoken-0.7.0-cp310-cp310-manylinux_2_17_x86_64.manylinux2014_x86_64.whl.metadata (6.6 kB)\r\n",
      "Requirement already satisfied: regex>=2022.1.18 in /opt/conda/lib/python3.10/site-packages (from tiktoken) (2023.12.25)\r\n",
      "Requirement already satisfied: requests>=2.26.0 in /opt/conda/lib/python3.10/site-packages (from tiktoken) (2.32.3)\r\n",
      "Requirement already satisfied: charset-normalizer<4,>=2 in /opt/conda/lib/python3.10/site-packages (from requests>=2.26.0->tiktoken) (3.3.2)\r\n",
      "Requirement already satisfied: idna<4,>=2.5 in /opt/conda/lib/python3.10/site-packages (from requests>=2.26.0->tiktoken) (3.6)\r\n",
      "Requirement already satisfied: urllib3<3,>=1.21.1 in /opt/conda/lib/python3.10/site-packages (from requests>=2.26.0->tiktoken) (1.26.18)\r\n",
      "Requirement already satisfied: certifi>=2017.4.17 in /opt/conda/lib/python3.10/site-packages (from requests>=2.26.0->tiktoken) (2024.2.2)\r\n",
      "Downloading tiktoken-0.7.0-cp310-cp310-manylinux_2_17_x86_64.manylinux2014_x86_64.whl (1.1 MB)\r\n",
      "\u001b[2K   \u001b[90m━━━━━━━━━━━━━━━━━━━━━━━━━━━━━━━━━━━━━━━━\u001b[0m \u001b[32m1.1/1.1 MB\u001b[0m \u001b[31m17.4 MB/s\u001b[0m eta \u001b[36m0:00:00\u001b[0m\r\n",
      "\u001b[?25hInstalling collected packages: tiktoken\r\n",
      "Successfully installed tiktoken-0.7.0\r\n"
     ]
    }
   ],
   "source": [
    "!pip install tiktoken\n",
    "from langchain.text_splitter import TokenTextSplitter\n",
    "text_splitter = TokenTextSplitter(chunk_size=1, chunk_overlap=0)"
   ]
  },
  {
   "cell_type": "code",
   "execution_count": 22,
   "id": "84883e0f",
   "metadata": {
    "execution": {
     "iopub.execute_input": "2024-06-29T12:24:29.753813Z",
     "iopub.status.busy": "2024-06-29T12:24:29.753397Z",
     "iopub.status.idle": "2024-06-29T12:24:29.762208Z",
     "shell.execute_reply": "2024-06-29T12:24:29.761056Z"
    },
    "papermill": {
     "duration": 0.035474,
     "end_time": "2024-06-29T12:24:29.764683",
     "exception": false,
     "start_time": "2024-06-29T12:24:29.729209",
     "status": "completed"
    },
    "tags": []
   },
   "outputs": [
    {
     "data": {
      "text/plain": [
       "['foo', ' bar', ' b', 'az', 'zy', 'foo']"
      ]
     },
     "execution_count": 22,
     "metadata": {},
     "output_type": "execute_result"
    }
   ],
   "source": [
    "text1 = \"foo bar bazzyfoo\"\n",
    "text_splitter.split_text(text1)"
   ]
  },
  {
   "cell_type": "code",
   "execution_count": 23,
   "id": "052c8964",
   "metadata": {
    "execution": {
     "iopub.execute_input": "2024-06-29T12:24:29.861518Z",
     "iopub.status.busy": "2024-06-29T12:24:29.861081Z",
     "iopub.status.idle": "2024-06-29T12:24:30.186154Z",
     "shell.execute_reply": "2024-06-29T12:24:30.184959Z"
    },
    "papermill": {
     "duration": 0.351773,
     "end_time": "2024-06-29T12:24:30.188776",
     "exception": false,
     "start_time": "2024-06-29T12:24:29.837003",
     "status": "completed"
    },
    "tags": []
   },
   "outputs": [
    {
     "data": {
      "text/plain": [
       "Document(page_content='PA', metadata={'source': '/kaggle/input/how-to-build-a-career-in-ai-pdf/eBook-How-to-Build-a-Career-in-AI.pdf', 'page': 0})"
      ]
     },
     "execution_count": 23,
     "metadata": {},
     "output_type": "execute_result"
    }
   ],
   "source": [
    "docs = text_splitter.split_documents(pages)\n",
    "docs[0]"
   ]
  },
  {
   "cell_type": "code",
   "execution_count": 24,
   "id": "1dc011b8",
   "metadata": {
    "execution": {
     "iopub.execute_input": "2024-06-29T12:24:30.284013Z",
     "iopub.status.busy": "2024-06-29T12:24:30.283584Z",
     "iopub.status.idle": "2024-06-29T12:24:30.290801Z",
     "shell.execute_reply": "2024-06-29T12:24:30.289591Z"
    },
    "papermill": {
     "duration": 0.035381,
     "end_time": "2024-06-29T12:24:30.293285",
     "exception": false,
     "start_time": "2024-06-29T12:24:30.257904",
     "status": "completed"
    },
    "tags": []
   },
   "outputs": [
    {
     "data": {
      "text/plain": [
       "{'source': '/kaggle/input/how-to-build-a-career-in-ai-pdf/eBook-How-to-Build-a-Career-in-AI.pdf',\n",
       " 'page': 0}"
      ]
     },
     "execution_count": 24,
     "metadata": {},
     "output_type": "execute_result"
    }
   ],
   "source": [
    "pages[0].metadata"
   ]
  },
  {
   "cell_type": "code",
   "execution_count": 25,
   "id": "681e98b7",
   "metadata": {
    "execution": {
     "iopub.execute_input": "2024-06-29T12:24:30.432946Z",
     "iopub.status.busy": "2024-06-29T12:24:30.432543Z",
     "iopub.status.idle": "2024-06-29T12:24:30.437614Z",
     "shell.execute_reply": "2024-06-29T12:24:30.436528Z"
    },
    "papermill": {
     "duration": 0.031866,
     "end_time": "2024-06-29T12:24:30.440011",
     "exception": false,
     "start_time": "2024-06-29T12:24:30.408145",
     "status": "completed"
    },
    "tags": []
   },
   "outputs": [],
   "source": [
    "from langchain.text_splitter import MarkdownHeaderTextSplitter\n"
   ]
  },
  {
   "cell_type": "code",
   "execution_count": 26,
   "id": "2e1e4b8a",
   "metadata": {
    "execution": {
     "iopub.execute_input": "2024-06-29T12:24:30.535031Z",
     "iopub.status.busy": "2024-06-29T12:24:30.533900Z",
     "iopub.status.idle": "2024-06-29T12:24:30.539616Z",
     "shell.execute_reply": "2024-06-29T12:24:30.538382Z"
    },
    "papermill": {
     "duration": 0.033094,
     "end_time": "2024-06-29T12:24:30.542000",
     "exception": false,
     "start_time": "2024-06-29T12:24:30.508906",
     "status": "completed"
    },
    "tags": []
   },
   "outputs": [],
   "source": [
    "markdown_document = \"\"\"# Title\\n\\n \\\n",
    "## Chapter 1\\n\\n \\\n",
    "Hi this is Chapter 1\\n\\n Hi this is Section 1\\n\\n \\\n",
    "### Section \\n\\n \\\n",
    "Hi this is Section 2 \\n\\n \n",
    "## Chapter 2\\n\\n \\\n",
    "Hi this is Chapter 2\"\"\""
   ]
  },
  {
   "cell_type": "code",
   "execution_count": 27,
   "id": "8984e27b",
   "metadata": {
    "execution": {
     "iopub.execute_input": "2024-06-29T12:24:30.635998Z",
     "iopub.status.busy": "2024-06-29T12:24:30.635589Z",
     "iopub.status.idle": "2024-06-29T12:24:30.640985Z",
     "shell.execute_reply": "2024-06-29T12:24:30.639845Z"
    },
    "papermill": {
     "duration": 0.032202,
     "end_time": "2024-06-29T12:24:30.643391",
     "exception": false,
     "start_time": "2024-06-29T12:24:30.611189",
     "status": "completed"
    },
    "tags": []
   },
   "outputs": [],
   "source": [
    "headers_to_split_on = [\n",
    "    (\"#\", \"Header 1\"),\n",
    "    (\"##\", \"Header 2\"),\n",
    "    (\"###\", \"Header 3\"),\n",
    "]"
   ]
  },
  {
   "cell_type": "code",
   "execution_count": 28,
   "id": "edba371b",
   "metadata": {
    "execution": {
     "iopub.execute_input": "2024-06-29T12:24:30.739309Z",
     "iopub.status.busy": "2024-06-29T12:24:30.738303Z",
     "iopub.status.idle": "2024-06-29T12:24:30.744405Z",
     "shell.execute_reply": "2024-06-29T12:24:30.743002Z"
    },
    "papermill": {
     "duration": 0.033435,
     "end_time": "2024-06-29T12:24:30.746878",
     "exception": false,
     "start_time": "2024-06-29T12:24:30.713443",
     "status": "completed"
    },
    "tags": []
   },
   "outputs": [],
   "source": [
    "markdown_splitter = MarkdownHeaderTextSplitter(\n",
    "    headers_to_split_on=headers_to_split_on\n",
    ")\n",
    "md_header_splits = markdown_splitter.split_text(markdown_document)\n"
   ]
  },
  {
   "cell_type": "code",
   "execution_count": 29,
   "id": "30c340f1",
   "metadata": {
    "execution": {
     "iopub.execute_input": "2024-06-29T12:24:30.841895Z",
     "iopub.status.busy": "2024-06-29T12:24:30.841012Z",
     "iopub.status.idle": "2024-06-29T12:24:30.848309Z",
     "shell.execute_reply": "2024-06-29T12:24:30.847218Z"
    },
    "papermill": {
     "duration": 0.034209,
     "end_time": "2024-06-29T12:24:30.850727",
     "exception": false,
     "start_time": "2024-06-29T12:24:30.816518",
     "status": "completed"
    },
    "tags": []
   },
   "outputs": [
    {
     "data": {
      "text/plain": [
       "Document(page_content='Hi this is Chapter 1  \\nHi this is Section 1', metadata={'Header 1': 'Title', 'Header 2': 'Chapter 1'})"
      ]
     },
     "execution_count": 29,
     "metadata": {},
     "output_type": "execute_result"
    }
   ],
   "source": [
    "md_header_splits[0]\n"
   ]
  },
  {
   "cell_type": "code",
   "execution_count": 30,
   "id": "014ac95e",
   "metadata": {
    "execution": {
     "iopub.execute_input": "2024-06-29T12:24:30.947775Z",
     "iopub.status.busy": "2024-06-29T12:24:30.947347Z",
     "iopub.status.idle": "2024-06-29T12:24:30.954840Z",
     "shell.execute_reply": "2024-06-29T12:24:30.953616Z"
    },
    "papermill": {
     "duration": 0.035178,
     "end_time": "2024-06-29T12:24:30.957219",
     "exception": false,
     "start_time": "2024-06-29T12:24:30.922041",
     "status": "completed"
    },
    "tags": []
   },
   "outputs": [
    {
     "data": {
      "text/plain": [
       "Document(page_content='Hi this is Section 2', metadata={'Header 1': 'Title', 'Header 2': 'Chapter 1', 'Header 3': 'Section'})"
      ]
     },
     "execution_count": 30,
     "metadata": {},
     "output_type": "execute_result"
    }
   ],
   "source": [
    "md_header_splits[1]"
   ]
  },
  {
   "cell_type": "code",
   "execution_count": 31,
   "id": "377f07b1",
   "metadata": {
    "execution": {
     "iopub.execute_input": "2024-06-29T12:24:31.053445Z",
     "iopub.status.busy": "2024-06-29T12:24:31.052544Z",
     "iopub.status.idle": "2024-06-29T12:24:31.078868Z",
     "shell.execute_reply": "2024-06-29T12:24:31.077708Z"
    },
    "papermill": {
     "duration": 0.054035,
     "end_time": "2024-06-29T12:24:31.081710",
     "exception": false,
     "start_time": "2024-06-29T12:24:31.027675",
     "status": "completed"
    },
    "tags": []
   },
   "outputs": [],
   "source": [
    "from langchain_community.document_loaders import NotionDirectoryLoader\n",
    "\n",
    "\n",
    "# Load the documents using NotionDirectoryLoader\n",
    "loader = NotionDirectoryLoader(\"/kaggle/input/notiondb/Notion_DB\")\n",
    "docs = loader.load()\n",
    "\n",
    "# Concatenate the content of all pages into a single string\n",
    "notion_text = ' '.join([d.page_content for d in docs])"
   ]
  },
  {
   "cell_type": "code",
   "execution_count": 32,
   "id": "69920dbe",
   "metadata": {
    "execution": {
     "iopub.execute_input": "2024-06-29T12:24:31.177629Z",
     "iopub.status.busy": "2024-06-29T12:24:31.176882Z",
     "iopub.status.idle": "2024-06-29T12:24:31.183230Z",
     "shell.execute_reply": "2024-06-29T12:24:31.182006Z"
    },
    "papermill": {
     "duration": 0.033686,
     "end_time": "2024-06-29T12:24:31.185722",
     "exception": false,
     "start_time": "2024-06-29T12:24:31.152036",
     "status": "completed"
    },
    "tags": []
   },
   "outputs": [],
   "source": [
    "headers_to_split_on = [\n",
    "    (\"#\", \"Header 1\"),\n",
    "    (\"##\", \"Header 2\"),\n",
    "]\n",
    "markdown_splitter = MarkdownHeaderTextSplitter(\n",
    "    headers_to_split_on=headers_to_split_on\n",
    ")\n",
    "md_header_splits = markdown_splitter.split_text(notion_text)"
   ]
  },
  {
   "cell_type": "code",
   "execution_count": 33,
   "id": "b935fcc0",
   "metadata": {
    "execution": {
     "iopub.execute_input": "2024-06-29T12:24:31.282044Z",
     "iopub.status.busy": "2024-06-29T12:24:31.281628Z",
     "iopub.status.idle": "2024-06-29T12:24:31.288999Z",
     "shell.execute_reply": "2024-06-29T12:24:31.287843Z"
    },
    "papermill": {
     "duration": 0.036065,
     "end_time": "2024-06-29T12:24:31.291609",
     "exception": false,
     "start_time": "2024-06-29T12:24:31.255544",
     "status": "completed"
    },
    "tags": []
   },
   "outputs": [
    {
     "data": {
      "text/plain": [
       "Document(page_content='↓ Click the button below at the start of every week to clear the current meal plan.', metadata={'Header 1': 'Meal Planner'})"
      ]
     },
     "execution_count": 33,
     "metadata": {},
     "output_type": "execute_result"
    }
   ],
   "source": [
    "md_header_splits[0]"
   ]
  },
  {
   "cell_type": "code",
   "execution_count": 34,
   "id": "62807f0c",
   "metadata": {
    "execution": {
     "iopub.execute_input": "2024-06-29T12:24:31.389477Z",
     "iopub.status.busy": "2024-06-29T12:24:31.388288Z",
     "iopub.status.idle": "2024-06-29T12:24:31.395310Z",
     "shell.execute_reply": "2024-06-29T12:24:31.394305Z"
    },
    "papermill": {
     "duration": 0.035478,
     "end_time": "2024-06-29T12:24:31.398232",
     "exception": false,
     "start_time": "2024-06-29T12:24:31.362754",
     "status": "completed"
    },
    "tags": []
   },
   "outputs": [
    {
     "data": {
      "text/plain": [
       "Document(page_content='To edit meals from a specific day of the week, click on the meal entry you want to modify.  \\n[Weekly Plan](Meal%20Planner%2078127b2f0a0943808b94d7ff51873450/Weekly%20Plan%20f0e6db90b62b4b3fa432f1ba0cca0039.csv)', metadata={'Header 1': 'Weekly Plan'})"
      ]
     },
     "execution_count": 34,
     "metadata": {},
     "output_type": "execute_result"
    }
   ],
   "source": [
    "md_header_splits[1]"
   ]
  }
 ],
 "metadata": {
  "kaggle": {
   "accelerator": "none",
   "dataSources": [
    {
     "datasetId": 5174412,
     "sourceId": 8640145,
     "sourceType": "datasetVersion"
    },
    {
     "datasetId": 5304580,
     "sourceId": 8817749,
     "sourceType": "datasetVersion"
    }
   ],
   "dockerImageVersionId": 30732,
   "isGpuEnabled": false,
   "isInternetEnabled": true,
   "language": "python",
   "sourceType": "notebook"
  },
  "kernelspec": {
   "display_name": "Python 3",
   "language": "python",
   "name": "python3"
  },
  "language_info": {
   "codemirror_mode": {
    "name": "ipython",
    "version": 3
   },
   "file_extension": ".py",
   "mimetype": "text/x-python",
   "name": "python",
   "nbconvert_exporter": "python",
   "pygments_lexer": "ipython3",
   "version": "3.10.13"
  },
  "papermill": {
   "default_parameters": {},
   "duration": 66.396511,
   "end_time": "2024-06-29T12:24:32.038642",
   "environment_variables": {},
   "exception": null,
   "input_path": "__notebook__.ipynb",
   "output_path": "__notebook__.ipynb",
   "parameters": {},
   "start_time": "2024-06-29T12:23:25.642131",
   "version": "2.5.0"
  }
 },
 "nbformat": 4,
 "nbformat_minor": 5
}
