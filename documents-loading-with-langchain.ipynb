{
 "cells": [
  {
   "cell_type": "code",
   "execution_count": 1,
   "id": "fbcdcc02",
   "metadata": {
    "execution": {
     "iopub.execute_input": "2024-06-23T10:50:41.601333Z",
     "iopub.status.busy": "2024-06-23T10:50:41.600906Z",
     "iopub.status.idle": "2024-06-23T10:54:08.457580Z",
     "shell.execute_reply": "2024-06-23T10:54:08.456317Z"
    },
    "papermill": {
     "duration": 206.872859,
     "end_time": "2024-06-23T10:54:08.460896",
     "exception": false,
     "start_time": "2024-06-23T10:50:41.588037",
     "status": "completed"
    },
    "tags": []
   },
   "outputs": [
    {
     "name": "stdout",
     "output_type": "stream",
     "text": [
      "\u001b[31mERROR: pip's dependency resolver does not currently take into account all the packages that are installed. This behaviour is the source of the following dependency conflicts.\r\n",
      "keras-cv 0.9.0 requires keras-core, which is not installed.\r\n",
      "keras-nlp 0.12.1 requires keras-core, which is not installed.\r\n",
      "tensorflow-decision-forests 1.8.1 requires wurlitzer, which is not installed.\r\n",
      "apache-beam 2.46.0 requires dill<0.3.2,>=0.3.1.1, but you have dill 0.3.8 which is incompatible.\r\n",
      "apache-beam 2.46.0 requires numpy<1.25.0,>=1.14.3, but you have numpy 1.26.4 which is incompatible.\r\n",
      "apache-beam 2.46.0 requires pyarrow<10.0.0,>=3.0.0, but you have pyarrow 16.1.0 which is incompatible.\r\n",
      "google-cloud-bigquery 2.34.4 requires packaging<22.0dev,>=14.3, but you have packaging 24.1 which is incompatible.\r\n",
      "jupyterlab 4.2.1 requires jupyter-lsp>=2.0.0, but you have jupyter-lsp 1.5.1 which is incompatible.\r\n",
      "jupyterlab-lsp 5.1.0 requires jupyter-lsp>=2.0.0, but you have jupyter-lsp 1.5.1 which is incompatible.\r\n",
      "libpysal 4.9.2 requires shapely>=2.0.1, but you have shapely 1.8.5.post1 which is incompatible.\r\n",
      "momepy 0.7.0 requires shapely>=2, but you have shapely 1.8.5.post1 which is incompatible.\r\n",
      "osmnx 1.9.3 requires shapely>=2.0, but you have shapely 1.8.5.post1 which is incompatible.\r\n",
      "spopt 0.6.0 requires shapely>=2.0.1, but you have shapely 1.8.5.post1 which is incompatible.\r\n",
      "tensorflow 2.15.0 requires keras<2.16,>=2.15.0, but you have keras 3.3.3 which is incompatible.\r\n",
      "ydata-profiling 4.6.4 requires numpy<1.26,>=1.16.0, but you have numpy 1.26.4 which is incompatible.\u001b[0m\u001b[31m\r\n",
      "\u001b[0m\u001b[31mERROR: pip's dependency resolver does not currently take into account all the packages that are installed. This behaviour is the source of the following dependency conflicts.\r\n",
      "jupyterlab 4.2.1 requires jupyter-lsp>=2.0.0, but you have jupyter-lsp 1.5.1 which is incompatible.\r\n",
      "jupyterlab-lsp 5.1.0 requires jupyter-lsp>=2.0.0, but you have jupyter-lsp 1.5.1 which is incompatible.\r\n",
      "kfp 2.5.0 requires google-cloud-storage<3,>=2.2.1, but you have google-cloud-storage 1.44.0 which is incompatible.\r\n",
      "kfp 2.5.0 requires requests-toolbelt<1,>=0.8.0, but you have requests-toolbelt 1.0.0 which is incompatible.\u001b[0m\u001b[31m\r\n",
      "\u001b[0m\u001b[33mWARNING: Error parsing requirements for nest-asyncio: [Errno 2] No such file or directory: '/opt/conda/lib/python3.10/site-packages/nest_asyncio-1.5.8.dist-info/METADATA'\u001b[0m\u001b[33m\r\n",
      "\u001b[0m\u001b[33mWARNING: Error parsing requirements for nest-asyncio: [Errno 2] No such file or directory: '/opt/conda/lib/python3.10/site-packages/nest_asyncio-1.5.8.dist-info/METADATA'\u001b[0m\u001b[33m\r\n",
      "\u001b[0m\u001b[33mWARNING: Error parsing requirements for nest-asyncio: [Errno 2] No such file or directory: '/opt/conda/lib/python3.10/site-packages/nest_asyncio-1.5.8.dist-info/METADATA'\u001b[0m\u001b[33m\r\n",
      "\u001b[0m\u001b[33mWARNING: Error parsing requirements for nest-asyncio: [Errno 2] No such file or directory: '/opt/conda/lib/python3.10/site-packages/nest_asyncio-1.5.8.dist-info/METADATA'\u001b[0m\u001b[33m\r\n",
      "\u001b[0m"
     ]
    }
   ],
   "source": [
    "!pip install LangChain -q\n",
    "!pip install -U langchain-community -q\n",
    "!pip install pypdf -q\n",
    "!pip install yt_dlp -q\n",
    "!pip install pydub -q\n",
    "!pip install unstructured -q\n",
    "!pip install docx2txt -q\n",
    "!pip install openai -q\n",
    "!pip install python-dotenv -q\n",
    "!pip install xlrd -q\n"
   ]
  },
  {
   "cell_type": "code",
   "execution_count": 2,
   "id": "abb354ac",
   "metadata": {
    "execution": {
     "iopub.execute_input": "2024-06-23T10:54:08.511595Z",
     "iopub.status.busy": "2024-06-23T10:54:08.511131Z",
     "iopub.status.idle": "2024-06-23T10:54:09.753687Z",
     "shell.execute_reply": "2024-06-23T10:54:09.750890Z"
    },
    "papermill": {
     "duration": 1.260019,
     "end_time": "2024-06-23T10:54:09.756907",
     "exception": false,
     "start_time": "2024-06-23T10:54:08.496888",
     "status": "completed"
    },
    "tags": []
   },
   "outputs": [],
   "source": [
    "from openai import OpenAI\n",
    "import openai\n",
    "import os\n",
    "from kaggle_secrets import UserSecretsClient\n",
    "\n",
    "user_secrets = UserSecretsClient()\n",
    "openai.api_key = user_secrets.get_secret(\"openai_api\")\n",
    "client = OpenAI(\n",
    "    # This is the default and can be omitted\n",
    "    api_key=openai.api_key,\n",
    ")\n",
    "\n",
    "llm_model = \"gpt-3.5-turbo\""
   ]
  },
  {
   "cell_type": "code",
   "execution_count": 3,
   "id": "558cbd83",
   "metadata": {
    "execution": {
     "iopub.execute_input": "2024-06-23T10:54:09.809358Z",
     "iopub.status.busy": "2024-06-23T10:54:09.808718Z",
     "iopub.status.idle": "2024-06-23T10:54:12.412302Z",
     "shell.execute_reply": "2024-06-23T10:54:12.411118Z"
    },
    "papermill": {
     "duration": 2.621065,
     "end_time": "2024-06-23T10:54:12.415570",
     "exception": false,
     "start_time": "2024-06-23T10:54:09.794505",
     "status": "completed"
    },
    "tags": []
   },
   "outputs": [],
   "source": [
    "from langchain.document_loaders import PyPDFLoader\n",
    "\n",
    "pdf_file = '/kaggle/input/how-to-build-a-career-in-ai-pdf/eBook-How-to-Build-a-Career-in-AI.pdf'\n",
    "loader = PyPDFLoader(pdf_file)\n",
    "pages = loader.load()"
   ]
  },
  {
   "cell_type": "code",
   "execution_count": 4,
   "id": "ca64c62c",
   "metadata": {
    "execution": {
     "iopub.execute_input": "2024-06-23T10:54:12.471785Z",
     "iopub.status.busy": "2024-06-23T10:54:12.471384Z",
     "iopub.status.idle": "2024-06-23T10:54:12.480583Z",
     "shell.execute_reply": "2024-06-23T10:54:12.479402Z"
    },
    "papermill": {
     "duration": 0.027255,
     "end_time": "2024-06-23T10:54:12.483411",
     "exception": false,
     "start_time": "2024-06-23T10:54:12.456156",
     "status": "completed"
    },
    "tags": []
   },
   "outputs": [
    {
     "data": {
      "text/plain": [
       "41"
      ]
     },
     "execution_count": 4,
     "metadata": {},
     "output_type": "execute_result"
    }
   ],
   "source": [
    "len(pages)"
   ]
  },
  {
   "cell_type": "code",
   "execution_count": 5,
   "id": "7a465ae7",
   "metadata": {
    "execution": {
     "iopub.execute_input": "2024-06-23T10:54:12.537682Z",
     "iopub.status.busy": "2024-06-23T10:54:12.537176Z",
     "iopub.status.idle": "2024-06-23T10:54:12.544852Z",
     "shell.execute_reply": "2024-06-23T10:54:12.543150Z"
    },
    "papermill": {
     "duration": 0.025546,
     "end_time": "2024-06-23T10:54:12.548528",
     "exception": false,
     "start_time": "2024-06-23T10:54:12.522982",
     "status": "completed"
    },
    "tags": []
   },
   "outputs": [
    {
     "name": "stdout",
     "output_type": "stream",
     "text": [
      "PAGE 1Founder, DeepLearning.AICollected Insights\n",
      "from Andrew Ng\n",
      "How to \n",
      "Build\n",
      "Your\n",
      "Career\n",
      "in AIA Simple Guide\n",
      "\n"
     ]
    }
   ],
   "source": [
    "page = pages[0]\n",
    "print(page.page_content)"
   ]
  },
  {
   "cell_type": "code",
   "execution_count": 6,
   "id": "87d8b8fd",
   "metadata": {
    "execution": {
     "iopub.execute_input": "2024-06-23T10:54:12.604998Z",
     "iopub.status.busy": "2024-06-23T10:54:12.604567Z",
     "iopub.status.idle": "2024-06-23T10:54:12.612961Z",
     "shell.execute_reply": "2024-06-23T10:54:12.611447Z"
    },
    "papermill": {
     "duration": 0.028107,
     "end_time": "2024-06-23T10:54:12.617299",
     "exception": false,
     "start_time": "2024-06-23T10:54:12.589192",
     "status": "completed"
    },
    "tags": []
   },
   "outputs": [
    {
     "data": {
      "text/plain": [
       "{'source': '/kaggle/input/how-to-build-a-career-in-ai-pdf/eBook-How-to-Build-a-Career-in-AI.pdf',\n",
       " 'page': 0}"
      ]
     },
     "execution_count": 6,
     "metadata": {},
     "output_type": "execute_result"
    }
   ],
   "source": [
    "page.metadata"
   ]
  },
  {
   "cell_type": "code",
   "execution_count": 7,
   "id": "936bf4c0",
   "metadata": {
    "execution": {
     "iopub.execute_input": "2024-06-23T10:54:12.677436Z",
     "iopub.status.busy": "2024-06-23T10:54:12.675677Z",
     "iopub.status.idle": "2024-06-23T10:54:12.694242Z",
     "shell.execute_reply": "2024-06-23T10:54:12.692471Z"
    },
    "papermill": {
     "duration": 0.038209,
     "end_time": "2024-06-23T10:54:12.697897",
     "exception": false,
     "start_time": "2024-06-23T10:54:12.659688",
     "status": "completed"
    },
    "tags": []
   },
   "outputs": [],
   "source": [
    "from langchain.document_loaders.csv_loader import CSVLoader\n",
    "\n",
    "loader = CSVLoader(file_path=\"/kaggle/input/earthquake/earthquakes (3).csv\")\n",
    "data = loader.load()"
   ]
  },
  {
   "cell_type": "code",
   "execution_count": 8,
   "id": "a6719ebe",
   "metadata": {
    "execution": {
     "iopub.execute_input": "2024-06-23T10:54:12.755100Z",
     "iopub.status.busy": "2024-06-23T10:54:12.754263Z",
     "iopub.status.idle": "2024-06-23T10:54:12.765000Z",
     "shell.execute_reply": "2024-06-23T10:54:12.762838Z"
    },
    "papermill": {
     "duration": 0.03095,
     "end_time": "2024-06-23T10:54:12.769567",
     "exception": false,
     "start_time": "2024-06-23T10:54:12.738617",
     "status": "completed"
    },
    "tags": []
   },
   "outputs": [
    {
     "name": "stdout",
     "output_type": "stream",
     "text": [
      "[Document(page_content='date: 1900-01-01\\nYear: 1900\\nearthquakes_per_year: 13.0', metadata={'source': '/kaggle/input/earthquake/earthquakes (3).csv', 'row': 0}), Document(page_content='date: 1901-01-01\\nYear: 1901\\nearthquakes_per_year: 14.0', metadata={'source': '/kaggle/input/earthquake/earthquakes (3).csv', 'row': 1}), Document(page_content='date: 1902-01-01\\nYear: 1902\\nearthquakes_per_year: 8.0', metadata={'source': '/kaggle/input/earthquake/earthquakes (3).csv', 'row': 2}), Document(page_content='date: 1903-01-01\\nYear: 1903\\nearthquakes_per_year: 10.0', metadata={'source': '/kaggle/input/earthquake/earthquakes (3).csv', 'row': 3}), Document(page_content='date: 1904-01-01\\nYear: 1904\\nearthquakes_per_year: 16.0', metadata={'source': '/kaggle/input/earthquake/earthquakes (3).csv', 'row': 4}), Document(page_content='date: 1905-01-01\\nYear: 1905\\nearthquakes_per_year: 26.0', metadata={'source': '/kaggle/input/earthquake/earthquakes (3).csv', 'row': 5}), Document(page_content='date: 1906-01-01\\nYear: 1906\\nearthquakes_per_year: 32.0', metadata={'source': '/kaggle/input/earthquake/earthquakes (3).csv', 'row': 6}), Document(page_content='date: 1907-01-01\\nYear: 1907\\nearthquakes_per_year: 27.0', metadata={'source': '/kaggle/input/earthquake/earthquakes (3).csv', 'row': 7}), Document(page_content='date: 1908-01-01\\nYear: 1908\\nearthquakes_per_year: 18.0', metadata={'source': '/kaggle/input/earthquake/earthquakes (3).csv', 'row': 8}), Document(page_content='date: 1909-01-01\\nYear: 1909\\nearthquakes_per_year: 32.0', metadata={'source': '/kaggle/input/earthquake/earthquakes (3).csv', 'row': 9}), Document(page_content='date: 1910-01-01\\nYear: 1910\\nearthquakes_per_year: 36.0', metadata={'source': '/kaggle/input/earthquake/earthquakes (3).csv', 'row': 10}), Document(page_content='date: 1911-01-01\\nYear: 1911\\nearthquakes_per_year: 24.0', metadata={'source': '/kaggle/input/earthquake/earthquakes (3).csv', 'row': 11}), Document(page_content='date: 1912-01-01\\nYear: 1912\\nearthquakes_per_year: 22.0', metadata={'source': '/kaggle/input/earthquake/earthquakes (3).csv', 'row': 12}), Document(page_content='date: 1913-01-01\\nYear: 1913\\nearthquakes_per_year: 23.0', metadata={'source': '/kaggle/input/earthquake/earthquakes (3).csv', 'row': 13}), Document(page_content='date: 1914-01-01\\nYear: 1914\\nearthquakes_per_year: 22.0', metadata={'source': '/kaggle/input/earthquake/earthquakes (3).csv', 'row': 14}), Document(page_content='date: 1915-01-01\\nYear: 1915\\nearthquakes_per_year: 18.0', metadata={'source': '/kaggle/input/earthquake/earthquakes (3).csv', 'row': 15}), Document(page_content='date: 1916-01-01\\nYear: 1916\\nearthquakes_per_year: 25.0', metadata={'source': '/kaggle/input/earthquake/earthquakes (3).csv', 'row': 16}), Document(page_content='date: 1917-01-01\\nYear: 1917\\nearthquakes_per_year: 21.0', metadata={'source': '/kaggle/input/earthquake/earthquakes (3).csv', 'row': 17}), Document(page_content='date: 1918-01-01\\nYear: 1918\\nearthquakes_per_year: 21.0', metadata={'source': '/kaggle/input/earthquake/earthquakes (3).csv', 'row': 18}), Document(page_content='date: 1919-01-01\\nYear: 1919\\nearthquakes_per_year: 14.0', metadata={'source': '/kaggle/input/earthquake/earthquakes (3).csv', 'row': 19}), Document(page_content='date: 1920-01-01\\nYear: 1920\\nearthquakes_per_year: 8.0', metadata={'source': '/kaggle/input/earthquake/earthquakes (3).csv', 'row': 20}), Document(page_content='date: 1921-01-01\\nYear: 1921\\nearthquakes_per_year: 11.0', metadata={'source': '/kaggle/input/earthquake/earthquakes (3).csv', 'row': 21}), Document(page_content='date: 1922-01-01\\nYear: 1922\\nearthquakes_per_year: 14.0', metadata={'source': '/kaggle/input/earthquake/earthquakes (3).csv', 'row': 22}), Document(page_content='date: 1923-01-01\\nYear: 1923\\nearthquakes_per_year: 23.0', metadata={'source': '/kaggle/input/earthquake/earthquakes (3).csv', 'row': 23}), Document(page_content='date: 1924-01-01\\nYear: 1924\\nearthquakes_per_year: 18.0', metadata={'source': '/kaggle/input/earthquake/earthquakes (3).csv', 'row': 24}), Document(page_content='date: 1925-01-01\\nYear: 1925\\nearthquakes_per_year: 17.0', metadata={'source': '/kaggle/input/earthquake/earthquakes (3).csv', 'row': 25}), Document(page_content='date: 1926-01-01\\nYear: 1926\\nearthquakes_per_year: 19.0', metadata={'source': '/kaggle/input/earthquake/earthquakes (3).csv', 'row': 26}), Document(page_content='date: 1927-01-01\\nYear: 1927\\nearthquakes_per_year: 20.0', metadata={'source': '/kaggle/input/earthquake/earthquakes (3).csv', 'row': 27}), Document(page_content='date: 1928-01-01\\nYear: 1928\\nearthquakes_per_year: 22.0', metadata={'source': '/kaggle/input/earthquake/earthquakes (3).csv', 'row': 28}), Document(page_content='date: 1929-01-01\\nYear: 1929\\nearthquakes_per_year: 19.0', metadata={'source': '/kaggle/input/earthquake/earthquakes (3).csv', 'row': 29}), Document(page_content='date: 1930-01-01\\nYear: 1930\\nearthquakes_per_year: 13.0', metadata={'source': '/kaggle/input/earthquake/earthquakes (3).csv', 'row': 30}), Document(page_content='date: 1931-01-01\\nYear: 1931\\nearthquakes_per_year: 26.0', metadata={'source': '/kaggle/input/earthquake/earthquakes (3).csv', 'row': 31}), Document(page_content='date: 1932-01-01\\nYear: 1932\\nearthquakes_per_year: 13.0', metadata={'source': '/kaggle/input/earthquake/earthquakes (3).csv', 'row': 32}), Document(page_content='date: 1933-01-01\\nYear: 1933\\nearthquakes_per_year: 14.0', metadata={'source': '/kaggle/input/earthquake/earthquakes (3).csv', 'row': 33}), Document(page_content='date: 1934-01-01\\nYear: 1934\\nearthquakes_per_year: 22.0', metadata={'source': '/kaggle/input/earthquake/earthquakes (3).csv', 'row': 34}), Document(page_content='date: 1935-01-01\\nYear: 1935\\nearthquakes_per_year: 24.0', metadata={'source': '/kaggle/input/earthquake/earthquakes (3).csv', 'row': 35}), Document(page_content='date: 1936-01-01\\nYear: 1936\\nearthquakes_per_year: 21.0', metadata={'source': '/kaggle/input/earthquake/earthquakes (3).csv', 'row': 36}), Document(page_content='date: 1937-01-01\\nYear: 1937\\nearthquakes_per_year: 22.0', metadata={'source': '/kaggle/input/earthquake/earthquakes (3).csv', 'row': 37}), Document(page_content='date: 1938-01-01\\nYear: 1938\\nearthquakes_per_year: 26.0', metadata={'source': '/kaggle/input/earthquake/earthquakes (3).csv', 'row': 38}), Document(page_content='date: 1939-01-01\\nYear: 1939\\nearthquakes_per_year: 21.0', metadata={'source': '/kaggle/input/earthquake/earthquakes (3).csv', 'row': 39}), Document(page_content='date: 1940-01-01\\nYear: 1940\\nearthquakes_per_year: 23.0', metadata={'source': '/kaggle/input/earthquake/earthquakes (3).csv', 'row': 40}), Document(page_content='date: 1941-01-01\\nYear: 1941\\nearthquakes_per_year: 24.0', metadata={'source': '/kaggle/input/earthquake/earthquakes (3).csv', 'row': 41}), Document(page_content='date: 1942-01-01\\nYear: 1942\\nearthquakes_per_year: 27.0', metadata={'source': '/kaggle/input/earthquake/earthquakes (3).csv', 'row': 42}), Document(page_content='date: 1943-01-01\\nYear: 1943\\nearthquakes_per_year: 41.0', metadata={'source': '/kaggle/input/earthquake/earthquakes (3).csv', 'row': 43}), Document(page_content='date: 1944-01-01\\nYear: 1944\\nearthquakes_per_year: 31.0', metadata={'source': '/kaggle/input/earthquake/earthquakes (3).csv', 'row': 44}), Document(page_content='date: 1945-01-01\\nYear: 1945\\nearthquakes_per_year: 27.0', metadata={'source': '/kaggle/input/earthquake/earthquakes (3).csv', 'row': 45}), Document(page_content='date: 1946-01-01\\nYear: 1946\\nearthquakes_per_year: 35.0', metadata={'source': '/kaggle/input/earthquake/earthquakes (3).csv', 'row': 46}), Document(page_content='date: 1947-01-01\\nYear: 1947\\nearthquakes_per_year: 26.0', metadata={'source': '/kaggle/input/earthquake/earthquakes (3).csv', 'row': 47}), Document(page_content='date: 1948-01-01\\nYear: 1948\\nearthquakes_per_year: 28.0', metadata={'source': '/kaggle/input/earthquake/earthquakes (3).csv', 'row': 48}), Document(page_content='date: 1949-01-01\\nYear: 1949\\nearthquakes_per_year: 36.0', metadata={'source': '/kaggle/input/earthquake/earthquakes (3).csv', 'row': 49}), Document(page_content='date: 1950-01-01\\nYear: 1950\\nearthquakes_per_year: 39.0', metadata={'source': '/kaggle/input/earthquake/earthquakes (3).csv', 'row': 50}), Document(page_content='date: 1951-01-01\\nYear: 1951\\nearthquakes_per_year: 21.0', metadata={'source': '/kaggle/input/earthquake/earthquakes (3).csv', 'row': 51}), Document(page_content='date: 1952-01-01\\nYear: 1952\\nearthquakes_per_year: 17.0', metadata={'source': '/kaggle/input/earthquake/earthquakes (3).csv', 'row': 52}), Document(page_content='date: 1953-01-01\\nYear: 1953\\nearthquakes_per_year: 22.0', metadata={'source': '/kaggle/input/earthquake/earthquakes (3).csv', 'row': 53}), Document(page_content='date: 1954-01-01\\nYear: 1954\\nearthquakes_per_year: 17.0', metadata={'source': '/kaggle/input/earthquake/earthquakes (3).csv', 'row': 54}), Document(page_content='date: 1955-01-01\\nYear: 1955\\nearthquakes_per_year: 19.0', metadata={'source': '/kaggle/input/earthquake/earthquakes (3).csv', 'row': 55}), Document(page_content='date: 1956-01-01\\nYear: 1956\\nearthquakes_per_year: 15.0', metadata={'source': '/kaggle/input/earthquake/earthquakes (3).csv', 'row': 56}), Document(page_content='date: 1957-01-01\\nYear: 1957\\nearthquakes_per_year: 34.0', metadata={'source': '/kaggle/input/earthquake/earthquakes (3).csv', 'row': 57}), Document(page_content='date: 1958-01-01\\nYear: 1958\\nearthquakes_per_year: 10.0', metadata={'source': '/kaggle/input/earthquake/earthquakes (3).csv', 'row': 58}), Document(page_content='date: 1959-01-01\\nYear: 1959\\nearthquakes_per_year: 15.0', metadata={'source': '/kaggle/input/earthquake/earthquakes (3).csv', 'row': 59}), Document(page_content='date: 1960-01-01\\nYear: 1960\\nearthquakes_per_year: 22.0', metadata={'source': '/kaggle/input/earthquake/earthquakes (3).csv', 'row': 60}), Document(page_content='date: 1961-01-01\\nYear: 1961\\nearthquakes_per_year: 18.0', metadata={'source': '/kaggle/input/earthquake/earthquakes (3).csv', 'row': 61}), Document(page_content='date: 1962-01-01\\nYear: 1962\\nearthquakes_per_year: 15.0', metadata={'source': '/kaggle/input/earthquake/earthquakes (3).csv', 'row': 62}), Document(page_content='date: 1963-01-01\\nYear: 1963\\nearthquakes_per_year: 20.0', metadata={'source': '/kaggle/input/earthquake/earthquakes (3).csv', 'row': 63}), Document(page_content='date: 1964-01-01\\nYear: 1964\\nearthquakes_per_year: 15.0', metadata={'source': '/kaggle/input/earthquake/earthquakes (3).csv', 'row': 64}), Document(page_content='date: 1965-01-01\\nYear: 1965\\nearthquakes_per_year: 22.0', metadata={'source': '/kaggle/input/earthquake/earthquakes (3).csv', 'row': 65}), Document(page_content='date: 1966-01-01\\nYear: 1966\\nearthquakes_per_year: 19.0', metadata={'source': '/kaggle/input/earthquake/earthquakes (3).csv', 'row': 66}), Document(page_content='date: 1967-01-01\\nYear: 1967\\nearthquakes_per_year: 16.0', metadata={'source': '/kaggle/input/earthquake/earthquakes (3).csv', 'row': 67}), Document(page_content='date: 1968-01-01\\nYear: 1968\\nearthquakes_per_year: 30.0', metadata={'source': '/kaggle/input/earthquake/earthquakes (3).csv', 'row': 68}), Document(page_content='date: 1969-01-01\\nYear: 1969\\nearthquakes_per_year: 27.0', metadata={'source': '/kaggle/input/earthquake/earthquakes (3).csv', 'row': 69}), Document(page_content='date: 1970-01-01\\nYear: 1970\\nearthquakes_per_year: 29.0', metadata={'source': '/kaggle/input/earthquake/earthquakes (3).csv', 'row': 70}), Document(page_content='date: 1971-01-01\\nYear: 1971\\nearthquakes_per_year: 23.0', metadata={'source': '/kaggle/input/earthquake/earthquakes (3).csv', 'row': 71}), Document(page_content='date: 1972-01-01\\nYear: 1972\\nearthquakes_per_year: 20.0', metadata={'source': '/kaggle/input/earthquake/earthquakes (3).csv', 'row': 72}), Document(page_content='date: 1973-01-01\\nYear: 1973\\nearthquakes_per_year: 16.0', metadata={'source': '/kaggle/input/earthquake/earthquakes (3).csv', 'row': 73}), Document(page_content='date: 1974-01-01\\nYear: 1974\\nearthquakes_per_year: 21.0', metadata={'source': '/kaggle/input/earthquake/earthquakes (3).csv', 'row': 74}), Document(page_content='date: 1975-01-01\\nYear: 1975\\nearthquakes_per_year: 21.0', metadata={'source': '/kaggle/input/earthquake/earthquakes (3).csv', 'row': 75}), Document(page_content='date: 1976-01-01\\nYear: 1976\\nearthquakes_per_year: 25.0', metadata={'source': '/kaggle/input/earthquake/earthquakes (3).csv', 'row': 76}), Document(page_content='date: 1977-01-01\\nYear: 1977\\nearthquakes_per_year: 16.0', metadata={'source': '/kaggle/input/earthquake/earthquakes (3).csv', 'row': 77}), Document(page_content='date: 1978-01-01\\nYear: 1978\\nearthquakes_per_year: 18.0', metadata={'source': '/kaggle/input/earthquake/earthquakes (3).csv', 'row': 78}), Document(page_content='date: 1979-01-01\\nYear: 1979\\nearthquakes_per_year: 15.0', metadata={'source': '/kaggle/input/earthquake/earthquakes (3).csv', 'row': 79}), Document(page_content='date: 1980-01-01\\nYear: 1980\\nearthquakes_per_year: 18.0', metadata={'source': '/kaggle/input/earthquake/earthquakes (3).csv', 'row': 80}), Document(page_content='date: 1981-01-01\\nYear: 1981\\nearthquakes_per_year: 14.0', metadata={'source': '/kaggle/input/earthquake/earthquakes (3).csv', 'row': 81}), Document(page_content='date: 1982-01-01\\nYear: 1982\\nearthquakes_per_year: 10.0', metadata={'source': '/kaggle/input/earthquake/earthquakes (3).csv', 'row': 82}), Document(page_content='date: 1983-01-01\\nYear: 1983\\nearthquakes_per_year: 15.0', metadata={'source': '/kaggle/input/earthquake/earthquakes (3).csv', 'row': 83}), Document(page_content='date: 1984-01-01\\nYear: 1984\\nearthquakes_per_year: 8.0', metadata={'source': '/kaggle/input/earthquake/earthquakes (3).csv', 'row': 84}), Document(page_content='date: 1985-01-01\\nYear: 1985\\nearthquakes_per_year: 15.0', metadata={'source': '/kaggle/input/earthquake/earthquakes (3).csv', 'row': 85}), Document(page_content='date: 1986-01-01\\nYear: 1986\\nearthquakes_per_year: 6.0', metadata={'source': '/kaggle/input/earthquake/earthquakes (3).csv', 'row': 86}), Document(page_content='date: 1987-01-01\\nYear: 1987\\nearthquakes_per_year: 11.0', metadata={'source': '/kaggle/input/earthquake/earthquakes (3).csv', 'row': 87}), Document(page_content='date: 1988-01-01\\nYear: 1988\\nearthquakes_per_year: 8.0', metadata={'source': '/kaggle/input/earthquake/earthquakes (3).csv', 'row': 88}), Document(page_content='date: 1989-01-01\\nYear: 1989\\nearthquakes_per_year: 7.0', metadata={'source': '/kaggle/input/earthquake/earthquakes (3).csv', 'row': 89}), Document(page_content='date: 1990-01-01\\nYear: 1990\\nearthquakes_per_year: 13.0', metadata={'source': '/kaggle/input/earthquake/earthquakes (3).csv', 'row': 90}), Document(page_content='date: 1991-01-01\\nYear: 1991\\nearthquakes_per_year: 10.0', metadata={'source': '/kaggle/input/earthquake/earthquakes (3).csv', 'row': 91}), Document(page_content='date: 1992-01-01\\nYear: 1992\\nearthquakes_per_year: 23.0', metadata={'source': '/kaggle/input/earthquake/earthquakes (3).csv', 'row': 92}), Document(page_content='date: 1993-01-01\\nYear: 1993\\nearthquakes_per_year: 16.0', metadata={'source': '/kaggle/input/earthquake/earthquakes (3).csv', 'row': 93}), Document(page_content='date: 1994-01-01\\nYear: 1994\\nearthquakes_per_year: 15.0', metadata={'source': '/kaggle/input/earthquake/earthquakes (3).csv', 'row': 94}), Document(page_content='date: 1995-01-01\\nYear: 1995\\nearthquakes_per_year: 25.0', metadata={'source': '/kaggle/input/earthquake/earthquakes (3).csv', 'row': 95}), Document(page_content='date: 1996-01-01\\nYear: 1996\\nearthquakes_per_year: 22.0', metadata={'source': '/kaggle/input/earthquake/earthquakes (3).csv', 'row': 96}), Document(page_content='date: 1997-01-01\\nYear: 1997\\nearthquakes_per_year: 20.0', metadata={'source': '/kaggle/input/earthquake/earthquakes (3).csv', 'row': 97}), Document(page_content='date: 1998-01-01\\nYear: 1998\\nearthquakes_per_year: 16.0', metadata={'source': '/kaggle/input/earthquake/earthquakes (3).csv', 'row': 98})]\n"
     ]
    }
   ],
   "source": [
    "print(data[0:100])"
   ]
  },
  {
   "cell_type": "code",
   "execution_count": 9,
   "id": "8a9b0594",
   "metadata": {
    "execution": {
     "iopub.execute_input": "2024-06-23T10:54:12.827903Z",
     "iopub.status.busy": "2024-06-23T10:54:12.827429Z",
     "iopub.status.idle": "2024-06-23T10:54:21.057670Z",
     "shell.execute_reply": "2024-06-23T10:54:21.056309Z"
    },
    "papermill": {
     "duration": 8.248303,
     "end_time": "2024-06-23T10:54:21.060362",
     "exception": false,
     "start_time": "2024-06-23T10:54:12.812059",
     "status": "completed"
    },
    "tags": []
   },
   "outputs": [
    {
     "data": {
      "text/plain": [
       "Document(page_content='\\n\\n\\n0\\nFirst Name\\nLast Name\\nGender\\nCountry\\nAge\\nDate\\nId\\n\\n\\n1\\nDulce\\nAbril\\nFemale\\nUnited States\\n32\\n15/10/2017\\n1562\\n\\n\\n2\\nMara\\nHashimoto\\nFemale\\nGreat Britain\\n25\\n16/08/2016\\n1582\\n\\n\\n3\\nPhilip\\nGent\\nMale\\nFrance\\n36\\n21/05/2015\\n2587\\n\\n\\n4\\nKathleen\\nHanner\\nFemale\\nUnited States\\n25\\n15/10/2017\\n3549\\n\\n\\n5\\nNereida\\nMagwood\\nFemale\\nUnited States\\n58\\n16/08/2016\\n2468\\n\\n\\n6\\nGaston\\nBrumm\\nMale\\nUnited States\\n24\\n21/05/2015\\n2554\\n\\n\\n7\\nEtta\\nHurn\\nFemale\\nGreat Britain\\n56\\n15/10/2017\\n3598\\n\\n\\n8\\nEarlean\\nMelgar\\nFemale\\nUnited States\\n27\\n16/08/2016\\n2456\\n\\n\\n9\\nVincenza\\nWeiland\\nFemale\\nUnited States\\n40\\n21/05/2015\\n6548\\n\\n\\n10\\nFallon\\nWinward\\nFemale\\nGreat Britain\\n28\\n16/08/2016\\n5486\\n\\n\\n11\\nArcelia\\nBouska\\nFemale\\nGreat Britain\\n39\\n21/05/2015\\n1258\\n\\n\\n12\\nFranklyn\\nUnknow\\nMale\\nFrance\\n38\\n15/10/2017\\n2579\\n\\n\\n13\\nSherron\\nAscencio\\nFemale\\nGreat Britain\\n32\\n16/08/2016\\n3256\\n\\n\\n14\\nMarcel\\nZabriskie\\nMale\\nGreat Britain\\n26\\n21/05/2015\\n2587\\n\\n\\n15\\nKina\\nHazelton\\nFemale\\nGreat Britain\\n31\\n16/08/2016\\n3259\\n\\n\\n16\\nShavonne\\nPia\\nFemale\\nFrance\\n24\\n21/05/2015\\n1546\\n\\n\\n17\\nShavon\\nBenito\\nFemale\\nFrance\\n39\\n15/10/2017\\n3579\\n\\n\\n18\\nLauralee\\nPerrine\\nFemale\\nGreat Britain\\n28\\n16/08/2016\\n6597\\n\\n\\n19\\nLoreta\\nCurren\\nFemale\\nFrance\\n26\\n21/05/2015\\n9654\\n\\n\\n20\\nTeresa\\nStrawn\\nFemale\\nFrance\\n46\\n21/05/2015\\n3569\\n\\n\\n21\\nBelinda\\nPartain\\nFemale\\nUnited States\\n37\\n15/10/2017\\n2564\\n\\n\\n22\\nHolly\\nEudy\\nFemale\\nUnited States\\n52\\n16/08/2016\\n8561\\n\\n\\n23\\nMany\\nCuccia\\nFemale\\nGreat Britain\\n46\\n21/05/2015\\n5489\\n\\n\\n24\\nLibbie\\nDalby\\nFemale\\nFrance\\n42\\n21/05/2015\\n5489\\n\\n\\n25\\nLester\\nProthro\\nMale\\nFrance\\n21\\n15/10/2017\\n6574\\n\\n\\n26\\nMarvel\\nHail\\nFemale\\nGreat Britain\\n28\\n16/08/2016\\n5555\\n\\n\\n27\\nAngelyn\\nVong\\nFemale\\nUnited States\\n29\\n21/05/2015\\n6125\\n\\n\\n28\\nFrancesca\\nBeaudreau\\nFemale\\nFrance\\n23\\n15/10/2017\\n5412\\n\\n\\n29\\nGarth\\nGangi\\nMale\\nUnited States\\n41\\n16/08/2016\\n3256\\n\\n\\n30\\nCarla\\nTrumbull\\nFemale\\nGreat Britain\\n28\\n21/05/2015\\n3264\\n\\n\\n31\\nVeta\\nMuntz\\nFemale\\nGreat Britain\\n37\\n15/10/2017\\n4569\\n\\n\\n32\\nStasia\\nBecker\\nFemale\\nGreat Britain\\n34\\n16/08/2016\\n7521\\n\\n\\n33\\nJona\\nGrindle\\nFemale\\nGreat Britain\\n26\\n21/05/2015\\n6458\\n\\n\\n34\\nJudie\\nClaywell\\nFemale\\nFrance\\n35\\n16/08/2016\\n7569\\n\\n\\n35\\nDewitt\\nBorger\\nMale\\nUnited States\\n36\\n21/05/2015\\n8514\\n\\n\\n36\\nNena\\nHacker\\nFemale\\nUnited States\\n29\\n15/10/2017\\n8563\\n\\n\\n37\\nKelsie\\nWachtel\\nFemale\\nFrance\\n27\\n16/08/2016\\n8642\\n\\n\\n38\\nSau\\nPfau\\nFemale\\nUnited States\\n25\\n21/05/2015\\n9536\\n\\n\\n39\\nShanice\\nMccrystal\\nFemale\\nUnited States\\n36\\n21/05/2015\\n2567\\n\\n\\n40\\nChase\\nKarner\\nMale\\nUnited States\\n37\\n15/10/2017\\n2154\\n\\n\\n41\\nTommie\\nUnderdahl\\nMale\\nUnited States\\n26\\n16/08/2016\\n3265\\n\\n\\n42\\nDorcas\\nDarity\\nFemale\\nUnited States\\n37\\n21/05/2015\\n8765\\n\\n\\n43\\nAngel\\nSanor\\nMale\\nFrance\\n24\\n15/10/2017\\n3259\\n\\n\\n44\\nWillodean\\nHarn\\nFemale\\nUnited States\\n39\\n16/08/2016\\n3567\\n\\n\\n45\\nWeston\\nMartina\\nMale\\nUnited States\\n26\\n21/05/2015\\n6540\\n\\n\\n46\\nRoma\\nLafollette\\nFemale\\nUnited States\\n34\\n15/10/2017\\n2654\\n\\n\\n47\\nFelisa\\nCail\\nFemale\\nUnited States\\n28\\n16/08/2016\\n6525\\n\\n\\n48\\nDemetria\\nAbbey\\nFemale\\nUnited States\\n32\\n21/05/2015\\n3265\\n\\n\\n49\\nJeromy\\nDanz\\nMale\\nUnited States\\n39\\n15/10/2017\\n3265\\n\\n\\n50\\nRasheeda\\nAlkire\\nFemale\\nUnited States\\n29\\n16/08/2016\\n6125\\n\\n\\n', metadata={'source': '/kaggle/input/sample-xls-data/file_example_XLS_50.xls', 'file_directory': '/kaggle/input/sample-xls-data', 'filename': 'file_example_XLS_50.xls', 'last_modified': '2024-06-23T10:50:33', 'page_name': 'Sheet1', 'page_number': 1, 'text_as_html': '<table border=\"1\" class=\"dataframe\">\\n  <tbody>\\n    <tr>\\n      <td>0</td>\\n      <td>First Name</td>\\n      <td>Last Name</td>\\n      <td>Gender</td>\\n      <td>Country</td>\\n      <td>Age</td>\\n      <td>Date</td>\\n      <td>Id</td>\\n    </tr>\\n    <tr>\\n      <td>1</td>\\n      <td>Dulce</td>\\n      <td>Abril</td>\\n      <td>Female</td>\\n      <td>United States</td>\\n      <td>32</td>\\n      <td>15/10/2017</td>\\n      <td>1562</td>\\n    </tr>\\n    <tr>\\n      <td>2</td>\\n      <td>Mara</td>\\n      <td>Hashimoto</td>\\n      <td>Female</td>\\n      <td>Great Britain</td>\\n      <td>25</td>\\n      <td>16/08/2016</td>\\n      <td>1582</td>\\n    </tr>\\n    <tr>\\n      <td>3</td>\\n      <td>Philip</td>\\n      <td>Gent</td>\\n      <td>Male</td>\\n      <td>France</td>\\n      <td>36</td>\\n      <td>21/05/2015</td>\\n      <td>2587</td>\\n    </tr>\\n    <tr>\\n      <td>4</td>\\n      <td>Kathleen</td>\\n      <td>Hanner</td>\\n      <td>Female</td>\\n      <td>United States</td>\\n      <td>25</td>\\n      <td>15/10/2017</td>\\n      <td>3549</td>\\n    </tr>\\n    <tr>\\n      <td>5</td>\\n      <td>Nereida</td>\\n      <td>Magwood</td>\\n      <td>Female</td>\\n      <td>United States</td>\\n      <td>58</td>\\n      <td>16/08/2016</td>\\n      <td>2468</td>\\n    </tr>\\n    <tr>\\n      <td>6</td>\\n      <td>Gaston</td>\\n      <td>Brumm</td>\\n      <td>Male</td>\\n      <td>United States</td>\\n      <td>24</td>\\n      <td>21/05/2015</td>\\n      <td>2554</td>\\n    </tr>\\n    <tr>\\n      <td>7</td>\\n      <td>Etta</td>\\n      <td>Hurn</td>\\n      <td>Female</td>\\n      <td>Great Britain</td>\\n      <td>56</td>\\n      <td>15/10/2017</td>\\n      <td>3598</td>\\n    </tr>\\n    <tr>\\n      <td>8</td>\\n      <td>Earlean</td>\\n      <td>Melgar</td>\\n      <td>Female</td>\\n      <td>United States</td>\\n      <td>27</td>\\n      <td>16/08/2016</td>\\n      <td>2456</td>\\n    </tr>\\n    <tr>\\n      <td>9</td>\\n      <td>Vincenza</td>\\n      <td>Weiland</td>\\n      <td>Female</td>\\n      <td>United States</td>\\n      <td>40</td>\\n      <td>21/05/2015</td>\\n      <td>6548</td>\\n    </tr>\\n    <tr>\\n      <td>10</td>\\n      <td>Fallon</td>\\n      <td>Winward</td>\\n      <td>Female</td>\\n      <td>Great Britain</td>\\n      <td>28</td>\\n      <td>16/08/2016</td>\\n      <td>5486</td>\\n    </tr>\\n    <tr>\\n      <td>11</td>\\n      <td>Arcelia</td>\\n      <td>Bouska</td>\\n      <td>Female</td>\\n      <td>Great Britain</td>\\n      <td>39</td>\\n      <td>21/05/2015</td>\\n      <td>1258</td>\\n    </tr>\\n    <tr>\\n      <td>12</td>\\n      <td>Franklyn</td>\\n      <td>Unknow</td>\\n      <td>Male</td>\\n      <td>France</td>\\n      <td>38</td>\\n      <td>15/10/2017</td>\\n      <td>2579</td>\\n    </tr>\\n    <tr>\\n      <td>13</td>\\n      <td>Sherron</td>\\n      <td>Ascencio</td>\\n      <td>Female</td>\\n      <td>Great Britain</td>\\n      <td>32</td>\\n      <td>16/08/2016</td>\\n      <td>3256</td>\\n    </tr>\\n    <tr>\\n      <td>14</td>\\n      <td>Marcel</td>\\n      <td>Zabriskie</td>\\n      <td>Male</td>\\n      <td>Great Britain</td>\\n      <td>26</td>\\n      <td>21/05/2015</td>\\n      <td>2587</td>\\n    </tr>\\n    <tr>\\n      <td>15</td>\\n      <td>Kina</td>\\n      <td>Hazelton</td>\\n      <td>Female</td>\\n      <td>Great Britain</td>\\n      <td>31</td>\\n      <td>16/08/2016</td>\\n      <td>3259</td>\\n    </tr>\\n    <tr>\\n      <td>16</td>\\n      <td>Shavonne</td>\\n      <td>Pia</td>\\n      <td>Female</td>\\n      <td>France</td>\\n      <td>24</td>\\n      <td>21/05/2015</td>\\n      <td>1546</td>\\n    </tr>\\n    <tr>\\n      <td>17</td>\\n      <td>Shavon</td>\\n      <td>Benito</td>\\n      <td>Female</td>\\n      <td>France</td>\\n      <td>39</td>\\n      <td>15/10/2017</td>\\n      <td>3579</td>\\n    </tr>\\n    <tr>\\n      <td>18</td>\\n      <td>Lauralee</td>\\n      <td>Perrine</td>\\n      <td>Female</td>\\n      <td>Great Britain</td>\\n      <td>28</td>\\n      <td>16/08/2016</td>\\n      <td>6597</td>\\n    </tr>\\n    <tr>\\n      <td>19</td>\\n      <td>Loreta</td>\\n      <td>Curren</td>\\n      <td>Female</td>\\n      <td>France</td>\\n      <td>26</td>\\n      <td>21/05/2015</td>\\n      <td>9654</td>\\n    </tr>\\n    <tr>\\n      <td>20</td>\\n      <td>Teresa</td>\\n      <td>Strawn</td>\\n      <td>Female</td>\\n      <td>France</td>\\n      <td>46</td>\\n      <td>21/05/2015</td>\\n      <td>3569</td>\\n    </tr>\\n    <tr>\\n      <td>21</td>\\n      <td>Belinda</td>\\n      <td>Partain</td>\\n      <td>Female</td>\\n      <td>United States</td>\\n      <td>37</td>\\n      <td>15/10/2017</td>\\n      <td>2564</td>\\n    </tr>\\n    <tr>\\n      <td>22</td>\\n      <td>Holly</td>\\n      <td>Eudy</td>\\n      <td>Female</td>\\n      <td>United States</td>\\n      <td>52</td>\\n      <td>16/08/2016</td>\\n      <td>8561</td>\\n    </tr>\\n    <tr>\\n      <td>23</td>\\n      <td>Many</td>\\n      <td>Cuccia</td>\\n      <td>Female</td>\\n      <td>Great Britain</td>\\n      <td>46</td>\\n      <td>21/05/2015</td>\\n      <td>5489</td>\\n    </tr>\\n    <tr>\\n      <td>24</td>\\n      <td>Libbie</td>\\n      <td>Dalby</td>\\n      <td>Female</td>\\n      <td>France</td>\\n      <td>42</td>\\n      <td>21/05/2015</td>\\n      <td>5489</td>\\n    </tr>\\n    <tr>\\n      <td>25</td>\\n      <td>Lester</td>\\n      <td>Prothro</td>\\n      <td>Male</td>\\n      <td>France</td>\\n      <td>21</td>\\n      <td>15/10/2017</td>\\n      <td>6574</td>\\n    </tr>\\n    <tr>\\n      <td>26</td>\\n      <td>Marvel</td>\\n      <td>Hail</td>\\n      <td>Female</td>\\n      <td>Great Britain</td>\\n      <td>28</td>\\n      <td>16/08/2016</td>\\n      <td>5555</td>\\n    </tr>\\n    <tr>\\n      <td>27</td>\\n      <td>Angelyn</td>\\n      <td>Vong</td>\\n      <td>Female</td>\\n      <td>United States</td>\\n      <td>29</td>\\n      <td>21/05/2015</td>\\n      <td>6125</td>\\n    </tr>\\n    <tr>\\n      <td>28</td>\\n      <td>Francesca</td>\\n      <td>Beaudreau</td>\\n      <td>Female</td>\\n      <td>France</td>\\n      <td>23</td>\\n      <td>15/10/2017</td>\\n      <td>5412</td>\\n    </tr>\\n    <tr>\\n      <td>29</td>\\n      <td>Garth</td>\\n      <td>Gangi</td>\\n      <td>Male</td>\\n      <td>United States</td>\\n      <td>41</td>\\n      <td>16/08/2016</td>\\n      <td>3256</td>\\n    </tr>\\n    <tr>\\n      <td>30</td>\\n      <td>Carla</td>\\n      <td>Trumbull</td>\\n      <td>Female</td>\\n      <td>Great Britain</td>\\n      <td>28</td>\\n      <td>21/05/2015</td>\\n      <td>3264</td>\\n    </tr>\\n    <tr>\\n      <td>31</td>\\n      <td>Veta</td>\\n      <td>Muntz</td>\\n      <td>Female</td>\\n      <td>Great Britain</td>\\n      <td>37</td>\\n      <td>15/10/2017</td>\\n      <td>4569</td>\\n    </tr>\\n    <tr>\\n      <td>32</td>\\n      <td>Stasia</td>\\n      <td>Becker</td>\\n      <td>Female</td>\\n      <td>Great Britain</td>\\n      <td>34</td>\\n      <td>16/08/2016</td>\\n      <td>7521</td>\\n    </tr>\\n    <tr>\\n      <td>33</td>\\n      <td>Jona</td>\\n      <td>Grindle</td>\\n      <td>Female</td>\\n      <td>Great Britain</td>\\n      <td>26</td>\\n      <td>21/05/2015</td>\\n      <td>6458</td>\\n    </tr>\\n    <tr>\\n      <td>34</td>\\n      <td>Judie</td>\\n      <td>Claywell</td>\\n      <td>Female</td>\\n      <td>France</td>\\n      <td>35</td>\\n      <td>16/08/2016</td>\\n      <td>7569</td>\\n    </tr>\\n    <tr>\\n      <td>35</td>\\n      <td>Dewitt</td>\\n      <td>Borger</td>\\n      <td>Male</td>\\n      <td>United States</td>\\n      <td>36</td>\\n      <td>21/05/2015</td>\\n      <td>8514</td>\\n    </tr>\\n    <tr>\\n      <td>36</td>\\n      <td>Nena</td>\\n      <td>Hacker</td>\\n      <td>Female</td>\\n      <td>United States</td>\\n      <td>29</td>\\n      <td>15/10/2017</td>\\n      <td>8563</td>\\n    </tr>\\n    <tr>\\n      <td>37</td>\\n      <td>Kelsie</td>\\n      <td>Wachtel</td>\\n      <td>Female</td>\\n      <td>France</td>\\n      <td>27</td>\\n      <td>16/08/2016</td>\\n      <td>8642</td>\\n    </tr>\\n    <tr>\\n      <td>38</td>\\n      <td>Sau</td>\\n      <td>Pfau</td>\\n      <td>Female</td>\\n      <td>United States</td>\\n      <td>25</td>\\n      <td>21/05/2015</td>\\n      <td>9536</td>\\n    </tr>\\n    <tr>\\n      <td>39</td>\\n      <td>Shanice</td>\\n      <td>Mccrystal</td>\\n      <td>Female</td>\\n      <td>United States</td>\\n      <td>36</td>\\n      <td>21/05/2015</td>\\n      <td>2567</td>\\n    </tr>\\n    <tr>\\n      <td>40</td>\\n      <td>Chase</td>\\n      <td>Karner</td>\\n      <td>Male</td>\\n      <td>United States</td>\\n      <td>37</td>\\n      <td>15/10/2017</td>\\n      <td>2154</td>\\n    </tr>\\n    <tr>\\n      <td>41</td>\\n      <td>Tommie</td>\\n      <td>Underdahl</td>\\n      <td>Male</td>\\n      <td>United States</td>\\n      <td>26</td>\\n      <td>16/08/2016</td>\\n      <td>3265</td>\\n    </tr>\\n    <tr>\\n      <td>42</td>\\n      <td>Dorcas</td>\\n      <td>Darity</td>\\n      <td>Female</td>\\n      <td>United States</td>\\n      <td>37</td>\\n      <td>21/05/2015</td>\\n      <td>8765</td>\\n    </tr>\\n    <tr>\\n      <td>43</td>\\n      <td>Angel</td>\\n      <td>Sanor</td>\\n      <td>Male</td>\\n      <td>France</td>\\n      <td>24</td>\\n      <td>15/10/2017</td>\\n      <td>3259</td>\\n    </tr>\\n    <tr>\\n      <td>44</td>\\n      <td>Willodean</td>\\n      <td>Harn</td>\\n      <td>Female</td>\\n      <td>United States</td>\\n      <td>39</td>\\n      <td>16/08/2016</td>\\n      <td>3567</td>\\n    </tr>\\n    <tr>\\n      <td>45</td>\\n      <td>Weston</td>\\n      <td>Martina</td>\\n      <td>Male</td>\\n      <td>United States</td>\\n      <td>26</td>\\n      <td>21/05/2015</td>\\n      <td>6540</td>\\n    </tr>\\n    <tr>\\n      <td>46</td>\\n      <td>Roma</td>\\n      <td>Lafollette</td>\\n      <td>Female</td>\\n      <td>United States</td>\\n      <td>34</td>\\n      <td>15/10/2017</td>\\n      <td>2654</td>\\n    </tr>\\n    <tr>\\n      <td>47</td>\\n      <td>Felisa</td>\\n      <td>Cail</td>\\n      <td>Female</td>\\n      <td>United States</td>\\n      <td>28</td>\\n      <td>16/08/2016</td>\\n      <td>6525</td>\\n    </tr>\\n    <tr>\\n      <td>48</td>\\n      <td>Demetria</td>\\n      <td>Abbey</td>\\n      <td>Female</td>\\n      <td>United States</td>\\n      <td>32</td>\\n      <td>21/05/2015</td>\\n      <td>3265</td>\\n    </tr>\\n    <tr>\\n      <td>49</td>\\n      <td>Jeromy</td>\\n      <td>Danz</td>\\n      <td>Male</td>\\n      <td>United States</td>\\n      <td>39</td>\\n      <td>15/10/2017</td>\\n      <td>3265</td>\\n    </tr>\\n    <tr>\\n      <td>50</td>\\n      <td>Rasheeda</td>\\n      <td>Alkire</td>\\n      <td>Female</td>\\n      <td>United States</td>\\n      <td>29</td>\\n      <td>16/08/2016</td>\\n      <td>6125</td>\\n    </tr>\\n  </tbody>\\n</table>', 'languages': ['eng'], 'filetype': 'application/vnd.openxmlformats-officedocument.spreadsheetml.sheet', 'category': 'Table'})"
      ]
     },
     "execution_count": 9,
     "metadata": {},
     "output_type": "execute_result"
    }
   ],
   "source": [
    "from langchain.document_loaders import UnstructuredExcelLoader\n",
    "\n",
    "loader = UnstructuredExcelLoader(\"/kaggle/input/sample-xls-data/file_example_XLS_50.xls\", mode=\"elements\")\n",
    "docs = loader.load()\n",
    "docs[0]"
   ]
  },
  {
   "cell_type": "code",
   "execution_count": 10,
   "id": "5a86e261",
   "metadata": {
    "execution": {
     "iopub.execute_input": "2024-06-23T10:54:21.119857Z",
     "iopub.status.busy": "2024-06-23T10:54:21.119106Z",
     "iopub.status.idle": "2024-06-23T10:54:21.159950Z",
     "shell.execute_reply": "2024-06-23T10:54:21.158589Z"
    },
    "papermill": {
     "duration": 0.060739,
     "end_time": "2024-06-23T10:54:21.163038",
     "exception": false,
     "start_time": "2024-06-23T10:54:21.102299",
     "status": "completed"
    },
    "tags": []
   },
   "outputs": [],
   "source": [
    "from langchain.document_loaders import Docx2txtLoader\n",
    "\n",
    "loader = Docx2txtLoader(\"/kaggle/input/sample-docx-file/file-sample_1MB.docx\")\n",
    "data = loader.load()"
   ]
  },
  {
   "cell_type": "code",
   "execution_count": 11,
   "id": "6c550e4b",
   "metadata": {
    "execution": {
     "iopub.execute_input": "2024-06-23T10:54:21.218601Z",
     "iopub.status.busy": "2024-06-23T10:54:21.218183Z",
     "iopub.status.idle": "2024-06-23T10:54:21.226316Z",
     "shell.execute_reply": "2024-06-23T10:54:21.224941Z"
    },
    "papermill": {
     "duration": 0.026012,
     "end_time": "2024-06-23T10:54:21.229153",
     "exception": false,
     "start_time": "2024-06-23T10:54:21.203141",
     "status": "completed"
    },
    "tags": []
   },
   "outputs": [
    {
     "data": {
      "text/plain": [
       "'Lorem ipsum \\n\\n\\n\\nLorem ipsum dolor sit amet, consectetur adipiscing elit. Nunc ac faucibus odio. \\n\\n\\n\\nVestibulum neque massa, scelerisque sit amet ligula eu, congue molestie mi. Praesent ut varius sem. Nullam at porttitor arcu, nec lacinia nisi. Ut ac dolor vitae odio interdum condimentum. Vivamus dapibus sodales ex, vitae malesuada ipsum cursus convallis. Maecenas sed egestas nulla, ac condimentum orci. Mauris diam felis, vulputate ac suscipit et, iaculis non est. Curabitur semper arcu ac ligula semper, nec luctus nisl blandit. Integer lacinia ante ac libero lobortis imperdiet. Nullam mollis convallis ipsum, ac accumsan nunc vehicula vitae. Nulla eget justo in felis tristique fringilla. Morbi sit amet tortor quis risus auctor condimentum. Morbi in ullamcorper elit. Nulla iaculis tellus sit amet mauris tempus fringilla.\\n\\nMaecenas mauris lectus, lobortis et purus mattis, blandit dictum tellus.\\n\\nMaecenas non lorem quis tellus placerat varius. \\n\\nNulla facilisi. \\n\\nAenean congue fringilla justo ut aliquam. \\n\\nMauris id ex erat. Nunc vulputate neque vitae justo facilisis, non condimentum ante sagittis. \\n\\nMorbi viverra semper lorem nec molestie. \\n\\nMaecenas tincidunt est efficitur ligula euismod, sit amet ornare est vulputate.\\n\\n\\n\\n\\n\\n\\n\\n\\n\\n\\n\\n\\n\\n\\n\\n\\n\\n\\n\\nIn non mauris justo. Duis vehicula mi vel mi pretium, a viverra erat efficitur. Cras aliquam est ac eros varius, id iaculis dui auctor. Duis pretium neque ligula, et pulvinar mi placerat et. Nulla nec nunc sit amet nunc posuere vestibulum. Ut id neque eget tortor mattis tristique. Donec ante est, blandit sit amet tristique vel, lacinia pulvinar arcu. Pellentesque scelerisque fermentum erat, id posuere justo pulvinar ut. Cras id eros sed enim aliquam lobortis. Sed lobortis nisl ut eros efficitur tincidunt. Cras justo mi, porttitor quis mattis vel, ultricies ut purus. Ut facilisis et lacus eu cursus.\\n\\nIn eleifend velit vitae libero sollicitudin euismod. Fusce vitae vestibulum velit. Pellentesque vulputate lectus quis pellentesque commodo. Aliquam erat volutpat. Vestibulum in egestas velit. Pellentesque fermentum nisl vitae fringilla venenatis. Etiam id mauris vitae orci maximus ultricies. \\n\\n\\n\\nCras fringilla ipsum magna, in fringilla dui commodo a.\\n\\n\\n\\n\\n\\nLorem ipsum\\n\\nLorem ipsum\\n\\nLorem ipsum\\n\\n1\\n\\nIn eleifend velit vitae libero sollicitudin euismod.\\n\\nLorem\\n\\n\\n\\n2\\n\\nCras fringilla ipsum magna, in fringilla dui commodo a.\\n\\nIpsum\\n\\n\\n\\n3\\n\\nAliquam erat volutpat. \\n\\nLorem\\n\\n\\n\\n4\\n\\nFusce vitae vestibulum velit. \\n\\nLorem\\n\\n\\n\\n5\\n\\nEtiam vehicula luctus fermentum.\\n\\nIpsum\\n\\n\\n\\n\\n\\nEtiam vehicula luctus fermentum. In vel metus congue, pulvinar lectus vel, fermentum dui. Maecenas ante orci, egestas ut aliquet sit amet, sagittis a magna. Aliquam ante quam, pellentesque ut dignissim quis, laoreet eget est. Aliquam erat volutpat. Class aptent taciti sociosqu ad litora torquent per conubia nostra, per inceptos himenaeos. Ut ullamcorper justo sapien, in cursus libero viverra eget. Vivamus auctor imperdiet urna, at pulvinar leo posuere laoreet. Suspendisse neque nisl, fringilla at iaculis scelerisque, ornare vel dolor. Ut et pulvinar nunc. Pellentesque fringilla mollis efficitur. Nullam venenatis commodo imperdiet. Morbi velit neque, semper quis lorem quis, efficitur dignissim ipsum. Ut ac lorem sed turpis imperdiet eleifend sit amet id sapien.\\n\\n\\n\\n\\n\\nLorem ipsum dolor sit amet, consectetur adipiscing elit. \\n\\n\\n\\nNunc ac faucibus odio. Vestibulum neque massa, scelerisque sit amet ligula eu, congue molestie mi. Praesent ut varius sem. Nullam at porttitor arcu, nec lacinia nisi. Ut ac dolor vitae odio interdum condimentum. Vivamus dapibus sodales ex, vitae malesuada ipsum cursus convallis. Maecenas sed egestas nulla, ac condimentum orci. Mauris diam felis, vulputate ac suscipit et, iaculis non est. Curabitur semper arcu ac ligula semper, nec luctus nisl blandit. Integer lacinia ante ac libero lobortis imperdiet. Nullam mollis convallis ipsum, ac accumsan nunc vehicula vitae. Nulla eget justo in felis tristique fringilla. Morbi sit amet tortor quis risus auctor condimentum. Morbi in ullamcorper elit. Nulla iaculis tellus sit amet mauris tempus fringilla.\\n\\nMaecenas mauris lectus, lobortis et purus mattis, blandit dictum tellus. \\n\\nMaecenas non lorem quis tellus placerat varius. Nulla facilisi. Aenean congue fringilla justo ut aliquam. Mauris id ex erat. Nunc vulputate neque vitae justo facilisis, non condimentum ante sagittis. Morbi viverra semper lorem nec molestie. Maecenas tincidunt est efficitur ligula euismod, sit amet ornare est vulputate.\\n\\nIn non mauris justo. Duis vehicula mi vel mi pretium, a viverra erat efficitur. Cras aliquam est ac eros varius, id iaculis dui auctor. Duis pretium neque ligula, et pulvinar mi placerat et. Nulla nec nunc sit amet nunc posuere vestibulum. Ut id neque eget tortor mattis tristique. Donec ante est, blandit sit amet tristique vel, lacinia pulvinar arcu. Pellentesque scelerisque fermentum erat, id posuere justo pulvinar ut. Cras id eros sed enim aliquam lobortis. Sed lobortis nisl ut eros efficitur tincidunt. Cras justo mi, porttitor quis mattis vel, ultricies ut purus. Ut facilisis et lacus eu cursus.\\n\\nIn eleifend velit vitae libero sollicitudin euismod. \\n\\nFusce vitae vestibulum velit. Pellentesque vulputate lectus quis pellentesque commodo. Aliquam erat volutpat. Vestibulum in egestas velit. Pellentesque fermentum nisl vitae fringilla venenatis. Etiam id mauris vitae orci maximus ultricies. Cras fringilla ipsum magna, in fringilla dui commodo a.\\n\\nEtiam vehicula luctus fermentum. In vel metus congue, pulvinar lectus vel, fermentum dui. Maecenas ante orci, egestas ut aliquet sit amet, sagittis a magna. Aliquam ante quam, pellentesque ut dignissim quis, laoreet eget est. Aliquam erat volutpat. Class aptent taciti sociosqu ad litora torquent per conubia nostra, per inceptos himenaeos. Ut ullamcorper justo sapien, in cursus libero viverra eget. Vivamus auctor imperdiet urna, at pulvinar leo posuere laoreet. Suspendisse neque nisl, fringilla at iaculis scelerisque, ornare vel dolor. Ut et pulvinar nunc. Pellentesque fringilla mollis efficitur. Nullam venenatis commodo imperdiet. Morbi velit neque, semper quis lorem quis, efficitur dignissim ipsum. Ut ac lorem sed turpis imperdiet eleifend sit amet id sapien.\\n\\n\\n\\n\\n\\n\\n\\nMaecenas mauris lectus, lobortis et purus mattis, blandit dictum tellus. \\n\\nMaecenas non lorem quis tellus placerat varius. Nulla facilisi. Aenean congue fringilla justo ut aliquam. Mauris id ex erat. Nunc vulputate neque vitae justo facilisis, non condimentum ante sagittis. Morbi viverra semper lorem nec molestie. Maecenas tincidunt est efficitur ligula euismod, sit amet ornare est vulputate.\\n\\nIn non mauris justo. Duis vehicula mi vel mi pretium, a viverra erat efficitur. Cras aliquam est ac eros varius, id iaculis dui auctor. Duis pretium neque ligula, et pulvinar mi placerat et. Nulla nec nunc sit amet nunc posuere vestibulum. Ut id neque eget tortor mattis tristique. Donec ante est, blandit sit amet tristique vel, lacinia pulvinar arcu. Pellentesque scelerisque fermentum erat, id posuere justo pulvinar ut. Cras id eros sed enim aliquam lobortis. Sed lobortis nisl ut eros efficitur tincidunt. Cras justo mi, porttitor quis mattis vel, ultricies ut purus. Ut facilisis et lacus eu cursus.\\n\\nIn eleifend velit vitae libero sollicitudin euismod. \\n\\nFusce vitae vestibulum velit. Pellentesque vulputate lectus quis pellentesque commodo. Aliquam erat volutpat. Vestibulum in egestas velit. Pellentesque fermentum nisl vitae fringilla venenatis. Etiam id mauris vitae orci maximus ultricies. Cras fringilla ipsum magna, in fringilla dui commodo a.\\n\\nEtiam vehicula luctus fermentum. In vel metus congue, pulvinar lectus vel, fermentum dui. Maecenas ante orci, egestas ut aliquet sit amet, sagittis a magna. Aliquam ante quam, pellentesque ut dignissim quis, laoreet eget est. Aliquam erat volutpat. Class aptent taciti sociosqu ad litora torquent per conubia nostra, per inceptos himenaeos. Ut ullamcorper justo sapien, in cursus libero viverra eget. Vivamus auctor imperdiet urna, at pulvinar leo posuere laoreet. Suspendisse neque nisl, fringilla at iaculis scelerisque, ornare vel dolor. Ut et pulvinar nunc. Pellentesque fringilla mollis efficitur. Nullam venenatis commodo imperdiet. Morbi velit neque, semper quis lorem quis, efficitur dignissim ipsum. Ut ac lorem sed turpis imperdiet eleifend sit amet id sapien.'"
      ]
     },
     "execution_count": 11,
     "metadata": {},
     "output_type": "execute_result"
    }
   ],
   "source": [
    "data[0].page_content\n"
   ]
  },
  {
   "cell_type": "code",
   "execution_count": 12,
   "id": "3f4715f0",
   "metadata": {
    "execution": {
     "iopub.execute_input": "2024-06-23T10:54:21.288899Z",
     "iopub.status.busy": "2024-06-23T10:54:21.288446Z",
     "iopub.status.idle": "2024-06-23T10:54:21.302321Z",
     "shell.execute_reply": "2024-06-23T10:54:21.300710Z"
    },
    "papermill": {
     "duration": 0.033074,
     "end_time": "2024-06-23T10:54:21.305489",
     "exception": false,
     "start_time": "2024-06-23T10:54:21.272415",
     "status": "completed"
    },
    "tags": []
   },
   "outputs": [],
   "source": [
    "from langchain.document_loaders.generic import GenericLoader\n",
    "from langchain.document_loaders.parsers import OpenAIWhisperParser\n",
    "from langchain.document_loaders.blob_loaders.youtube_audio import YoutubeAudioLoader\n"
   ]
  },
  {
   "cell_type": "code",
   "execution_count": 13,
   "id": "0e6c18c0",
   "metadata": {
    "execution": {
     "iopub.execute_input": "2024-06-23T10:54:21.367463Z",
     "iopub.status.busy": "2024-06-23T10:54:21.367024Z",
     "iopub.status.idle": "2024-06-23T10:56:53.902557Z",
     "shell.execute_reply": "2024-06-23T10:56:53.901165Z"
    },
    "papermill": {
     "duration": 152.555047,
     "end_time": "2024-06-23T10:56:53.905646",
     "exception": false,
     "start_time": "2024-06-23T10:54:21.350599",
     "status": "completed"
    },
    "tags": []
   },
   "outputs": [
    {
     "name": "stdout",
     "output_type": "stream",
     "text": [
      "[youtube] Extracting URL: https://www.youtube.com/watch?v=5p248yoa3oE\n",
      "[youtube] 5p248yoa3oE: Downloading webpage\n",
      "[youtube] 5p248yoa3oE: Downloading ios player API JSON\n",
      "[youtube] 5p248yoa3oE: Downloading player 84314bef\n",
      "[youtube] 5p248yoa3oE: Downloading m3u8 information\n",
      "[info] 5p248yoa3oE: Downloading 1 format(s): 140\n",
      "[download] Destination: docs/youtube//Andrew Ng： Opportunities in AI - 2023.m4a\n",
      "[download] 100% of   34.18MiB in 00:00:01 at 25.73MiB/s  \n",
      "[FixupM4a] Correcting container of \"docs/youtube//Andrew Ng： Opportunities in AI - 2023.m4a\"\n",
      "[ExtractAudio] Not converting audio docs/youtube//Andrew Ng： Opportunities in AI - 2023.m4a; file is already in target format m4a\n",
      "Transcribing part 1!\n",
      "Transcribing part 2!\n"
     ]
    }
   ],
   "source": [
    "url = \"https://www.youtube.com/watch?v=5p248yoa3oE\"\n",
    "save_dir = \"docs/youtube/\"\n",
    "loader = GenericLoader(\n",
    "    YoutubeAudioLoader([url],save_dir),\n",
    "    OpenAIWhisperParser(api_key=openai.api_key)\n",
    ")\n",
    "docs = loader.load()"
   ]
  },
  {
   "cell_type": "code",
   "execution_count": 14,
   "id": "e8dc4896",
   "metadata": {
    "execution": {
     "iopub.execute_input": "2024-06-23T10:56:53.989663Z",
     "iopub.status.busy": "2024-06-23T10:56:53.988749Z",
     "iopub.status.idle": "2024-06-23T10:56:53.996443Z",
     "shell.execute_reply": "2024-06-23T10:56:53.995316Z"
    },
    "papermill": {
     "duration": 0.032937,
     "end_time": "2024-06-23T10:56:53.999175",
     "exception": false,
     "start_time": "2024-06-23T10:56:53.966238",
     "status": "completed"
    },
    "tags": []
   },
   "outputs": [
    {
     "data": {
      "text/plain": [
       "'It is my pleasure to welcome Dr. Andrew tonight. Andrew is the Managing General Partner of AI Fund, Founder of Deep Learning AI and Landing AI, Chairman and Co-Founder of Coursera, and Adjunct Professor of Computer Science here at Stanford. Previously, he had started and led the Google Brain Team, which had helped Google adopt modern AI, and he was also Director of the Stanford AI Lab. About 8 million people, one in 1,000 persons on the planet, have taken an AI class from him. And through both h'"
      ]
     },
     "execution_count": 14,
     "metadata": {},
     "output_type": "execute_result"
    }
   ],
   "source": [
    "docs[0].page_content[0:500]"
   ]
  },
  {
   "cell_type": "code",
   "execution_count": 15,
   "id": "fa33776e",
   "metadata": {
    "execution": {
     "iopub.execute_input": "2024-06-23T10:56:54.082370Z",
     "iopub.status.busy": "2024-06-23T10:56:54.081899Z",
     "iopub.status.idle": "2024-06-23T10:56:55.847627Z",
     "shell.execute_reply": "2024-06-23T10:56:55.846331Z"
    },
    "papermill": {
     "duration": 1.791673,
     "end_time": "2024-06-23T10:56:55.850885",
     "exception": false,
     "start_time": "2024-06-23T10:56:54.059212",
     "status": "completed"
    },
    "tags": []
   },
   "outputs": [],
   "source": [
    "from langchain.document_loaders import WebBaseLoader\n",
    "\n",
    "loader = WebBaseLoader(\"https://github.com/youssefHosni/Getting-Started-with-Generative-AI\")\n",
    "docs = loader.load()"
   ]
  },
  {
   "cell_type": "code",
   "execution_count": 16,
   "id": "34a11251",
   "metadata": {
    "execution": {
     "iopub.execute_input": "2024-06-23T10:56:55.936117Z",
     "iopub.status.busy": "2024-06-23T10:56:55.935343Z",
     "iopub.status.idle": "2024-06-23T10:56:55.942318Z",
     "shell.execute_reply": "2024-06-23T10:56:55.940914Z"
    },
    "papermill": {
     "duration": 0.032902,
     "end_time": "2024-06-23T10:56:55.946141",
     "exception": false,
     "start_time": "2024-06-23T10:56:55.913239",
     "status": "completed"
    },
    "tags": []
   },
   "outputs": [
    {
     "name": "stdout",
     "output_type": "stream",
     "text": [
      "]\n",
      "Prompt Engineering Best Practices for Instruction-Tuned LLM [Part 2]\n",
      "Prompt Engineering for Instruction-Tuned LLM: Iterative Prompt Development\n",
      "\n",
      "Projects\n",
      "\n",
      "Automating YouTube Script Writing with LangChain and Streamlit: A Step-by-Step Guide\n",
      "Building a PDF-Chat App using LangChain, OpenAI API & Streamlit\n",
      "Top 10 Open Source LLMs To USE In Your Next LLM Application\n",
      "10 Large Language Models Projects To Build Your Portfolio\n",
      "10 Guided Large Language Models Projects to Build Your Portfolio\n",
      "\n",
      "Learning Resoruces & Roadmaps\n",
      "\n",
      "From Novice to Expert: A Comprehensive Step-by-Step Study Plan for Mastering LLMs\n",
      "Top 10 Large Language Models GitHub Repository\n",
      "Top Resources to Learn & Understand RLHF\n",
      "Top Resources to Master RAG: From Basic Level to Advanced\n",
      "Overview of LLM Quantization Techniques & Where to Learn Each of Them?\n",
      "6 Resources to Master Vector Databases & Building a Vector Storage\n",
      "5 Top Large Langauge Models Practical & Theoretical Courses\n",
      "What is LLMOps and How to Get Started With It\n",
      "\n",
      "\n",
      "LLM N\n"
     ]
    }
   ],
   "source": [
    "print(docs[0].page_content[6000:7000])"
   ]
  },
  {
   "cell_type": "code",
   "execution_count": 17,
   "id": "645efef0",
   "metadata": {
    "execution": {
     "iopub.execute_input": "2024-06-23T10:56:56.117361Z",
     "iopub.status.busy": "2024-06-23T10:56:56.116958Z",
     "iopub.status.idle": "2024-06-23T10:56:56.123633Z",
     "shell.execute_reply": "2024-06-23T10:56:56.122116Z"
    },
    "papermill": {
     "duration": 0.039406,
     "end_time": "2024-06-23T10:56:56.126493",
     "exception": false,
     "start_time": "2024-06-23T10:56:56.087087",
     "status": "completed"
    },
    "tags": []
   },
   "outputs": [],
   "source": [
    "DOCUMENT_MAP = {\n",
    "    \".csv\": CSVLoader,\n",
    "    \".xls\": UnstructuredExcelLoader,\n",
    "    \".xlsx\": UnstructuredExcelLoader,\n",
    "    \".docx\": Docx2txtLoader,\n",
    "    \".doc\": Docx2txtLoader,\n",
    "    }"
   ]
  },
  {
   "cell_type": "code",
   "execution_count": 18,
   "id": "637e2c1c",
   "metadata": {
    "execution": {
     "iopub.execute_input": "2024-06-23T10:56:56.212081Z",
     "iopub.status.busy": "2024-06-23T10:56:56.211623Z",
     "iopub.status.idle": "2024-06-23T10:56:56.243641Z",
     "shell.execute_reply": "2024-06-23T10:56:56.242369Z"
    },
    "papermill": {
     "duration": 0.058458,
     "end_time": "2024-06-23T10:56:56.247031",
     "exception": false,
     "start_time": "2024-06-23T10:56:56.188573",
     "status": "completed"
    },
    "tags": []
   },
   "outputs": [
    {
     "data": {
      "text/plain": [
       "[Document(page_content='Lorem ipsum \\n\\n\\n\\nLorem ipsum dolor sit amet, consectetur adipiscing elit. Nunc ac faucibus odio. \\n\\n\\n\\nVestibulum neque massa, scelerisque sit amet ligula eu, congue molestie mi. Praesent ut varius sem. Nullam at porttitor arcu, nec lacinia nisi. Ut ac dolor vitae odio interdum condimentum. Vivamus dapibus sodales ex, vitae malesuada ipsum cursus convallis. Maecenas sed egestas nulla, ac condimentum orci. Mauris diam felis, vulputate ac suscipit et, iaculis non est. Curabitur semper arcu ac ligula semper, nec luctus nisl blandit. Integer lacinia ante ac libero lobortis imperdiet. Nullam mollis convallis ipsum, ac accumsan nunc vehicula vitae. Nulla eget justo in felis tristique fringilla. Morbi sit amet tortor quis risus auctor condimentum. Morbi in ullamcorper elit. Nulla iaculis tellus sit amet mauris tempus fringilla.\\n\\nMaecenas mauris lectus, lobortis et purus mattis, blandit dictum tellus.\\n\\nMaecenas non lorem quis tellus placerat varius. \\n\\nNulla facilisi. \\n\\nAenean congue fringilla justo ut aliquam. \\n\\nMauris id ex erat. Nunc vulputate neque vitae justo facilisis, non condimentum ante sagittis. \\n\\nMorbi viverra semper lorem nec molestie. \\n\\nMaecenas tincidunt est efficitur ligula euismod, sit amet ornare est vulputate.\\n\\n\\n\\n\\n\\n\\n\\n\\n\\n\\n\\n\\n\\n\\n\\n\\n\\n\\n\\nIn non mauris justo. Duis vehicula mi vel mi pretium, a viverra erat efficitur. Cras aliquam est ac eros varius, id iaculis dui auctor. Duis pretium neque ligula, et pulvinar mi placerat et. Nulla nec nunc sit amet nunc posuere vestibulum. Ut id neque eget tortor mattis tristique. Donec ante est, blandit sit amet tristique vel, lacinia pulvinar arcu. Pellentesque scelerisque fermentum erat, id posuere justo pulvinar ut. Cras id eros sed enim aliquam lobortis. Sed lobortis nisl ut eros efficitur tincidunt. Cras justo mi, porttitor quis mattis vel, ultricies ut purus. Ut facilisis et lacus eu cursus.\\n\\nIn eleifend velit vitae libero sollicitudin euismod. Fusce vitae vestibulum velit. Pellentesque vulputate lectus quis pellentesque commodo. Aliquam erat volutpat. Vestibulum in egestas velit. Pellentesque fermentum nisl vitae fringilla venenatis. Etiam id mauris vitae orci maximus ultricies. \\n\\n\\n\\nCras fringilla ipsum magna, in fringilla dui commodo a.\\n\\n\\n\\n\\n\\nLorem ipsum\\n\\nLorem ipsum\\n\\nLorem ipsum\\n\\n1\\n\\nIn eleifend velit vitae libero sollicitudin euismod.\\n\\nLorem\\n\\n\\n\\n2\\n\\nCras fringilla ipsum magna, in fringilla dui commodo a.\\n\\nIpsum\\n\\n\\n\\n3\\n\\nAliquam erat volutpat. \\n\\nLorem\\n\\n\\n\\n4\\n\\nFusce vitae vestibulum velit. \\n\\nLorem\\n\\n\\n\\n5\\n\\nEtiam vehicula luctus fermentum.\\n\\nIpsum\\n\\n\\n\\n\\n\\nEtiam vehicula luctus fermentum. In vel metus congue, pulvinar lectus vel, fermentum dui. Maecenas ante orci, egestas ut aliquet sit amet, sagittis a magna. Aliquam ante quam, pellentesque ut dignissim quis, laoreet eget est. Aliquam erat volutpat. Class aptent taciti sociosqu ad litora torquent per conubia nostra, per inceptos himenaeos. Ut ullamcorper justo sapien, in cursus libero viverra eget. Vivamus auctor imperdiet urna, at pulvinar leo posuere laoreet. Suspendisse neque nisl, fringilla at iaculis scelerisque, ornare vel dolor. Ut et pulvinar nunc. Pellentesque fringilla mollis efficitur. Nullam venenatis commodo imperdiet. Morbi velit neque, semper quis lorem quis, efficitur dignissim ipsum. Ut ac lorem sed turpis imperdiet eleifend sit amet id sapien.\\n\\n\\n\\n\\n\\nLorem ipsum dolor sit amet, consectetur adipiscing elit. \\n\\n\\n\\nNunc ac faucibus odio. Vestibulum neque massa, scelerisque sit amet ligula eu, congue molestie mi. Praesent ut varius sem. Nullam at porttitor arcu, nec lacinia nisi. Ut ac dolor vitae odio interdum condimentum. Vivamus dapibus sodales ex, vitae malesuada ipsum cursus convallis. Maecenas sed egestas nulla, ac condimentum orci. Mauris diam felis, vulputate ac suscipit et, iaculis non est. Curabitur semper arcu ac ligula semper, nec luctus nisl blandit. Integer lacinia ante ac libero lobortis imperdiet. Nullam mollis convallis ipsum, ac accumsan nunc vehicula vitae. Nulla eget justo in felis tristique fringilla. Morbi sit amet tortor quis risus auctor condimentum. Morbi in ullamcorper elit. Nulla iaculis tellus sit amet mauris tempus fringilla.\\n\\nMaecenas mauris lectus, lobortis et purus mattis, blandit dictum tellus. \\n\\nMaecenas non lorem quis tellus placerat varius. Nulla facilisi. Aenean congue fringilla justo ut aliquam. Mauris id ex erat. Nunc vulputate neque vitae justo facilisis, non condimentum ante sagittis. Morbi viverra semper lorem nec molestie. Maecenas tincidunt est efficitur ligula euismod, sit amet ornare est vulputate.\\n\\nIn non mauris justo. Duis vehicula mi vel mi pretium, a viverra erat efficitur. Cras aliquam est ac eros varius, id iaculis dui auctor. Duis pretium neque ligula, et pulvinar mi placerat et. Nulla nec nunc sit amet nunc posuere vestibulum. Ut id neque eget tortor mattis tristique. Donec ante est, blandit sit amet tristique vel, lacinia pulvinar arcu. Pellentesque scelerisque fermentum erat, id posuere justo pulvinar ut. Cras id eros sed enim aliquam lobortis. Sed lobortis nisl ut eros efficitur tincidunt. Cras justo mi, porttitor quis mattis vel, ultricies ut purus. Ut facilisis et lacus eu cursus.\\n\\nIn eleifend velit vitae libero sollicitudin euismod. \\n\\nFusce vitae vestibulum velit. Pellentesque vulputate lectus quis pellentesque commodo. Aliquam erat volutpat. Vestibulum in egestas velit. Pellentesque fermentum nisl vitae fringilla venenatis. Etiam id mauris vitae orci maximus ultricies. Cras fringilla ipsum magna, in fringilla dui commodo a.\\n\\nEtiam vehicula luctus fermentum. In vel metus congue, pulvinar lectus vel, fermentum dui. Maecenas ante orci, egestas ut aliquet sit amet, sagittis a magna. Aliquam ante quam, pellentesque ut dignissim quis, laoreet eget est. Aliquam erat volutpat. Class aptent taciti sociosqu ad litora torquent per conubia nostra, per inceptos himenaeos. Ut ullamcorper justo sapien, in cursus libero viverra eget. Vivamus auctor imperdiet urna, at pulvinar leo posuere laoreet. Suspendisse neque nisl, fringilla at iaculis scelerisque, ornare vel dolor. Ut et pulvinar nunc. Pellentesque fringilla mollis efficitur. Nullam venenatis commodo imperdiet. Morbi velit neque, semper quis lorem quis, efficitur dignissim ipsum. Ut ac lorem sed turpis imperdiet eleifend sit amet id sapien.\\n\\n\\n\\n\\n\\n\\n\\nMaecenas mauris lectus, lobortis et purus mattis, blandit dictum tellus. \\n\\nMaecenas non lorem quis tellus placerat varius. Nulla facilisi. Aenean congue fringilla justo ut aliquam. Mauris id ex erat. Nunc vulputate neque vitae justo facilisis, non condimentum ante sagittis. Morbi viverra semper lorem nec molestie. Maecenas tincidunt est efficitur ligula euismod, sit amet ornare est vulputate.\\n\\nIn non mauris justo. Duis vehicula mi vel mi pretium, a viverra erat efficitur. Cras aliquam est ac eros varius, id iaculis dui auctor. Duis pretium neque ligula, et pulvinar mi placerat et. Nulla nec nunc sit amet nunc posuere vestibulum. Ut id neque eget tortor mattis tristique. Donec ante est, blandit sit amet tristique vel, lacinia pulvinar arcu. Pellentesque scelerisque fermentum erat, id posuere justo pulvinar ut. Cras id eros sed enim aliquam lobortis. Sed lobortis nisl ut eros efficitur tincidunt. Cras justo mi, porttitor quis mattis vel, ultricies ut purus. Ut facilisis et lacus eu cursus.\\n\\nIn eleifend velit vitae libero sollicitudin euismod. \\n\\nFusce vitae vestibulum velit. Pellentesque vulputate lectus quis pellentesque commodo. Aliquam erat volutpat. Vestibulum in egestas velit. Pellentesque fermentum nisl vitae fringilla venenatis. Etiam id mauris vitae orci maximus ultricies. Cras fringilla ipsum magna, in fringilla dui commodo a.\\n\\nEtiam vehicula luctus fermentum. In vel metus congue, pulvinar lectus vel, fermentum dui. Maecenas ante orci, egestas ut aliquet sit amet, sagittis a magna. Aliquam ante quam, pellentesque ut dignissim quis, laoreet eget est. Aliquam erat volutpat. Class aptent taciti sociosqu ad litora torquent per conubia nostra, per inceptos himenaeos. Ut ullamcorper justo sapien, in cursus libero viverra eget. Vivamus auctor imperdiet urna, at pulvinar leo posuere laoreet. Suspendisse neque nisl, fringilla at iaculis scelerisque, ornare vel dolor. Ut et pulvinar nunc. Pellentesque fringilla mollis efficitur. Nullam venenatis commodo imperdiet. Morbi velit neque, semper quis lorem quis, efficitur dignissim ipsum. Ut ac lorem sed turpis imperdiet eleifend sit amet id sapien.', metadata={'source': '/kaggle/input/sample-docx-file/file-sample_1MB.docx'})]"
      ]
     },
     "execution_count": 18,
     "metadata": {},
     "output_type": "execute_result"
    }
   ],
   "source": [
    "docx_file_path = \"/kaggle/input/sample-docx-file/file-sample_1MB.docx\"\n",
    "file_extension = os.path.splitext(docx_file_path)[1]\n",
    "loader_class = DOCUMENT_MAP.get(file_extension)\n",
    "\n",
    "loader = loader_class(docx_file_path)\n",
    "loader.load()"
   ]
  }
 ],
 "metadata": {
  "kaggle": {
   "accelerator": "none",
   "dataSources": [
    {
     "datasetId": 3716991,
     "sourceId": 6440459,
     "sourceType": "datasetVersion"
    },
    {
     "datasetId": 5174412,
     "sourceId": 8640145,
     "sourceType": "datasetVersion"
    },
    {
     "datasetId": 5263056,
     "sourceId": 8760014,
     "sourceType": "datasetVersion"
    },
    {
     "datasetId": 5263092,
     "sourceId": 8760059,
     "sourceType": "datasetVersion"
    },
    {
     "datasetId": 5263184,
     "sourceId": 8760172,
     "sourceType": "datasetVersion"
    }
   ],
   "dockerImageVersionId": 30732,
   "isGpuEnabled": false,
   "isInternetEnabled": true,
   "language": "python",
   "sourceType": "notebook"
  },
  "kernelspec": {
   "display_name": "Python 3",
   "language": "python",
   "name": "python3"
  },
  "language_info": {
   "codemirror_mode": {
    "name": "ipython",
    "version": 3
   },
   "file_extension": ".py",
   "mimetype": "text/x-python",
   "name": "python",
   "nbconvert_exporter": "python",
   "pygments_lexer": "ipython3",
   "version": "3.10.13"
  },
  "papermill": {
   "default_parameters": {},
   "duration": 380.029315,
   "end_time": "2024-06-23T10:56:58.010213",
   "environment_variables": {},
   "exception": null,
   "input_path": "__notebook__.ipynb",
   "output_path": "__notebook__.ipynb",
   "parameters": {},
   "start_time": "2024-06-23T10:50:37.980898",
   "version": "2.5.0"
  }
 },
 "nbformat": 4,
 "nbformat_minor": 5
}
